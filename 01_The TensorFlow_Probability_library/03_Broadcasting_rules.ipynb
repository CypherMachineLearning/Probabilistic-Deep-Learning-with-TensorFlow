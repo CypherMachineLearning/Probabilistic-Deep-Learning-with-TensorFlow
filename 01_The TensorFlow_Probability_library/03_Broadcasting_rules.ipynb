{
  "nbformat": 4,
  "nbformat_minor": 0,
  "metadata": {
    "kernelspec": {
      "display_name": "Python 3",
      "language": "python",
      "name": "python3"
    },
    "language_info": {
      "codemirror_mode": {
        "name": "ipython",
        "version": 3
      },
      "file_extension": ".py",
      "mimetype": "text/x-python",
      "name": "python",
      "nbconvert_exporter": "python",
      "pygments_lexer": "ipython3",
      "version": "3.7.1"
    },
    "colab": {
      "name": "03_Broadcasting rules.ipynb",
      "provenance": [],
      "toc_visible": true,
      "include_colab_link": true
    }
  },
  "cells": [
    {
      "cell_type": "markdown",
      "metadata": {
        "id": "view-in-github",
        "colab_type": "text"
      },
      "source": [
        "<a href=\"https://colab.research.google.com/github/mohd-faizy/07T_Probabilistic-Deep-Learning-with-TensorFlow/blob/main/03_Broadcasting_rules.ipynb\" target=\"_parent\"><img src=\"https://colab.research.google.com/assets/colab-badge.svg\" alt=\"Open In Colab\"/></a>"
      ]
    },
    {
      "cell_type": "markdown",
      "metadata": {
        "id": "u22B1Rkc8kn8"
      },
      "source": [
        "--- \n",
        "<strong> \n",
        "    <h1 align='center'>Broadcasting rules</h1> \n",
        "</strong>\n",
        "\n",
        "---"
      ]
    },
    {
      "cell_type": "markdown",
      "metadata": {
        "id": "Tta2UbPz8kn9"
      },
      "source": [
        "This reading will introduce you to numpy's broadcasting rules and show how you can use broadcasting when specifying batches of distributions in TensorFlow, as well as with the `prob` and `log_prob` methods.\n",
        "\n",
        "Broadcasting will also be discussed and demonstrated in the following videos."
      ]
    },
    {
      "cell_type": "code",
      "metadata": {
        "colab": {
          "base_uri": "https://localhost:8080/"
        },
        "id": "-wSR6Zhj8kn9",
        "outputId": "0383b3f6-b790-4aee-dfd6-b3fffb018c53"
      },
      "source": [
        "import tensorflow as tf\n",
        "import tensorflow_probability as tfp\n",
        "tfd = tfp.distributions\n",
        "\n",
        "print(\"TF version:\", tf.__version__)\n",
        "print(\"TFP version:\", tfp.__version__)"
      ],
      "execution_count": 1,
      "outputs": [
        {
          "output_type": "stream",
          "text": [
            "TF version: 2.3.0\n",
            "TFP version: 0.11.0\n"
          ],
          "name": "stdout"
        }
      ]
    },
    {
      "cell_type": "code",
      "metadata": {
        "id": "1aUmC88D8koA"
      },
      "source": [
        "import numpy as np"
      ],
      "execution_count": 2,
      "outputs": []
    },
    {
      "cell_type": "markdown",
      "metadata": {
        "id": "3dAUcHVv8koB"
      },
      "source": [
        "## Operations on arrays of different sizes in numpy"
      ]
    },
    {
      "cell_type": "markdown",
      "metadata": {
        "id": "NMLt0FAI8koB"
      },
      "source": [
        "Numpy operations can be applied to arrays that are not of the same shape, but only if the shapes satisfy certain conditions.\n",
        "\n",
        "As a demonstration of this, let us add together two arrays of different shapes:"
      ]
    },
    {
      "cell_type": "code",
      "metadata": {
        "colab": {
          "base_uri": "https://localhost:8080/"
        },
        "id": "F0qNpdIi8koB",
        "outputId": "4d4f6e96-5a2d-498b-b306-00e4a27cdd6c"
      },
      "source": [
        "# Add two arrays with different shapes\n",
        "\n",
        "a = np.array([[1.],\n",
        "              [2.],\n",
        "              [3.],\n",
        "              [4.]])  # shape (4, 1)\n",
        "\n",
        "b = np.array([0., 1., 2.])  # shape (3,) \n",
        "\n",
        "a + b"
      ],
      "execution_count": 3,
      "outputs": [
        {
          "output_type": "execute_result",
          "data": {
            "text/plain": [
              "array([[1., 2., 3.],\n",
              "       [2., 3., 4.],\n",
              "       [3., 4., 5.],\n",
              "       [4., 5., 6.]])"
            ]
          },
          "metadata": {
            "tags": []
          },
          "execution_count": 3
        }
      ]
    },
    {
      "cell_type": "markdown",
      "metadata": {
        "id": "15-u7uMx8koC"
      },
      "source": [
        "This is the addition\n",
        "\n",
        "    [ [1.],    +  [0., 1., 2.]  \n",
        "      [2.],  \n",
        "      [3.],  \n",
        "      [4.] ]\n",
        "\n",
        "To execute it, numpy:\n",
        "1. Aligned the shapes of `a` and `b` on the last axis and prepended 1s to the shape with fewer axes:\n",
        "        a: 4 x 1     --->    a: 4 x 1\n",
        "        b:     3     --->    b: 1 x 3\n",
        "        \n",
        "\n",
        "2. Checked that the sizes of the axes matched or were equal to 1:\n",
        "        a: 4 x 1  \n",
        "        b: 1 x 3\n",
        "`a` and `b` satisfied this criterion. \n",
        "\n",
        "\n",
        "3. Stretched both arrays on their 1-valued axes so that their shapes matched, then added them together.  \n",
        "`a` was replicated 3 times in the second axis, while `b` was replicated 4 times in the first axis.\n",
        "\n",
        "This meant that the addition in the final step was\n",
        "\n",
        "    [ [1., 1., 1.],    +  [ [0., 1., 2.],  \n",
        "      [2., 2., 2.],         [0., 1., 2.],  \n",
        "      [3., 3., 3.],         [0., 1., 2.],  \n",
        "      [4., 4., 4.] ]        [0., 1., 2.] ]\n",
        "      \n",
        "Addition was then carried out element-by-element, as you can verify by referring back to the output of the code cell above.  \n",
        "This resulted in an output with shape 4 x 3.\n",
        "\n",
        "\n",
        "## Numpy's broadcasting rule\n",
        "\n",
        "Broadcasting rules describe how values should be transmitted when the inputs to an operation do not match.  \n",
        "In numpy, the broadcasting rule is very simple:\n",
        "> Prepend 1s to the smaller shape,   \n",
        "check that the axes of both arrays have sizes that are equal or 1,  \n",
        "then stretch the arrays in their size-1 axes.\n",
        "\n",
        "A crucial aspect of this rule is that it does not require the input arrays have the same number of axes.  \n",
        "Another consequence of it is that a broadcasting output will have the largest size of its inputs in each axis.  \n",
        "Take the following multiplication as an example:\n",
        "\n",
        "        a: 3 x 7 x 1  \n",
        "        b:     1 x 5  \n",
        "    a * b: 3 x 7 x 5\n",
        "\n",
        "You can see that the output shape is the maximum of the sizes in each axis.\n",
        "\n",
        "Numpy's broadcasting rule also does not require that one of the arrays has to be bigger in all axes.  \n",
        "This is seen in the following example, where `a` is smaller than `b` in its third axis but is bigger in its second axis."
      ]
    },
    {
      "cell_type": "code",
      "metadata": {
        "colab": {
          "base_uri": "https://localhost:8080/"
        },
        "id": "M1NDuFnF8koC",
        "outputId": "c8219dae-293b-4105-e031-8d0164cee147"
      },
      "source": [
        "# Multiply two arrays with different shapes\n",
        "\n",
        "a = np.array([[[0.01], [0.1]],\n",
        "              [[1.00], [10.]]])  # shape (2, 2, 1)\n",
        "b = np.array([[[2., 2.]],\n",
        "              [[3., 3.]]])       # shape (2, 1, 2)\n",
        "\n",
        "a * b # shape (2, 2, 2)"
      ],
      "execution_count": 4,
      "outputs": [
        {
          "output_type": "execute_result",
          "data": {
            "text/plain": [
              "array([[[2.e-02, 2.e-02],\n",
              "        [2.e-01, 2.e-01]],\n",
              "\n",
              "       [[3.e+00, 3.e+00],\n",
              "        [3.e+01, 3.e+01]]])"
            ]
          },
          "metadata": {
            "tags": []
          },
          "execution_count": 4
        }
      ]
    },
    {
      "cell_type": "markdown",
      "metadata": {
        "id": "Blx1JnMp8koC"
      },
      "source": [
        "Broadcasting behaviour also points to an efficient way to compute an outer product in numpy:"
      ]
    },
    {
      "cell_type": "code",
      "metadata": {
        "colab": {
          "base_uri": "https://localhost:8080/"
        },
        "id": "hDfBuquh8koC",
        "outputId": "0a08ef80-1c5f-4960-88a3-776b9e9ec665"
      },
      "source": [
        "# Use broadcasting to compute an outer product\n",
        "\n",
        "a = np.array([-1., 0., 1.])\n",
        "b = np.array([0., 1., 2., 3.])\n",
        "\n",
        "a[:, np.newaxis] * b  # outer product ab^T, where a and b are column vectors"
      ],
      "execution_count": 5,
      "outputs": [
        {
          "output_type": "execute_result",
          "data": {
            "text/plain": [
              "array([[-0., -1., -2., -3.],\n",
              "       [ 0.,  0.,  0.,  0.],\n",
              "       [ 0.,  1.,  2.,  3.]])"
            ]
          },
          "metadata": {
            "tags": []
          },
          "execution_count": 5
        }
      ]
    },
    {
      "cell_type": "markdown",
      "metadata": {
        "id": "yIbOmTLP8koH"
      },
      "source": [
        "The idea of numpy stretching the arrays in their size-1 axes is useful and is functionally correct. But this is not what numpy literally does behind the scenes, since that would be an inefficient use of memory. Instead, numpy carries out the operation by looping over singleton (size-1) dimensions.\n",
        "\n",
        "To give you some practise with broadcasting, try predicting the output shapes for the following operations:"
      ]
    },
    {
      "cell_type": "code",
      "metadata": {
        "id": "aCcCL5V28koH"
      },
      "source": [
        "# Define three arrays with different shapes\n",
        "\n",
        "a = [[1.], [2.], [3.]]\n",
        "b = np.zeros(shape=[10, 1, 1])\n",
        "c = np.ones(shape=[4])"
      ],
      "execution_count": 6,
      "outputs": []
    },
    {
      "cell_type": "code",
      "metadata": {
        "colab": {
          "base_uri": "https://localhost:8080/"
        },
        "id": "taBcBo6R8koI",
        "outputId": "42b376f4-3b9a-4a2b-ec9d-6c3a9d519aab"
      },
      "source": [
        "# Predict the shape before executing this cell\n",
        "\n",
        "(a + b).shape"
      ],
      "execution_count": 7,
      "outputs": [
        {
          "output_type": "execute_result",
          "data": {
            "text/plain": [
              "(10, 3, 1)"
            ]
          },
          "metadata": {
            "tags": []
          },
          "execution_count": 7
        }
      ]
    },
    {
      "cell_type": "code",
      "metadata": {
        "colab": {
          "base_uri": "https://localhost:8080/"
        },
        "id": "euqaYwlh8koN",
        "outputId": "2c083618-ed35-4c8f-cc5b-70b2acd3d6ba"
      },
      "source": [
        "# Predict the shape before executing this cell\n",
        "\n",
        "(a*c).shape"
      ],
      "execution_count": 8,
      "outputs": [
        {
          "output_type": "execute_result",
          "data": {
            "text/plain": [
              "(3, 4)"
            ]
          },
          "metadata": {
            "tags": []
          },
          "execution_count": 8
        }
      ]
    },
    {
      "cell_type": "code",
      "metadata": {
        "colab": {
          "base_uri": "https://localhost:8080/"
        },
        "id": "reVCWpA88koP",
        "outputId": "aa0b2a0a-47a6-468f-953e-815b9824302a"
      },
      "source": [
        "# Predict the shape before executing this cell\n",
        "\n",
        "(a*b + c).shape"
      ],
      "execution_count": 9,
      "outputs": [
        {
          "output_type": "execute_result",
          "data": {
            "text/plain": [
              "(10, 3, 4)"
            ]
          },
          "metadata": {
            "tags": []
          },
          "execution_count": 9
        }
      ]
    },
    {
      "cell_type": "markdown",
      "metadata": {
        "id": "BPkJ6iCo8koP"
      },
      "source": [
        "## Broadcasting for univariate TensorFlow Distributions"
      ]
    },
    {
      "cell_type": "markdown",
      "metadata": {
        "id": "vL-hXlvi8koP"
      },
      "source": [
        "The broadcasting rule for TensorFlow is the same as that for numpy. For example, TensorFlow also allows you to specify the parameters of Distribution objects using broadcasting. \n",
        "\n",
        "What is meant by this can be understood through an example with the univariate normal distribution. Say that we wish to specify a parameter grid for six Gaussians. The parameter combinations to be used, `(loc, scale)`, are:  \n",
        "\n",
        "    (0, 1)  \n",
        "    (0, 10)  \n",
        "    (0, 100)  \n",
        "    (1, 1)  \n",
        "    (1, 10)  \n",
        "    (1, 100)\n",
        "    \n",
        "A laborious way of doing this is to explicitly pass each parameter to `tfd.Normal`:"
      ]
    },
    {
      "cell_type": "code",
      "metadata": {
        "id": "iTdq3GMG8koP"
      },
      "source": [
        "# Define a batch of Normal distributions without broadcasting\n",
        "\n",
        "batch_of_normals = tfd.Normal(loc=[0., 0., 0., 1., 1., 1.], scale=[1., 10., 100., 1., 10., 100.])"
      ],
      "execution_count": 10,
      "outputs": []
    },
    {
      "cell_type": "code",
      "metadata": {
        "colab": {
          "base_uri": "https://localhost:8080/"
        },
        "id": "imKrxv2J8koP",
        "outputId": "71ffd300-78c4-44df-c878-b7f03e7f0952"
      },
      "source": [
        "# Print the distribution and notice the batch and event shapes\n",
        "\n",
        "batch_of_normals"
      ],
      "execution_count": 11,
      "outputs": [
        {
          "output_type": "execute_result",
          "data": {
            "text/plain": [
              "<tfp.distributions.Normal 'Normal' batch_shape=[6] event_shape=[] dtype=float32>"
            ]
          },
          "metadata": {
            "tags": []
          },
          "execution_count": 11
        }
      ]
    },
    {
      "cell_type": "code",
      "metadata": {
        "colab": {
          "base_uri": "https://localhost:8080/"
        },
        "id": "4Bhi698v8koP",
        "outputId": "27dd4ad8-a2cb-4188-9209-b0876e9aead5"
      },
      "source": [
        "# Check the parameter values for loc\n",
        "\n",
        "batch_of_normals.loc"
      ],
      "execution_count": 12,
      "outputs": [
        {
          "output_type": "execute_result",
          "data": {
            "text/plain": [
              "<tf.Tensor: shape=(6,), dtype=float32, numpy=array([0., 0., 0., 1., 1., 1.], dtype=float32)>"
            ]
          },
          "metadata": {
            "tags": []
          },
          "execution_count": 12
        }
      ]
    },
    {
      "cell_type": "code",
      "metadata": {
        "colab": {
          "base_uri": "https://localhost:8080/"
        },
        "id": "ovpDXWRt8koQ",
        "outputId": "b28b0cf1-20be-4082-996b-8e5993c2af25"
      },
      "source": [
        "# Check the parameter values for scale\n",
        "\n",
        "batch_of_normals.scale"
      ],
      "execution_count": 13,
      "outputs": [
        {
          "output_type": "execute_result",
          "data": {
            "text/plain": [
              "<tf.Tensor: shape=(6,), dtype=float32, numpy=array([  1.,  10., 100.,   1.,  10., 100.], dtype=float32)>"
            ]
          },
          "metadata": {
            "tags": []
          },
          "execution_count": 13
        }
      ]
    },
    {
      "cell_type": "markdown",
      "metadata": {
        "id": "7dSOG3l18koQ"
      },
      "source": [
        "A more succinct way to create a batch of distributions for this parameter grid is to use broadcasting.  \n",
        "Consider what would happen if we were to broadcast these arrays according the rule discussed earlier: \n",
        "    \n",
        "    loc = [ [0.],\n",
        "            [1.] ]\n",
        "    scale = [1., 10., 100.]\n",
        "    \n",
        "The shapes would be stretched according to\n",
        "\n",
        "    loc:   2 x 1 ---> 2 x 3\n",
        "    scale: 1 x 3 ---> 2 x 3\n",
        "    \n",
        "resulting in\n",
        "\n",
        "    loc = [ [0., 0., 0.],\n",
        "            [1., 1., 1.] ]\n",
        "    scale = [ [1., 10., 100.],\n",
        "              [1., 10., 100.] ]\n",
        "              \n",
        "which are compatible with the `loc` and `scale` arguments of `tfd.Normal`.  \n",
        "Sure enough, this is precisely what TensorFlow does:"
      ]
    },
    {
      "cell_type": "code",
      "metadata": {
        "id": "okN7igJg8koQ"
      },
      "source": [
        "# Define a batch of Normal distributions with broadcasting\n",
        "\n",
        "loc = [[0.],\n",
        "       [1.]]\n",
        "scale = [1., 10., 100.]\n",
        "\n",
        "another_batch_of_normals = tfd.Normal(loc=loc, scale=scale)"
      ],
      "execution_count": 14,
      "outputs": []
    },
    {
      "cell_type": "code",
      "metadata": {
        "colab": {
          "base_uri": "https://localhost:8080/"
        },
        "id": "v51ESPXx8koQ",
        "outputId": "aecfe203-d0ba-482f-ff17-cd0564ff9b62"
      },
      "source": [
        "# Print the distribution and notice the batch and event shapes\n",
        "\n",
        "another_batch_of_normals"
      ],
      "execution_count": 15,
      "outputs": [
        {
          "output_type": "execute_result",
          "data": {
            "text/plain": [
              "<tfp.distributions.Normal 'Normal' batch_shape=[2, 3] event_shape=[] dtype=float32>"
            ]
          },
          "metadata": {
            "tags": []
          },
          "execution_count": 15
        }
      ]
    },
    {
      "cell_type": "code",
      "metadata": {
        "colab": {
          "base_uri": "https://localhost:8080/"
        },
        "id": "3SuxvBRA8koQ",
        "outputId": "5dc7e8b1-36a1-4ca3-9438-fed800f27dac"
      },
      "source": [
        "# The stored loc parameter values are what you pass in, not what is used after broadcasting\n",
        "\n",
        "another_batch_of_normals.loc"
      ],
      "execution_count": 16,
      "outputs": [
        {
          "output_type": "execute_result",
          "data": {
            "text/plain": [
              "<tf.Tensor: shape=(2, 1), dtype=float32, numpy=\n",
              "array([[0.],\n",
              "       [1.]], dtype=float32)>"
            ]
          },
          "metadata": {
            "tags": []
          },
          "execution_count": 16
        }
      ]
    },
    {
      "cell_type": "code",
      "metadata": {
        "colab": {
          "base_uri": "https://localhost:8080/"
        },
        "id": "X_eWXSyH8koQ",
        "outputId": "97861189-ef3a-4bdc-a0b5-333c462659d9"
      },
      "source": [
        "# The stored scale parameter values are what you pass in, not what is used after broadcasting\n",
        "\n",
        "another_batch_of_normals.scale"
      ],
      "execution_count": 17,
      "outputs": [
        {
          "output_type": "execute_result",
          "data": {
            "text/plain": [
              "<tf.Tensor: shape=(3,), dtype=float32, numpy=array([  1.,  10., 100.], dtype=float32)>"
            ]
          },
          "metadata": {
            "tags": []
          },
          "execution_count": 17
        }
      ]
    },
    {
      "cell_type": "markdown",
      "metadata": {
        "id": "b5GLraec8koQ"
      },
      "source": [
        "In summary, TensorFlow broadcasts parameter arrays: it stretches them according to the broadcasting rule, then creates a distribution on an element-by-element basis."
      ]
    },
    {
      "cell_type": "markdown",
      "metadata": {
        "id": "JfRLaMHe8koQ"
      },
      "source": [
        "#### Broadcasting with `prob` and `log_prob` methods"
      ]
    },
    {
      "cell_type": "markdown",
      "metadata": {
        "id": "xnqgA3178koQ"
      },
      "source": [
        "When using `prob` and  `log_prob` with broadcasting, we follow the same principles as before. Let's make a new batch of normals as before but with means which are centered at different locations to help distinguish the results we get."
      ]
    },
    {
      "cell_type": "code",
      "metadata": {
        "colab": {
          "base_uri": "https://localhost:8080/"
        },
        "id": "jxHb_-Mv8koQ",
        "outputId": "75c35d37-3de1-46df-cda4-8e98bd67285e"
      },
      "source": [
        "# Define a batch of Normal distributions with broadcasting\n",
        "\n",
        "loc = [[0.],\n",
        "       [10.]]\n",
        "scale = [1., 1., 1.]\n",
        "\n",
        "another_batch_of_normals = tfd.Normal(loc=loc, scale=scale)\n",
        "another_batch_of_normals"
      ],
      "execution_count": 18,
      "outputs": [
        {
          "output_type": "execute_result",
          "data": {
            "text/plain": [
              "<tfp.distributions.Normal 'Normal' batch_shape=[2, 3] event_shape=[] dtype=float32>"
            ]
          },
          "metadata": {
            "tags": []
          },
          "execution_count": 18
        }
      ]
    },
    {
      "cell_type": "markdown",
      "metadata": {
        "id": "9oHNZlUh8koR"
      },
      "source": [
        "We can feed in samples of any shape as long as it can be broadcast agasint our batch shape for this example. "
      ]
    },
    {
      "cell_type": "code",
      "metadata": {
        "colab": {
          "base_uri": "https://localhost:8080/"
        },
        "id": "cZWPr-Mb8koR",
        "outputId": "c1e7f6a1-ec30-4391-b0dd-f7fdc31dd3ba"
      },
      "source": [
        "# Use broadcasting along the second axis with the prob method\n",
        "\n",
        "sample = tf.random.uniform((2,1))\n",
        "another_batch_of_normals.prob(sample)"
      ],
      "execution_count": 19,
      "outputs": [
        {
          "output_type": "execute_result",
          "data": {
            "text/plain": [
              "<tf.Tensor: shape=(2, 3), dtype=float32, numpy=\n",
              "array([[3.1957522e-01, 3.1957522e-01, 3.1957522e-01],\n",
              "       [7.2613391e-20, 7.2613391e-20, 7.2613391e-20]], dtype=float32)>"
            ]
          },
          "metadata": {
            "tags": []
          },
          "execution_count": 19
        }
      ]
    },
    {
      "cell_type": "markdown",
      "metadata": {
        "id": "qac-9KVM8koR"
      },
      "source": [
        "Or boradcasting along the first axis instead:"
      ]
    },
    {
      "cell_type": "code",
      "metadata": {
        "colab": {
          "base_uri": "https://localhost:8080/"
        },
        "id": "kYyYD9uT8koR",
        "outputId": "65b147f0-380e-44d6-8809-54fb660eea9b"
      },
      "source": [
        "# Use broadcasting along the first axis with the prob method\n",
        "\n",
        "sample = tf.random.uniform((1,3))\n",
        "another_batch_of_normals.prob(sample)"
      ],
      "execution_count": 20,
      "outputs": [
        {
          "output_type": "execute_result",
          "data": {
            "text/plain": [
              "<tf.Tensor: shape=(2, 3), dtype=float32, numpy=\n",
              "array([[2.5843340e-01, 3.4134403e-01, 2.7235299e-01],\n",
              "       [5.5542914e-19, 1.7527954e-20, 3.2737679e-19]], dtype=float32)>"
            ]
          },
          "metadata": {
            "tags": []
          },
          "execution_count": 20
        }
      ]
    },
    {
      "cell_type": "markdown",
      "metadata": {
        "id": "Q-l0idhJ8koR"
      },
      "source": [
        "Or even both axes:"
      ]
    },
    {
      "cell_type": "code",
      "metadata": {
        "colab": {
          "base_uri": "https://localhost:8080/"
        },
        "id": "OgNxkQp68koR",
        "outputId": "4803c8bc-71aa-410a-fddf-8a24495c9894"
      },
      "source": [
        "# Use broadcasting along both axes with the prob method\n",
        "\n",
        "sample = tf.random.uniform((1,1))\n",
        "another_batch_of_normals.prob(sample)"
      ],
      "execution_count": 21,
      "outputs": [
        {
          "output_type": "execute_result",
          "data": {
            "text/plain": [
              "<tf.Tensor: shape=(2, 3), dtype=float32, numpy=\n",
              "array([[2.8816307e-01, 2.8816307e-01, 2.8816307e-01],\n",
              "       [1.7695787e-19, 1.7695787e-19, 1.7695787e-19]], dtype=float32)>"
            ]
          },
          "metadata": {
            "tags": []
          },
          "execution_count": 21
        }
      ]
    },
    {
      "cell_type": "markdown",
      "metadata": {
        "id": "3YYvBkWQ8koS"
      },
      "source": [
        "`log_prob` works in the exact same way with broadcasting. We can replace `prob` with `log_prob` in any of the previous examples:"
      ]
    },
    {
      "cell_type": "code",
      "metadata": {
        "colab": {
          "base_uri": "https://localhost:8080/"
        },
        "id": "D7F1FCPL8koT",
        "outputId": "c848091d-4810-4958-c194-fca2aea32994"
      },
      "source": [
        "# Use broadcasting along the first axis with the log_prob method\n",
        "\n",
        "sample = tf.random.uniform((1,3))\n",
        "another_batch_of_normals.log_prob(sample)"
      ],
      "execution_count": 22,
      "outputs": [
        {
          "output_type": "execute_result",
          "data": {
            "text/plain": [
              "<tf.Tensor: shape=(2, 3), dtype=float32, numpy=\n",
              "array([[ -1.3735203,  -1.2127007,  -0.962882 ],\n",
              "       [-41.838512 , -43.547688 , -47.99831  ]], dtype=float32)>"
            ]
          },
          "metadata": {
            "tags": []
          },
          "execution_count": 22
        }
      ]
    },
    {
      "cell_type": "markdown",
      "metadata": {
        "id": "znuFV3-r8koT"
      },
      "source": [
        "## Broadcasting for multivariate TensorFlow distributions"
      ]
    },
    {
      "cell_type": "markdown",
      "metadata": {
        "id": "K-bD2nhy8koT"
      },
      "source": [
        "Broadcasting behaviour for multivariate distributions is only a little more sophisticated than it is for univariate distributions.\n",
        "\n",
        "Recall that `MultivariateNormalDiag` has two parameter arguments: `loc` and `scale_diag`. When specifying a single distribution, these arguments are vectors of the same length:"
      ]
    },
    {
      "cell_type": "code",
      "metadata": {
        "colab": {
          "base_uri": "https://localhost:8080/"
        },
        "id": "S1k6kBom8koT",
        "outputId": "7a02bc60-2683-4145-d58d-7ac8d3aaac31"
      },
      "source": [
        "# Define a multivariate Gaussian distribution without broadcasting\n",
        "\n",
        "single_mvt_normal = tfd.MultivariateNormalDiag(loc=[0., 0.], scale_diag=[1., 0.5])\n",
        "single_mvt_normal"
      ],
      "execution_count": 23,
      "outputs": [
        {
          "output_type": "execute_result",
          "data": {
            "text/plain": [
              "<tfp.distributions.MultivariateNormalDiag 'MultivariateNormalDiag' batch_shape=[] event_shape=[2] dtype=float32>"
            ]
          },
          "metadata": {
            "tags": []
          },
          "execution_count": 23
        }
      ]
    },
    {
      "cell_type": "code",
      "metadata": {
        "colab": {
          "base_uri": "https://localhost:8080/"
        },
        "id": "dWy29LPG8koU",
        "outputId": "3039edb0-2cfe-482b-da65-af6bbbb81430"
      },
      "source": [
        "# Print the loc parameter\n",
        "\n",
        "single_mvt_normal.loc"
      ],
      "execution_count": 24,
      "outputs": [
        {
          "output_type": "execute_result",
          "data": {
            "text/plain": [
              "<tf.Tensor: shape=(2,), dtype=float32, numpy=array([0., 0.], dtype=float32)>"
            ]
          },
          "metadata": {
            "tags": []
          },
          "execution_count": 24
        }
      ]
    },
    {
      "cell_type": "code",
      "metadata": {
        "colab": {
          "base_uri": "https://localhost:8080/"
        },
        "id": "EOWEWMzv8koU",
        "outputId": "1841a535-17af-407c-a8d1-f9ef4bb48f03"
      },
      "source": [
        "# Print the covariance matrix - the diagonal is scale_diag^2\n",
        "\n",
        "single_mvt_normal.covariance()"
      ],
      "execution_count": 25,
      "outputs": [
        {
          "output_type": "execute_result",
          "data": {
            "text/plain": [
              "<tf.Tensor: shape=(2, 2), dtype=float32, numpy=\n",
              "array([[1.  , 0.  ],\n",
              "       [0.  , 0.25]], dtype=float32)>"
            ]
          },
          "metadata": {
            "tags": []
          },
          "execution_count": 25
        }
      ]
    },
    {
      "cell_type": "markdown",
      "metadata": {
        "id": "jKHrLxCS8koU"
      },
      "source": [
        "The size of the final axis of the inputs determines the event shape for each distribution in the batch.  This means that if we pass\n",
        "    \n",
        "    loc = [ [0., 0.],\n",
        "            [1., 1.] ]\n",
        "    scale_diag = [1., 0.5]\n",
        "    \n",
        "such that\n",
        "\n",
        "    loc:        2 x 2\n",
        "    scale_diag: 1 x 2\n",
        "                    ^ final dimension is interpreted as event dimension\n",
        "                ^ other dimensions are interpreted as batch dimensions  \n",
        "then a batch of two bivariate normal distributions will be created."
      ]
    },
    {
      "cell_type": "code",
      "metadata": {
        "id": "fre_uxsP8koU"
      },
      "source": [
        "# Define a multivariate Gaussian distribution with broadcasting\n",
        "\n",
        "loc = [ [0., 0.],\n",
        "        [1., 1.] ]\n",
        "scale_diag = [1., 0.5]\n",
        "\n",
        "batch_of_mvt_normals = tfd.MultivariateNormalDiag(loc=loc, scale_diag=scale_diag)"
      ],
      "execution_count": 26,
      "outputs": []
    },
    {
      "cell_type": "code",
      "metadata": {
        "colab": {
          "base_uri": "https://localhost:8080/"
        },
        "id": "PFzUOvmn8koU",
        "outputId": "826742a4-2b3b-4a52-9e6e-ab61740cbafe"
      },
      "source": [
        "# Print the distribution - note the event_shape and batch_shape\n",
        "\n",
        "batch_of_mvt_normals"
      ],
      "execution_count": 27,
      "outputs": [
        {
          "output_type": "execute_result",
          "data": {
            "text/plain": [
              "<tfp.distributions.MultivariateNormalDiag 'MultivariateNormalDiag' batch_shape=[2] event_shape=[2] dtype=float32>"
            ]
          },
          "metadata": {
            "tags": []
          },
          "execution_count": 27
        }
      ]
    },
    {
      "cell_type": "code",
      "metadata": {
        "colab": {
          "base_uri": "https://localhost:8080/"
        },
        "id": "JIo-9K_L8koU",
        "outputId": "2c126fce-e7c8-4d8f-b353-9e131d54e625"
      },
      "source": [
        "# Print the distribution parameters\n",
        "# There is a batch of two distributions with different means and same covariance\n",
        "\n",
        "batch_of_mvt_normals.parameters"
      ],
      "execution_count": 28,
      "outputs": [
        {
          "output_type": "execute_result",
          "data": {
            "text/plain": [
              "{'allow_nan_stats': True,\n",
              " 'loc': ListWrapper([ListWrapper([0.0, 0.0]), ListWrapper([1.0, 1.0])]),\n",
              " 'name': 'MultivariateNormalDiag',\n",
              " 'scale_diag': ListWrapper([1.0, 0.5]),\n",
              " 'scale_identity_multiplier': None,\n",
              " 'validate_args': False}"
            ]
          },
          "metadata": {
            "tags": []
          },
          "execution_count": 28
        }
      ]
    },
    {
      "cell_type": "markdown",
      "metadata": {
        "id": "wjlTBd6V8koU"
      },
      "source": [
        "Knowing that, for multivariate distributions, TensorFlow \n",
        "\n",
        "- interprets the final axis of an array of parameters as the event shape, \n",
        "\n",
        "\n",
        "- and broadcasts over the remaining axes,  \n",
        "\n",
        "can you predict what the batch and event shapes will if we pass the arguments\n",
        "\n",
        "\n",
        "    loc = [ [ 1.,  1.,  1.],\n",
        "            [-1., -1., -1.] ] # shape (2, 3)\n",
        "    scale_diag = [ [[0.1, 0.1, 0.1]],\n",
        "                   [[10., 10., 10.]] ] # shape (2, 1, 3)\n",
        "                   \n",
        "to `MultivariateNormalDiag`?"
      ]
    },
    {
      "cell_type": "markdown",
      "metadata": {
        "id": "wBHDKo5q8koU"
      },
      "source": [
        "Solution:\n",
        "\n",
        "Align the parameter array shapes on their last axis, prepending 1s where necessary:  \n",
        "    \n",
        "           loc: 1 x 2 x 3  \n",
        "    scale_diag: 2 x 1 x 3  \n",
        "\n",
        "The final axis has size 3, so `event_shape = (3)`. The remaining axes are broadcast over to yield  \n",
        "    \n",
        "           loc: 2 x 2 x 3  \n",
        "    scale_diag: 2 x 2 x 3  \n",
        "\n",
        "so `batch_shape = (2, 2)`.\n",
        "\n",
        "Let's see if this is correct!"
      ]
    },
    {
      "cell_type": "code",
      "metadata": {
        "id": "NiaeLTG18koU"
      },
      "source": [
        "# Define a multivariate Gaussian distribution with broadcasting\n",
        "\n",
        "loc = [ [ 1.,  1.,  1.],\n",
        "        [-1., -1., -1.] ]  # shape (2, 3)\n",
        "scale_diag = [ [[0.1, 0.1, 0.1]],\n",
        "               [[10., 10., 10.]] ]  # shape (2, 1, 3)\n",
        "\n",
        "another_batch_of_mvt_normals = tfd.MultivariateNormalDiag(loc=loc, scale_diag=scale_diag)"
      ],
      "execution_count": 29,
      "outputs": []
    },
    {
      "cell_type": "code",
      "metadata": {
        "colab": {
          "base_uri": "https://localhost:8080/"
        },
        "id": "1eWVY9oa8koU",
        "outputId": "8a8c2519-1e92-4cc2-fd96-21bbe4e6b4d1"
      },
      "source": [
        "# Print the distribution and note batch and event shapes - bingo!\n",
        "\n",
        "another_batch_of_mvt_normals"
      ],
      "execution_count": 30,
      "outputs": [
        {
          "output_type": "execute_result",
          "data": {
            "text/plain": [
              "<tfp.distributions.MultivariateNormalDiag 'MultivariateNormalDiag' batch_shape=[2, 2] event_shape=[3] dtype=float32>"
            ]
          },
          "metadata": {
            "tags": []
          },
          "execution_count": 30
        }
      ]
    },
    {
      "cell_type": "code",
      "metadata": {
        "colab": {
          "base_uri": "https://localhost:8080/"
        },
        "id": "_WNvf_Oh8koV",
        "outputId": "834639dd-f061-42ba-9231-773be0f02e1c"
      },
      "source": [
        "# Print the distribution parameters\n",
        "\n",
        "another_batch_of_mvt_normals.parameters"
      ],
      "execution_count": 31,
      "outputs": [
        {
          "output_type": "execute_result",
          "data": {
            "text/plain": [
              "{'allow_nan_stats': True,\n",
              " 'loc': ListWrapper([ListWrapper([1.0, 1.0, 1.0]), ListWrapper([-1.0, -1.0, -1.0])]),\n",
              " 'name': 'MultivariateNormalDiag',\n",
              " 'scale_diag': ListWrapper([ListWrapper([ListWrapper([0.1, 0.1, 0.1])]), ListWrapper([ListWrapper([10.0, 10.0, 10.0])])]),\n",
              " 'scale_identity_multiplier': None,\n",
              " 'validate_args': False}"
            ]
          },
          "metadata": {
            "tags": []
          },
          "execution_count": 31
        }
      ]
    },
    {
      "cell_type": "markdown",
      "metadata": {
        "id": "wAPCtvT_8koV"
      },
      "source": [
        "As we did before lets also look at broadcasting when we have batches of multivariate distributions."
      ]
    },
    {
      "cell_type": "code",
      "metadata": {
        "colab": {
          "base_uri": "https://localhost:8080/"
        },
        "id": "5sVpJC9c8koV",
        "outputId": "6fbb93a0-0e3c-4805-bf46-4c44f80da066"
      },
      "source": [
        "# Define a batch of Normal distributions with broadcasting\n",
        "\n",
        "loc = [[0.],\n",
        "       [1.],\n",
        "       [0.]]\n",
        "scale = [1., 10., 100., 1., 10, 100.]\n",
        "\n",
        "another_batch_of_normals = tfd.Normal(loc=loc, scale=scale)\n",
        "another_batch_of_normals"
      ],
      "execution_count": 32,
      "outputs": [
        {
          "output_type": "execute_result",
          "data": {
            "text/plain": [
              "<tfp.distributions.Normal 'Normal' batch_shape=[3, 6] event_shape=[] dtype=float32>"
            ]
          },
          "metadata": {
            "tags": []
          },
          "execution_count": 32
        }
      ]
    },
    {
      "cell_type": "markdown",
      "metadata": {
        "id": "pae2ptpM8koV"
      },
      "source": [
        "And to refresh our memory of `Independent` we'll use it below to roll the rightmost batch shape into the event shape. "
      ]
    },
    {
      "cell_type": "code",
      "metadata": {
        "colab": {
          "base_uri": "https://localhost:8080/"
        },
        "id": "S3RDC7Jy8koV",
        "outputId": "e8f3e2c8-af37-4200-c281-9bd43dcea9eb"
      },
      "source": [
        "# Create a multivariate Independent distribution\n",
        "\n",
        "another_batch_of_mvt_normals = tfd.Independent(another_batch_of_normals)\n",
        "another_batch_of_mvt_normals"
      ],
      "execution_count": 33,
      "outputs": [
        {
          "output_type": "execute_result",
          "data": {
            "text/plain": [
              "<tfp.distributions.Independent 'IndependentNormal' batch_shape=[3] event_shape=[6] dtype=float32>"
            ]
          },
          "metadata": {
            "tags": []
          },
          "execution_count": 33
        }
      ]
    },
    {
      "cell_type": "markdown",
      "metadata": {
        "id": "browRWwE8koV"
      },
      "source": [
        "Now, onto the broadcasting: "
      ]
    },
    {
      "cell_type": "code",
      "metadata": {
        "colab": {
          "base_uri": "https://localhost:8080/"
        },
        "id": "dDcGPXf28koV",
        "outputId": "df1b03f6-5a50-4e1d-b3e8-dbb6f058e3f8"
      },
      "source": [
        "# Use broadcasting with the prob method\n",
        "# B shaped input (broadcast over event)\n",
        "\n",
        "sample = tf.random.uniform((3, 1))\n",
        "another_batch_of_mvt_normals.prob(sample)"
      ],
      "execution_count": 34,
      "outputs": [
        {
          "output_type": "execute_result",
          "data": {
            "text/plain": [
              "<tf.Tensor: shape=(3,), dtype=float32, numpy=array([2.0690392e-09, 2.9007940e-09, 3.9361843e-09], dtype=float32)>"
            ]
          },
          "metadata": {
            "tags": []
          },
          "execution_count": 34
        }
      ]
    },
    {
      "cell_type": "code",
      "metadata": {
        "colab": {
          "base_uri": "https://localhost:8080/"
        },
        "id": "qdXB9pWz8koV",
        "outputId": "10e57876-c96e-4bde-efbe-b2d7d5e2f641"
      },
      "source": [
        "# Use broadcasting with the prob method\n",
        "# E shaped input (broadcast over batch)\n",
        "\n",
        "sample = tf.random.uniform((1, 6))\n",
        "another_batch_of_mvt_normals.prob(sample)"
      ],
      "execution_count": 35,
      "outputs": [
        {
          "output_type": "execute_result",
          "data": {
            "text/plain": [
              "<tf.Tensor: shape=(3,), dtype=float32, numpy=array([2.1409399e-09, 3.6607626e-09, 2.1409399e-09], dtype=float32)>"
            ]
          },
          "metadata": {
            "tags": []
          },
          "execution_count": 35
        }
      ]
    },
    {
      "cell_type": "code",
      "metadata": {
        "colab": {
          "base_uri": "https://localhost:8080/"
        },
        "id": "nwxrY6YL8koV",
        "outputId": "b49692c5-bfec-4f51-f9d3-a99cdd0522ff"
      },
      "source": [
        "# Use broadcasting with the prob method\n",
        "# [S,B,E] shaped input (broadcast over samples)\n",
        "\n",
        "sample = tf.random.uniform((2, 3, 6))\n",
        "another_batch_of_mvt_normals.prob(sample)"
      ],
      "execution_count": 36,
      "outputs": [
        {
          "output_type": "execute_result",
          "data": {
            "text/plain": [
              "<tf.Tensor: shape=(2, 3), dtype=float32, numpy=\n",
              "array([[3.1658427e-09, 2.0918878e-09, 1.8255167e-09],\n",
              "       [2.6650884e-09, 3.5343271e-09, 2.5482063e-09]], dtype=float32)>"
            ]
          },
          "metadata": {
            "tags": []
          },
          "execution_count": 36
        }
      ]
    },
    {
      "cell_type": "code",
      "metadata": {
        "colab": {
          "base_uri": "https://localhost:8080/"
        },
        "id": "AMw-jrV38koV",
        "outputId": "c4368b89-18d0-4e5b-8201-113f567779d7"
      },
      "source": [
        "# [S,b,e] shaped input where [b,e] can be broadcast agaisnt [B,E]\n",
        "sample = tf.random.uniform((2, 1, 6))\n",
        "another_batch_of_mvt_normals.prob(sample)"
      ],
      "execution_count": 37,
      "outputs": [
        {
          "output_type": "execute_result",
          "data": {
            "text/plain": [
              "<tf.Tensor: shape=(2, 3), dtype=float32, numpy=\n",
              "array([[3.2011758e-09, 3.0501643e-09, 3.2011758e-09],\n",
              "       [2.2252447e-09, 3.8134655e-09, 2.2252447e-09]], dtype=float32)>"
            ]
          },
          "metadata": {
            "tags": []
          },
          "execution_count": 37
        }
      ]
    },
    {
      "cell_type": "markdown",
      "metadata": {
        "id": "NU9Pgiog8koW"
      },
      "source": [
        "As a final example with `log_prob` instead of `prob`"
      ]
    },
    {
      "cell_type": "code",
      "metadata": {
        "colab": {
          "base_uri": "https://localhost:8080/"
        },
        "id": "SsgEIDLt8koW",
        "outputId": "18a0e43a-1916-411d-9c96-d7160be72652"
      },
      "source": [
        "# Use broadcasting with the log_prob method\n",
        "# [S,b,e] shaped input where [b,e] can be broadcast agaisnt [B,E]\n",
        "\n",
        "sample = tf.random.uniform((2, 3, 1))\n",
        "another_batch_of_mvt_normals.prob(sample)"
      ],
      "execution_count": 38,
      "outputs": [
        {
          "output_type": "execute_result",
          "data": {
            "text/plain": [
              "<tf.Tensor: shape=(2, 3), dtype=float32, numpy=\n",
              "array([[2.5337250e-09, 1.7301292e-09, 4.0154498e-09],\n",
              "       [1.5280018e-09, 2.3638411e-09, 1.8352921e-09]], dtype=float32)>"
            ]
          },
          "metadata": {
            "tags": []
          },
          "execution_count": 38
        }
      ]
    },
    {
      "cell_type": "markdown",
      "metadata": {
        "id": "UWGVtyrk8koW"
      },
      "source": [
        "You should now feel confident specifying batches of distributions using broadcasting. As you may have already guessed, broadcasting is especially useful when specifying grids of hyperparameters. \n",
        "\n",
        "If you don't feel entirely comfortable with broadcasting quite yet, don't worry: re-read this notebook, go through the further reading provided below, and experiment with broadcasting in both numpy and TensorFlow, and you'll be broadcasting in no time."
      ]
    },
    {
      "cell_type": "markdown",
      "metadata": {
        "id": "VR6i4O-E8koW"
      },
      "source": [
        "### Further reading and resources\n",
        "* Numpy documentation on broadcasting: https://numpy.org/devdocs/user/theory.broadcasting.html\n",
        "* https://www.tensorflow.org/xla/broadcasting"
      ]
    }
  ]
}