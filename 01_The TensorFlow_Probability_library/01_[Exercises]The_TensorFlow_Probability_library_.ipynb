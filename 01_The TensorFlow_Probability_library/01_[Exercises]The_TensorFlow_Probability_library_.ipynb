{
  "nbformat": 4,
  "nbformat_minor": 0,
  "metadata": {
    "kernelspec": {
      "display_name": "Python 3",
      "language": "python",
      "name": "python3"
    },
    "language_info": {
      "codemirror_mode": {
        "name": "ipython",
        "version": 3
      },
      "file_extension": ".py",
      "mimetype": "text/x-python",
      "name": "python",
      "nbconvert_exporter": "python",
      "pygments_lexer": "ipython3",
      "version": "3.7.1"
    },
    "colab": {
      "name": "01_[Exercises]The TensorFlow Probability library .ipynb",
      "provenance": [],
      "collapsed_sections": [
        "Jj29CUq6sgme",
        "zlvfIjF3sgm-",
        "_7tvenxCsgnf"
      ],
      "toc_visible": true,
      "include_colab_link": true
    }
  },
  "cells": [
    {
      "cell_type": "markdown",
      "metadata": {
        "id": "view-in-github",
        "colab_type": "text"
      },
      "source": [
        "<a href=\"https://colab.research.google.com/github/mohd-faizy/Probabilistic-Deep-Learning-with-TensorFlow/blob/main/01_%5BExercises%5DThe_TensorFlow_Probability_library_.ipynb\" target=\"_parent\"><img src=\"https://colab.research.google.com/assets/colab-badge.svg\" alt=\"Open In Colab\"/></a>"
      ]
    },
    {
      "cell_type": "code",
      "metadata": {
        "id": "e4NV6Xcdsgma",
        "colab": {
          "base_uri": "https://localhost:8080/"
        },
        "outputId": "0a3b3bff-3518-4982-c528-8c757003bb3b"
      },
      "source": [
        "import tensorflow as tf\n",
        "import tensorflow_probability as tfp\n",
        "tfd = tfp.distributions\n",
        "\n",
        "print(\"TF version:\", tf.__version__)\n",
        "print(\"TFP version:\", tfp.__version__)"
      ],
      "execution_count": 1,
      "outputs": [
        {
          "output_type": "stream",
          "text": [
            "TF version: 2.3.0\n",
            "TFP version: 0.11.0\n"
          ],
          "name": "stdout"
        }
      ]
    },
    {
      "cell_type": "code",
      "metadata": {
        "id": "Luc9w4p_sgmc"
      },
      "source": [
        "# Additional imports and setting fixed random seed to have reproducibility\n",
        "\n",
        "import matplotlib.pyplot as plt\n",
        "import numpy as np\n",
        "tf.random.set_seed(123)"
      ],
      "execution_count": 2,
      "outputs": []
    },
    {
      "cell_type": "markdown",
      "metadata": {
        "id": "00uSMbgVsgme"
      },
      "source": [
        "# Tensorflow Distributions"
      ]
    },
    {
      "cell_type": "markdown",
      "metadata": {
        "id": "E7htVM9psgme"
      },
      "source": [
        "## Coding Tutorials\n",
        "#### 1. [Univariate Distributions](#univariate_distributions)\n",
        "#### 2. [Multivariate Distributions](#multivariate_distributions)\n",
        "#### 3. [The Independent Distribution](#the_independent_distribution)\n",
        "#### 4. [Sampling and log probs](#sampling_and_log_probs)\n",
        "#### 5. [Trainable Distributions](#trainable_distributions)"
      ]
    },
    {
      "cell_type": "markdown",
      "metadata": {
        "id": "Jj29CUq6sgme"
      },
      "source": [
        "***\n",
        "## __a) Univariate distributions__\n",
        "<a id='univariate_distributions'></a>"
      ]
    },
    {
      "cell_type": "code",
      "metadata": {
        "id": "JoHMzrrDsgmf"
      },
      "source": [
        "# Create a normal distribution from Tensorflow Distributions\n",
        "\n",
        "normal = tfd.Normal(loc=0, scale=1)"
      ],
      "execution_count": 3,
      "outputs": []
    },
    {
      "cell_type": "code",
      "metadata": {
        "id": "XPCtjb2bsgmi",
        "colab": {
          "base_uri": "https://localhost:8080/"
        },
        "outputId": "640a812c-20d7-4e04-c7e6-8ff16b556e52"
      },
      "source": [
        "# Sample from the chosen distribution...\n",
        "\n",
        "normal.sample()"
      ],
      "execution_count": 4,
      "outputs": [
        {
          "output_type": "execute_result",
          "data": {
            "text/plain": [
              "<tf.Tensor: shape=(), dtype=float32, numpy=-0.8980837>"
            ]
          },
          "metadata": {
            "tags": []
          },
          "execution_count": 4
        }
      ]
    },
    {
      "cell_type": "code",
      "metadata": {
        "id": "LE4LZS7rsgmk",
        "colab": {
          "base_uri": "https://localhost:8080/"
        },
        "outputId": "836ad424-99ac-4658-d1a3-43bf434abe5c"
      },
      "source": [
        "# ... or sample multiple times\n",
        "\n",
        "normal.sample(10)"
      ],
      "execution_count": 5,
      "outputs": [
        {
          "output_type": "execute_result",
          "data": {
            "text/plain": [
              "<tf.Tensor: shape=(10,), dtype=float32, numpy=\n",
              "array([ 0.33875433,  0.3449861 , -0.6605785 , -0.2854994 ,  0.43852386,\n",
              "        0.8288566 , -0.53591555, -0.5353483 , -1.0324248 , -2.942705  ],\n",
              "      dtype=float32)>"
            ]
          },
          "metadata": {
            "tags": []
          },
          "execution_count": 5
        }
      ]
    },
    {
      "cell_type": "code",
      "metadata": {
        "id": "Gc_PQ10Tsgmm",
        "colab": {
          "base_uri": "https://localhost:8080/"
        },
        "outputId": "f9268c57-f501-46e4-f6a7-ac2958a3cf87"
      },
      "source": [
        "# Obtain value of probability's density\n",
        "\n",
        "normal.prob(0)"
      ],
      "execution_count": 6,
      "outputs": [
        {
          "output_type": "execute_result",
          "data": {
            "text/plain": [
              "<tf.Tensor: shape=(), dtype=float32, numpy=0.3989423>"
            ]
          },
          "metadata": {
            "tags": []
          },
          "execution_count": 6
        }
      ]
    },
    {
      "cell_type": "code",
      "metadata": {
        "id": "vMbFWoMwsgmn",
        "colab": {
          "base_uri": "https://localhost:8080/"
        },
        "outputId": "7dd910de-c601-4f3b-aba2-c2a0560d6da1"
      },
      "source": [
        "# Obtain value of logprobability\n",
        "\n",
        "normal.log_prob(0)"
      ],
      "execution_count": 7,
      "outputs": [
        {
          "output_type": "execute_result",
          "data": {
            "text/plain": [
              "<tf.Tensor: shape=(), dtype=float32, numpy=-0.9189385>"
            ]
          },
          "metadata": {
            "tags": []
          },
          "execution_count": 7
        }
      ]
    },
    {
      "cell_type": "code",
      "metadata": {
        "id": "e6TkQQqvsgmp",
        "colab": {
          "base_uri": "https://localhost:8080/"
        },
        "outputId": "00ad355a-a159-4dd0-ebda-9707c99dab4d"
      },
      "source": [
        "# Verify that this really is the log of the probability\n",
        "\n",
        "np.log(normal.prob(0))"
      ],
      "execution_count": 8,
      "outputs": [
        {
          "output_type": "execute_result",
          "data": {
            "text/plain": [
              "-0.9189385"
            ]
          },
          "metadata": {
            "tags": []
          },
          "execution_count": 8
        }
      ]
    },
    {
      "cell_type": "code",
      "metadata": {
        "id": "rk3lYT3jsgmr",
        "colab": {
          "base_uri": "https://localhost:8080/",
          "height": 0
        },
        "outputId": "3ef8dcb1-d0e0-4129-f564-2455424227ea"
      },
      "source": [
        "# Plot a histogram, approximating the density\n",
        "\n",
        "plt.hist(normal.sample(10000), bins=50, density=True)\n",
        "plt.show()"
      ],
      "execution_count": 9,
      "outputs": [
        {
          "output_type": "display_data",
          "data": {
            "image/png": "[encoded data removed]",
            "text/plain": [
              "<Figure size 432x288 with 1 Axes>"
            ]
          },
          "metadata": {
            "tags": [],
            "needs_background": "light"
          }
        }
      ]
    },
    {
      "cell_type": "code",
      "metadata": {
        "id": "IUyiPOwVsgms",
        "colab": {
          "base_uri": "https://localhost:8080/",
          "height": 0
        },
        "outputId": "4b0f9c36-7510-41c4-fc5e-f23cf1318951"
      },
      "source": [
        "# Do the same for the exponential distribution\n",
        "\n",
        "exponential = tfd.Exponential(rate=1)\n",
        "plt.hist(exponential.sample(10000), bins=50, density=True)\n",
        "plt.show()"
      ],
      "execution_count": 10,
      "outputs": [
        {
          "output_type": "display_data",
          "data": {
            "image/png": "[encoded data removed]",
            "text/plain": [
              "<Figure size 432x288 with 1 Axes>"
            ]
          },
          "metadata": {
            "tags": [],
            "needs_background": "light"
          }
        }
      ]
    },
    {
      "cell_type": "code",
      "metadata": {
        "id": "zAxCh7ynsgmu",
        "colab": {
          "base_uri": "https://localhost:8080/"
        },
        "outputId": "39dfff6b-2830-4687-a6f1-3696c0d0f3dc"
      },
      "source": [
        "# Sample as before\n",
        "\n",
        "exponential.sample(10)"
      ],
      "execution_count": 11,
      "outputs": [
        {
          "output_type": "execute_result",
          "data": {
            "text/plain": [
              "<tf.Tensor: shape=(10,), dtype=float32, numpy=\n",
              "array([0.3179616 , 0.9595855 , 0.6190708 , 1.3738598 , 1.6796893 ,\n",
              "       0.40142855, 1.6830153 , 1.78942   , 0.38126466, 0.55283946],\n",
              "      dtype=float32)>"
            ]
          },
          "metadata": {
            "tags": []
          },
          "execution_count": 11
        }
      ]
    },
    {
      "cell_type": "code",
      "metadata": {
        "id": "D-yhrZAqsgmw",
        "colab": {
          "base_uri": "https://localhost:8080/"
        },
        "outputId": "ae1b8c70-b634-4456-ca5f-07c9dca1a481"
      },
      "source": [
        "# Create a Bernoulli distribution (discrete)\n",
        "\n",
        "bernoulli = tfd.Bernoulli(probs=0.8)\n",
        "bernoulli.sample(20)"
      ],
      "execution_count": 12,
      "outputs": [
        {
          "output_type": "execute_result",
          "data": {
            "text/plain": [
              "<tf.Tensor: shape=(20,), dtype=int32, numpy=\n",
              "array([0, 1, 1, 0, 0, 1, 1, 0, 1, 1, 1, 0, 1, 1, 1, 0, 1, 0, 1, 1],\n",
              "      dtype=int32)>"
            ]
          },
          "metadata": {
            "tags": []
          },
          "execution_count": 12
        }
      ]
    },
    {
      "cell_type": "markdown",
      "metadata": {
        "id": "o4YMGd7dsgmy"
      },
      "source": [
        "#### A word of caution on discrete distributions"
      ]
    },
    {
      "cell_type": "code",
      "metadata": {
        "id": "_qhEUig2sgmy",
        "colab": {
          "base_uri": "https://localhost:8080/"
        },
        "outputId": "a4ebc21b-fab5-47f4-f075-59f6bb415cdc"
      },
      "source": [
        "# Calculate Bernoulli prob and see that 0.5 and -1 do not give the correct probability!\n",
        "\n",
        "for k in [0,0.5,1,-1]:\n",
        "    print('prob result {} for k = {} '.format(bernoulli.prob(k), k))"
      ],
      "execution_count": 13,
      "outputs": [
        {
          "output_type": "stream",
          "text": [
            "prob result 0.19999998807907104 for k = 0 \n",
            "prob result 0.3999999761581421 for k = 0.5 \n",
            "prob result 0.800000011920929 for k = 1 \n",
            "prob result 0.04999999701976776 for k = -1 \n"
          ],
          "name": "stdout"
        }
      ]
    },
    {
      "cell_type": "code",
      "metadata": {
        "id": "3i_ifyZLsgmz"
      },
      "source": [
        "# Replicate the scores to see what is occurring under the hood\n",
        "\n",
        "def my_bernoulli(p_sucess, k):\n",
        "    return np.power(p_sucess,k)*np.power((1-p_sucess),(1-k))"
      ],
      "execution_count": 14,
      "outputs": []
    },
    {
      "cell_type": "code",
      "metadata": {
        "id": "YjDZmhp1sgm0",
        "colab": {
          "base_uri": "https://localhost:8080/"
        },
        "outputId": "98c3259a-0341-4b59-fe1c-f82baabdef07"
      },
      "source": [
        "# Evaluate it as before\n",
        "\n",
        "for k in [0,0.5,1,-1]:\n",
        "    print('prob result {} for k = {} '.format(my_bernoulli(p_sucess=0.8, k=k), k))"
      ],
      "execution_count": 15,
      "outputs": [
        {
          "output_type": "stream",
          "text": [
            "prob result 0.19999999999999996 for k = 0 \n",
            "prob result 0.3999999999999999 for k = 0.5 \n",
            "prob result 0.8 for k = 1 \n",
            "prob result 0.049999999999999975 for k = -1 \n"
          ],
          "name": "stdout"
        }
      ]
    },
    {
      "cell_type": "markdown",
      "metadata": {
        "id": "Jn2Cg3YEsgm2"
      },
      "source": [
        "#### Work with batch distributions"
      ]
    },
    {
      "cell_type": "code",
      "metadata": {
        "id": "FhtSN4-Esgm2",
        "colab": {
          "base_uri": "https://localhost:8080/"
        },
        "outputId": "bb83dcb5-3c9d-49d7-bb1a-e87710215686"
      },
      "source": [
        "# Create a batched Bernoulli distribution\n",
        "\n",
        "bernoulli_batch = tfd.Bernoulli(probs=[0.1, 0.25, 0.5, 0.75, 0.9])\n",
        "bernoulli_batch"
      ],
      "execution_count": 16,
      "outputs": [
        {
          "output_type": "execute_result",
          "data": {
            "text/plain": [
              "<tfp.distributions.Bernoulli 'Bernoulli' batch_shape=[5] event_shape=[] dtype=int32>"
            ]
          },
          "metadata": {
            "tags": []
          },
          "execution_count": 16
        }
      ]
    },
    {
      "cell_type": "code",
      "metadata": {
        "id": "i1amOMwzsgm4",
        "colab": {
          "base_uri": "https://localhost:8080/"
        },
        "outputId": "94dd91e2-ddbc-4752-9f05-1f5f9d59beb7"
      },
      "source": [
        "# Sample from it, noting the shape\n",
        "\n",
        "bernoulli_batch.sample(5)"
      ],
      "execution_count": 17,
      "outputs": [
        {
          "output_type": "execute_result",
          "data": {
            "text/plain": [
              "<tf.Tensor: shape=(5, 5), dtype=int32, numpy=\n",
              "array([[0, 0, 0, 1, 1],\n",
              "       [0, 1, 0, 1, 1],\n",
              "       [0, 0, 1, 1, 1],\n",
              "       [0, 0, 0, 1, 1],\n",
              "       [0, 0, 0, 1, 1]], dtype=int32)>"
            ]
          },
          "metadata": {
            "tags": []
          },
          "execution_count": 17
        }
      ]
    },
    {
      "cell_type": "code",
      "metadata": {
        "id": "BrcfsPL0sgm6",
        "colab": {
          "base_uri": "https://localhost:8080/"
        },
        "outputId": "dfd7996a-6e55-42cd-af11-1c5b9e538d9d"
      },
      "source": [
        "# Use a batch shape with higher rank\n",
        "\n",
        "probs = [[[0.5, 0.5], \n",
        "          [0.8, 0.3], \n",
        "          [0.25, 0.75]]]\n",
        "bernoulli_batch_2D = tfd.Bernoulli(probs=probs)\n",
        "bernoulli_batch_2D"
      ],
      "execution_count": 18,
      "outputs": [
        {
          "output_type": "execute_result",
          "data": {
            "text/plain": [
              "<tfp.distributions.Bernoulli 'Bernoulli' batch_shape=[1, 3, 2] event_shape=[] dtype=int32>"
            ]
          },
          "metadata": {
            "tags": []
          },
          "execution_count": 18
        }
      ]
    },
    {
      "cell_type": "code",
      "metadata": {
        "id": "IseSexERsgm8",
        "colab": {
          "base_uri": "https://localhost:8080/"
        },
        "outputId": "242b3d4d-eb9e-4dcf-fe6f-ef9de341b113"
      },
      "source": [
        "# Sample from this batch of distributions\n",
        "\n",
        "bernoulli_batch_2D.sample(5)"
      ],
      "execution_count": 19,
      "outputs": [
        {
          "output_type": "execute_result",
          "data": {
            "text/plain": [
              "<tf.Tensor: shape=(5, 1, 3, 2), dtype=int32, numpy=\n",
              "array([[[[0, 0],\n",
              "         [1, 1],\n",
              "         [0, 1]]],\n",
              "\n",
              "\n",
              "       [[[0, 0],\n",
              "         [1, 0],\n",
              "         [0, 1]]],\n",
              "\n",
              "\n",
              "       [[[1, 0],\n",
              "         [1, 1],\n",
              "         [0, 1]]],\n",
              "\n",
              "\n",
              "       [[[1, 0],\n",
              "         [0, 0],\n",
              "         [0, 1]]],\n",
              "\n",
              "\n",
              "       [[[0, 1],\n",
              "         [1, 1],\n",
              "         [1, 0]]]], dtype=int32)>"
            ]
          },
          "metadata": {
            "tags": []
          },
          "execution_count": 19
        }
      ]
    },
    {
      "cell_type": "code",
      "metadata": {
        "id": "MWZmvprYsgm9",
        "colab": {
          "base_uri": "https://localhost:8080/"
        },
        "outputId": "9ddaa1de-5cfb-4c41-e27e-08c1633334d7"
      },
      "source": [
        "# Determine probabilities from this batch distribution\n",
        "\n",
        "bernoulli_batch_2D.prob([[[1, 0], \n",
        "                         [0, 0], \n",
        "                         [1, 1]]])"
      ],
      "execution_count": 20,
      "outputs": [
        {
          "output_type": "execute_result",
          "data": {
            "text/plain": [
              "<tf.Tensor: shape=(1, 3, 2), dtype=float32, numpy=\n",
              "array([[[0.5       , 0.5       ],\n",
              "        [0.19999999, 0.7       ],\n",
              "        [0.25      , 0.75      ]]], dtype=float32)>"
            ]
          },
          "metadata": {
            "tags": []
          },
          "execution_count": 20
        }
      ]
    },
    {
      "cell_type": "markdown",
      "metadata": {
        "id": "zlvfIjF3sgm-"
      },
      "source": [
        "***\n",
        "<a id='multivariate_distributions'></a>\n",
        "## __b) Multivariate Distributions__\n"
      ]
    },
    {
      "cell_type": "markdown",
      "metadata": {
        "id": "94n2DK21sgm-"
      },
      "source": [
        "#### Basic multivariate distributions"
      ]
    },
    {
      "cell_type": "code",
      "metadata": {
        "id": "35RX_A3wsgm-",
        "colab": {
          "base_uri": "https://localhost:8080/"
        },
        "outputId": "10f15084-845f-4d0d-8ddd-11e5c02e688f"
      },
      "source": [
        "# Define 2D multivariate Gaussian with diagonal covariance matrix\n",
        "\n",
        "normal_diag = tfd.MultivariateNormalDiag(loc=[0, 1], scale_diag=[1, 2])  # scale_diag=[1, 20]) we can change the shape by altering the mean and SD\n",
        "normal_diag"
      ],
      "execution_count": 21,
      "outputs": [
        {
          "output_type": "execute_result",
          "data": {
            "text/plain": [
              "<tfp.distributions.MultivariateNormalDiag 'MultivariateNormalDiag' batch_shape=[] event_shape=[2] dtype=float32>"
            ]
          },
          "metadata": {
            "tags": []
          },
          "execution_count": 21
        }
      ]
    },
    {
      "cell_type": "code",
      "metadata": {
        "id": "zblklZq6sgnA",
        "colab": {
          "base_uri": "https://localhost:8080/"
        },
        "outputId": "e2cad3b2-da52-4d67-d8e4-a0c1ca39ec38"
      },
      "source": [
        "# Sample from it\n",
        "\n",
        "normal_diag.sample(10)"
      ],
      "execution_count": 22,
      "outputs": [
        {
          "output_type": "execute_result",
          "data": {
            "text/plain": [
              "<tf.Tensor: shape=(10, 2), dtype=float32, numpy=\n",
              "array([[-0.37992278,  2.3674164 ],\n",
              "       [-2.224005  , -0.28514445],\n",
              "       [ 0.923083  , -1.4528892 ],\n",
              "       [-0.62774605, -0.33852375],\n",
              "       [-0.6252951 , -1.3324146 ],\n",
              "       [-0.42454168,  1.3192186 ],\n",
              "       [-1.702882  ,  1.8533869 ],\n",
              "       [-0.4608376 , -0.7023523 ],\n",
              "       [-1.1919353 , -0.12865627],\n",
              "       [ 0.48053816, -0.2693485 ]], dtype=float32)>"
            ]
          },
          "metadata": {
            "tags": []
          },
          "execution_count": 22
        }
      ]
    },
    {
      "cell_type": "code",
      "metadata": {
        "id": "CJIxbKJDsgnB",
        "colab": {
          "base_uri": "https://localhost:8080/",
          "height": 0
        },
        "outputId": "81b48cb8-5c53-4410-e132-c5ddea6dcc52"
      },
      "source": [
        "# Make a plot\n",
        "\n",
        "plt_sample = normal_diag.sample(10000)\n",
        "plt.scatter(plt_sample[:, 0], plt_sample[:, 1], marker='.', alpha=0.05)\n",
        "plt.axis('equal')\n",
        "plt.show()"
      ],
      "execution_count": 23,
      "outputs": [
        {
          "output_type": "display_data",
          "data": {
            "image/png": "[encoded data removed]",
            "text/plain": [
              "<Figure size 432x288 with 1 Axes>"
            ]
          },
          "metadata": {
            "tags": [],
            "needs_background": "light"
          }
        }
      ]
    },
    {
      "cell_type": "markdown",
      "metadata": {
        "id": "Lga_t7q0sgnC"
      },
      "source": [
        "#### Batches of multivariate distributions"
      ]
    },
    {
      "cell_type": "code",
      "metadata": {
        "id": "jrz-S40GsgnC",
        "colab": {
          "base_uri": "https://localhost:8080/"
        },
        "outputId": "abd02f21-363f-475e-8b8a-000f22ced3de"
      },
      "source": [
        "# Create three \"batches\" of multivariate normals\n",
        "\n",
        "normal_diag_batch = tfd.MultivariateNormalDiag(loc=[[0, 0], [0, 0], [0, 0]],\n",
        "                                               scale_diag=[[1, 2], [2, 1], [2, 2]])\n",
        "normal_diag_batch"
      ],
      "execution_count": 24,
      "outputs": [
        {
          "output_type": "execute_result",
          "data": {
            "text/plain": [
              "<tfp.distributions.MultivariateNormalDiag 'MultivariateNormalDiag' batch_shape=[3] event_shape=[2] dtype=float32>"
            ]
          },
          "metadata": {
            "tags": []
          },
          "execution_count": 24
        }
      ]
    },
    {
      "cell_type": "code",
      "metadata": {
        "id": "3cuB8hfCsgnE",
        "colab": {
          "base_uri": "https://localhost:8080/"
        },
        "outputId": "7357025b-5b4d-492a-9b65-80b9829aa690"
      },
      "source": [
        "# Sample from it\n",
        "\n",
        "samples =normal_diag_batch.sample(5)\n",
        "samples"
      ],
      "execution_count": 25,
      "outputs": [
        {
          "output_type": "execute_result",
          "data": {
            "text/plain": [
              "<tf.Tensor: shape=(5, 3, 2), dtype=float32, numpy=\n",
              "array([[[-0.8012545 , -2.128108  ],\n",
              "        [ 2.0774972 , -2.7921855 ],\n",
              "        [ 0.52665955,  0.6095758 ]],\n",
              "\n",
              "       [[ 0.9923561 , -0.9778331 ],\n",
              "        [-0.8376892 ,  0.70630246],\n",
              "        [-1.0894657 , -0.65969497]],\n",
              "\n",
              "       [[-1.6264789 ,  2.2429495 ],\n",
              "        [-4.301875  , -0.7626804 ],\n",
              "        [-0.43451956, -0.57022095]],\n",
              "\n",
              "       [[ 0.73075646,  2.8356621 ],\n",
              "        [ 1.8173586 ,  1.2079152 ],\n",
              "        [-3.2939956 ,  2.33647   ]],\n",
              "\n",
              "       [[-0.24759005,  0.5630618 ],\n",
              "        [-0.6053428 ,  0.06578209],\n",
              "        [ 1.4922864 , -0.55439734]]], dtype=float32)>"
            ]
          },
          "metadata": {
            "tags": []
          },
          "execution_count": 25
        }
      ]
    },
    {
      "cell_type": "code",
      "metadata": {
        "id": "_83n1afGsgnG",
        "colab": {
          "base_uri": "https://localhost:8080/"
        },
        "outputId": "47ffe2b9-799f-416e-e815-bd0a2d778916"
      },
      "source": [
        "# Compute log probs\n",
        "\n",
        "normal_diag_batch.log_prob(samples)"
      ],
      "execution_count": 26,
      "outputs": [
        {
          "output_type": "execute_result",
          "data": {
            "text/plain": [
              "<tf.Tensor: shape=(5, 3), dtype=float32, numpy=\n",
              "array([[-3.4181342, -6.9686737, -3.3052905],\n",
              "       [-3.142929 , -2.8681712, -3.426938 ],\n",
              "       [-4.4825935, -5.1351314, -3.2884164],\n",
              "       [-3.8031492, -3.6734028, -5.262859 ],\n",
              "       [-2.6013045, -2.5789928, -3.5409558]], dtype=float32)>"
            ]
          },
          "metadata": {
            "tags": []
          },
          "execution_count": 26
        }
      ]
    },
    {
      "cell_type": "code",
      "metadata": {
        "id": "cXTIHrK3sgnH",
        "colab": {
          "base_uri": "https://localhost:8080/"
        },
        "outputId": "654b1cbf-c7e6-43f5-c431-b5b88daabe2f"
      },
      "source": [
        "# Create a sample for a plot -- notice the shape\n",
        "\n",
        "plt_sample_batch = normal_diag_batch.sample(10000)\n",
        "plt_sample_batch.shape"
      ],
      "execution_count": 27,
      "outputs": [
        {
          "output_type": "execute_result",
          "data": {
            "text/plain": [
              "TensorShape([10000, 3, 2])"
            ]
          },
          "metadata": {
            "tags": []
          },
          "execution_count": 27
        }
      ]
    },
    {
      "cell_type": "code",
      "metadata": {
        "id": "29ZCx-AEsgnJ",
        "colab": {
          "base_uri": "https://localhost:8080/",
          "height": 0
        },
        "outputId": "2f49e206-9b57-44b4-b400-15376f083330"
      },
      "source": [
        "# Plot samples from the batched multivariate Gaussian\n",
        "\n",
        "fig, axs = (plt.subplots(1, 3, sharex=True, sharey=True, figsize=(10, 3)))\n",
        "titles = ['cov_diag=[1, 2]','cov_diag=[2, 1]', 'cov_diag=[2, 2]']\n",
        "\n",
        "for i, (ax, title) in enumerate(zip(axs,titles)):\n",
        "    samples = plt_sample_batch[:,i,:] #take the ith batch [samples x event_shape]\n",
        "    ax.scatter(samples[:, 0], samples[:, 1], marker='.', alpha=0.05)\n",
        "    ax.set_title(title)\n",
        "plt.show()"
      ],
      "execution_count": 28,
      "outputs": [
        {
          "output_type": "display_data",
          "data": {
            "image/png": "[encoded data removed]",
            "text/plain": [
              "<Figure size 720x216 with 3 Axes>"
            ]
          },
          "metadata": {
            "tags": [],
            "needs_background": "light"
          }
        }
      ]
    },
    {
      "cell_type": "markdown",
      "metadata": {
        "id": "v15LR-_WsgnL"
      },
      "source": [
        "\n",
        "\n",
        "***\n",
        "<a id='the_independent_distribution'></a>\n",
        "## __c) The Independent Distribution__"
      ]
    },
    {
      "cell_type": "code",
      "metadata": {
        "id": "qqIvyoQisgnL"
      },
      "source": [
        "# Start by defining a batch of two univariate Gaussians, then\n",
        "# combine them into a bivariate Gaussian with independent components\n",
        "\n",
        "locs = [-1., 1]\n",
        "scales = [0.5, 1.]\n",
        "batch_of_normals = tfd.Normal(loc=locs, scale=scales)"
      ],
      "execution_count": 29,
      "outputs": []
    },
    {
      "cell_type": "code",
      "metadata": {
        "id": "jaT90a68sgnM",
        "colab": {
          "base_uri": "https://localhost:8080/",
          "height": 370
        },
        "outputId": "51bbc491-90c6-4314-9cd5-bf8e0ca15f2d"
      },
      "source": [
        "# Univariate density functions\n",
        "\n",
        "import seaborn as sns\n",
        "\n",
        "t = np.linspace(-4, 4, 10000)\n",
        "densities = batch_of_normals.prob(np.repeat(t[:, np.newaxis], 2, axis=1)) # each column is a vector of densities for one distn\n",
        "\n",
        "sns.lineplot(t, densities[:, 0], label='loc={}, scale={}'.format(locs[0], scales[0]))\n",
        "sns.lineplot(t, densities[:, 1], label='loc={}, scale={}'.format(locs[0], scales[0]))\n",
        "plt.ylabel('Probability density')\n",
        "plt.xlabel('Value')\n",
        "plt.legend()\n",
        "plt.show()"
      ],
      "execution_count": 30,
      "outputs": [
        {
          "output_type": "stream",
          "text": [
            "/usr/local/lib/python3.6/dist-packages/seaborn/_decorators.py:43: FutureWarning: Pass the following variables as keyword args: x, y. From version 0.12, the only valid positional argument will be `data`, and passing other arguments without an explicit keyword will result in an error or misinterpretation.\n",
            "  FutureWarning\n",
            "/usr/local/lib/python3.6/dist-packages/seaborn/_decorators.py:43: FutureWarning: Pass the following variables as keyword args: x, y. From version 0.12, the only valid positional argument will be `data`, and passing other arguments without an explicit keyword will result in an error or misinterpretation.\n",
            "  FutureWarning\n"
          ],
          "name": "stderr"
        },
        {
          "output_type": "display_data",
          "data": {
            "image/png": "[encoded data removed]",
            "text/plain": [
              "<Figure size 432x288 with 1 Axes>"
            ]
          },
          "metadata": {
            "tags": [],
            "needs_background": "light"
          }
        }
      ]
    },
    {
      "cell_type": "code",
      "metadata": {
        "id": "sb8KnB3TsgnP",
        "colab": {
          "base_uri": "https://localhost:8080/"
        },
        "outputId": "8ae3892f-97d3-4af6-921f-5843f529f545"
      },
      "source": [
        "# Check their batch_shape and event_shape\n",
        "\n",
        "batch_of_normals"
      ],
      "execution_count": 31,
      "outputs": [
        {
          "output_type": "execute_result",
          "data": {
            "text/plain": [
              "<tfp.distributions.Normal 'Normal' batch_shape=[2] event_shape=[] dtype=float32>"
            ]
          },
          "metadata": {
            "tags": []
          },
          "execution_count": 31
        }
      ]
    },
    {
      "cell_type": "code",
      "metadata": {
        "id": "7CyvW3SqsgnQ"
      },
      "source": [
        "# Use Independent to convert the batch shape to the event shape\n",
        "\n",
        "bivariate_normal_from_Independent = tfd.Independent(batch_of_normals,\n",
        "                                                    reinterpreted_batch_ndims=1)"
      ],
      "execution_count": 32,
      "outputs": []
    },
    {
      "cell_type": "code",
      "metadata": {
        "id": "im8kLlywsgnS",
        "colab": {
          "base_uri": "https://localhost:8080/"
        },
        "outputId": "4fe18039-5abe-4050-c097-dd3b7c6c7f54"
      },
      "source": [
        "# Note that dimension from batch_shape has shifted to event_shape\n",
        "\n",
        "bivariate_normal_from_Independent"
      ],
      "execution_count": 33,
      "outputs": [
        {
          "output_type": "execute_result",
          "data": {
            "text/plain": [
              "<tfp.distributions.Independent 'IndependentNormal' batch_shape=[] event_shape=[2] dtype=float32>"
            ]
          },
          "metadata": {
            "tags": []
          },
          "execution_count": 33
        }
      ]
    },
    {
      "cell_type": "code",
      "metadata": {
        "id": "qtfBXAUYsgnT",
        "colab": {
          "base_uri": "https://localhost:8080/",
          "height": 514
        },
        "outputId": "c86a7060-fe1b-4484-9a41-9984a8cad41a"
      },
      "source": [
        "# Create a plot showing joint density contours and marginal density functions\n",
        "\n",
        "samples = bivariate_normal_from_Independent.sample(10000)\n",
        "x1 = samples[:, 0]\n",
        "x2 = samples[:, 1]\n",
        "sns.jointplot(x1, x2, kind=\"kde\", space=0, color='b', xlim=[-4, 4], ylim=[-4, 4])"
      ],
      "execution_count": 34,
      "outputs": [
        {
          "output_type": "stream",
          "text": [
            "/usr/local/lib/python3.6/dist-packages/seaborn/_decorators.py:43: FutureWarning: Pass the following variables as keyword args: x, y. From version 0.12, the only valid positional argument will be `data`, and passing other arguments without an explicit keyword will result in an error or misinterpretation.\n",
            "  FutureWarning\n"
          ],
          "name": "stderr"
        },
        {
          "output_type": "execute_result",
          "data": {
            "text/plain": [
              "<seaborn.axisgrid.JointGrid at 0x7fdf40627c88>"
            ]
          },
          "metadata": {
            "tags": []
          },
          "execution_count": 34
        },
        {
          "output_type": "display_data",
          "data": {
            "image/png": "[encoded data removed]",
            "text/plain": [
              "<Figure size 432x432 with 3 Axes>"
            ]
          },
          "metadata": {
            "tags": [],
            "needs_background": "light"
          }
        }
      ]
    },
    {
      "cell_type": "code",
      "metadata": {
        "id": "sDDoW3nksgnU"
      },
      "source": [
        "# Use MultivariateNormalDiag to create the equivalent distribution\n",
        "# Note that diagonal covariance matrix => no correlation => independence (for the multivariate normal distribution)\n",
        "\n",
        "bivariate_normal_from_Multivariate = tfd.MultivariateNormalDiag(loc=locs,\n",
        "                                                                scale_diag=scales)"
      ],
      "execution_count": 35,
      "outputs": []
    },
    {
      "cell_type": "code",
      "metadata": {
        "id": "qZUJ1ftjsgnV",
        "colab": {
          "base_uri": "https://localhost:8080/",
          "height": 514
        },
        "outputId": "c1c282f9-32e2-4b4f-ae9d-e4f0f8947587"
      },
      "source": [
        "# Plot the joint density function of bivariate_normal_from_Independent\n",
        "# Refer back to bivariate_normal_from_Independent to show that the plot is the same\n",
        "# Summarise how Independent has been used\n",
        "\n",
        "samples = bivariate_normal_from_Multivariate.sample(10000)\n",
        "x1 = samples[:, 0]\n",
        "x2 = samples[:, 1]\n",
        "sns.jointplot(x1, x2, kind=\"kde\", space=0, color='b', xlim=[-4, 4], ylim=[-4, 4])"
      ],
      "execution_count": 36,
      "outputs": [
        {
          "output_type": "stream",
          "text": [
            "/usr/local/lib/python3.6/dist-packages/seaborn/_decorators.py:43: FutureWarning: Pass the following variables as keyword args: x, y. From version 0.12, the only valid positional argument will be `data`, and passing other arguments without an explicit keyword will result in an error or misinterpretation.\n",
            "  FutureWarning\n"
          ],
          "name": "stderr"
        },
        {
          "output_type": "execute_result",
          "data": {
            "text/plain": [
              "<seaborn.axisgrid.JointGrid at 0x7fdf40627978>"
            ]
          },
          "metadata": {
            "tags": []
          },
          "execution_count": 36
        },
        {
          "output_type": "display_data",
          "data": {
            "image/png": "[encoded data removed]",
            "text/plain": [
              "<Figure size 432x432 with 3 Axes>"
            ]
          },
          "metadata": {
            "tags": [],
            "needs_background": "light"
          }
        }
      ]
    },
    {
      "cell_type": "markdown",
      "metadata": {
        "id": "c1V8udtysgnW"
      },
      "source": [
        "#### Shifting batch dimensions to event dimensions using \n",
        "`reinterpreted_batch_ndims`"
      ]
    },
    {
      "cell_type": "code",
      "metadata": {
        "id": "f-OWFMj4sgnW"
      },
      "source": [
        "# Demonstrate use of reinterpreted_batch_ndims\n",
        "# By default all batch dims except the first are transferred to event dims\n",
        "\n",
        "loc_grid = [[-100., -100.],\n",
        "            [100., 100.],\n",
        "            [0., 0.]]\n",
        "scale_grid = [[1., 10.],\n",
        "              [1., 10.],\n",
        "              [1., 1.]]\n",
        "\n",
        "normals_batch_3by2_event_1 = tfd.Normal(loc=loc_grid, scale=scale_grid)"
      ],
      "execution_count": 37,
      "outputs": []
    },
    {
      "cell_type": "code",
      "metadata": {
        "id": "UXlQmUKFsgnX",
        "colab": {
          "base_uri": "https://localhost:8080/"
        },
        "outputId": "74cd4730-7692-481c-9c11-27974aaae22a"
      },
      "source": [
        "# Highlight batch_shape\n",
        "\n",
        "normals_batch_3by2_event_1"
      ],
      "execution_count": 38,
      "outputs": [
        {
          "output_type": "execute_result",
          "data": {
            "text/plain": [
              "<tfp.distributions.Normal 'Normal' batch_shape=[3, 2] event_shape=[] dtype=float32>"
            ]
          },
          "metadata": {
            "tags": []
          },
          "execution_count": 38
        }
      ]
    },
    {
      "cell_type": "code",
      "metadata": {
        "id": "oUEDQM7WsgnY",
        "colab": {
          "base_uri": "https://localhost:8080/"
        },
        "outputId": "9859f8ac-bdeb-43d5-d392-e38482fea773"
      },
      "source": [
        "# We now have a batch of 3 bivariate normal distributions,\n",
        "# each parametrised by a column of our original parameter grid\n",
        "\n",
        "normals_batch_3_event_2 =tfd.Independent(normals_batch_3by2_event_1)\n",
        "normals_batch_3_event_2"
      ],
      "execution_count": 39,
      "outputs": [
        {
          "output_type": "execute_result",
          "data": {
            "text/plain": [
              "<tfp.distributions.Independent 'IndependentNormal' batch_shape=[3] event_shape=[2] dtype=float32>"
            ]
          },
          "metadata": {
            "tags": []
          },
          "execution_count": 39
        }
      ]
    },
    {
      "cell_type": "code",
      "metadata": {
        "id": "lFITioyHsgnb",
        "colab": {
          "base_uri": "https://localhost:8080/"
        },
        "outputId": "f7fe0767-2d4b-4fac-99b6-3e1e8e323d11"
      },
      "source": [
        "# Evaluate log_prob\n",
        "\n",
        "normals_batch_3_event_2.log_prob(value=[[-10., 10,],\n",
        "                                        [100., 100],\n",
        "                                        [1., 1.]])"
      ],
      "execution_count": 40,
      "outputs": [
        {
          "output_type": "execute_result",
          "data": {
            "text/plain": [
              "<tf.Tensor: shape=(3,), dtype=float32, numpy=array([-4.1146406e+03, -4.1404624e+00, -2.8378770e+00], dtype=float32)>"
            ]
          },
          "metadata": {
            "tags": []
          },
          "execution_count": 40
        }
      ]
    },
    {
      "cell_type": "code",
      "metadata": {
        "id": "C_xWA4Bfsgnd",
        "colab": {
          "base_uri": "https://localhost:8080/"
        },
        "outputId": "e6085c84-f33d-4502-a010-089c9725248c"
      },
      "source": [
        "# Can reinterpret _all_ batch dimensions as event dimensions\n",
        "\n",
        "normals_batch_1_event_3by2 = tfd.Independent(normals_batch_3by2_event_1,\n",
        "                                             reinterpreted_batch_ndims=2)\n",
        "normals_batch_1_event_3by2"
      ],
      "execution_count": 41,
      "outputs": [
        {
          "output_type": "execute_result",
          "data": {
            "text/plain": [
              "<tfp.distributions.Independent 'IndependentNormal' batch_shape=[] event_shape=[3, 2] dtype=float32>"
            ]
          },
          "metadata": {
            "tags": []
          },
          "execution_count": 41
        }
      ]
    },
    {
      "cell_type": "code",
      "metadata": {
        "id": "s6K5yss3sgne",
        "colab": {
          "base_uri": "https://localhost:8080/"
        },
        "outputId": "c66fa8ac-f900-45e9-d1a1-ffa903d208b0"
      },
      "source": [
        "# Take log_probs \n",
        "\n",
        "normals_batch_1_event_3by2.log_prob(value=[[-10., 10,],\n",
        "                                           [100., 100],\n",
        "                                           [1., 1.]])"
      ],
      "execution_count": 42,
      "outputs": [
        {
          "output_type": "execute_result",
          "data": {
            "text/plain": [
              "<tf.Tensor: shape=(), dtype=float32, numpy=-4121.619>"
            ]
          },
          "metadata": {
            "tags": []
          },
          "execution_count": 42
        }
      ]
    },
    {
      "cell_type": "markdown",
      "metadata": {
        "id": "_7tvenxCsgnf"
      },
      "source": [
        "#### __Using `Independent` to build a Naive Bayes classifier__"
      ]
    },
    {
      "cell_type": "markdown",
      "metadata": {
        "id": "4jzAd6-Psgnf"
      },
      "source": [
        "#### Introduction to `newsgroups` data set"
      ]
    },
    {
      "cell_type": "markdown",
      "metadata": {
        "id": "Qk_-dUZdsgnf"
      },
      "source": [
        "In this tutorial, just load the dataset, fetch train/test splits, probably choose a subset of the data.\n",
        "\n",
        "Construct the class conditional feature distribution (with Independent, using the Naive Bayes assumption) and sample from it.\n",
        "\n",
        "We can just use the ML estimates for parameters, in later tutorials we will learn them."
      ]
    },
    {
      "cell_type": "markdown",
      "metadata": {
        "id": "MwrKvmvyttQ7"
      },
      "source": [
        "#### Import the data\n",
        "\n",
        "The dataset required for this coding tutorial can be downloaded from the following link:\n",
        "\n",
        "[20_Newsgroup_Data.zip](https://github.com/mohd-faizy/Probabilistic-Deep-Learning-with-TensorFlow/raw/main/01_The%20TensorFlow_Probability_library/20_Newsgroup_Data.zip)\n"
      ]
    },
    {
      "cell_type": "code",
      "metadata": {
        "id": "wpQVwc2ECfqe",
        "colab": {
          "base_uri": "https://localhost:8080/"
        },
        "outputId": "e8d3886b-a0a3-4b31-f95e-c4fd0e542154"
      },
      "source": [
        "! wget https://github.com/mohd-faizy/Probabilistic-Deep-Learning-with-TensorFlow/raw/main/01_The%20TensorFlow_Probability_library/20_Newsgroup_Data.zip"
      ],
      "execution_count": 43,
      "outputs": [
        {
          "output_type": "stream",
          "text": [
            "--2020-12-06 21:15:29--  https://github.com/mohd-faizy/Probabilistic-Deep-Learning-with-TensorFlow/raw/main/01_The%20TensorFlow_Probability_library/20_Newsgroup_Data.zip\n",
            "Resolving github.com (github.com)... 140.82.114.3\n",
            "Connecting to github.com (github.com)|140.82.114.3|:443... connected.\n",
            "HTTP request sent, awaiting response... 302 Found\n",
            "Location: https://raw.githubusercontent.com/mohd-faizy/Probabilistic-Deep-Learning-with-TensorFlow/main/01_The%20TensorFlow_Probability_library/20_Newsgroup_Data.zip [following]\n",
            "--2020-12-06 21:15:29--  https://raw.githubusercontent.com/mohd-faizy/Probabilistic-Deep-Learning-with-TensorFlow/main/01_The%20TensorFlow_Probability_library/20_Newsgroup_Data.zip\n",
            "Resolving raw.githubusercontent.com (raw.githubusercontent.com)... 151.101.0.133, 151.101.64.133, 151.101.128.133, ...\n",
            "Connecting to raw.githubusercontent.com (raw.githubusercontent.com)|151.101.0.133|:443... connected.\n",
            "HTTP request sent, awaiting response... 200 OK\n",
            "Length: 15345225 (15M) [application/zip]\n",
            "Saving to: ‘20_Newsgroup_Data.zip’\n",
            "\n",
            "20_Newsgroup_Data.z 100%[===================>]  14.63M  38.6MB/s    in 0.4s    \n",
            "\n",
            "2020-12-06 21:15:30 (38.6 MB/s) - ‘20_Newsgroup_Data.zip’ saved [15345225/15345225]\n",
            "\n"
          ],
          "name": "stdout"
        }
      ]
    },
    {
      "cell_type": "code",
      "metadata": {
        "id": "yS6_y6oqCmpO"
      },
      "source": [
        "! unzip -uq '/content/20_Newsgroup_Data.zip' -d '/content'"
      ],
      "execution_count": 44,
      "outputs": []
    },
    {
      "cell_type": "code",
      "metadata": {
        "id": "_-dUDWtnsgng"
      },
      "source": [
        "# Convenience function for retrieving the 20 newsgroups data set\n",
        "\n",
        "# Usenet was a forerunner to modern internet forums\n",
        "# Users could post and read articles\n",
        "# Newsgroup corresponded to a topic\n",
        "# Example topics in this data set: IBM computer hardware, baseball\n",
        "# Our objective is to use an article's contents to predict its newsgroup,\n",
        "# a 20-class classification problem.\n",
        "\n",
        "# 18000 newsgroups, posts on 20 topics\n",
        "from sklearn.datasets import fetch_20newsgroups\n",
        "from sklearn.feature_extraction.text import CountVectorizer\n"
      ],
      "execution_count": 45,
      "outputs": []
    },
    {
      "cell_type": "code",
      "metadata": {
        "id": "D0d-Wj2hsgnh"
      },
      "source": [
        "# Get the train data\n",
        "\n",
        "newsgroups_data = fetch_20newsgroups(data_home='/content/20_Newsgroup_Data', subset='train')"
      ],
      "execution_count": 46,
      "outputs": []
    },
    {
      "cell_type": "code",
      "metadata": {
        "colab": {
          "base_uri": "https://localhost:8080/"
        },
        "id": "6qbLKSjSDyly",
        "outputId": "9cf739c1-d4b0-4fac-ea5e-419ee3274698"
      },
      "source": [
        "# More information about the data set\n",
        "\n",
        "print(newsgroups_data['DESCR'])"
      ],
      "execution_count": 47,
      "outputs": [
        {
          "output_type": "stream",
          "text": [
            ".. _20newsgroups_dataset:\n",
            "\n",
            "The 20 newsgroups text dataset\n",
            "------------------------------\n",
            "\n",
            "The 20 newsgroups dataset comprises around 18000 newsgroups posts on\n",
            "20 topics split in two subsets: one for training (or development)\n",
            "and the other one for testing (or for performance evaluation). The split\n",
            "between the train and test set is based upon a messages posted before\n",
            "and after a specific date.\n",
            "\n",
            "This module contains two loaders. The first one,\n",
            ":func:`sklearn.datasets.fetch_20newsgroups`,\n",
            "returns a list of the raw texts that can be fed to text feature\n",
            "extractors such as :class:`sklearn.feature_extraction.text.CountVectorizer`\n",
            "with custom parameters so as to extract feature vectors.\n",
            "The second one, :func:`sklearn.datasets.fetch_20newsgroups_vectorized`,\n",
            "returns ready-to-use features, i.e., it is not necessary to use a feature\n",
            "extractor.\n",
            "\n",
            "**Data Set Characteristics:**\n",
            "\n",
            "    =================   ==========\n",
            "    Classes                     20\n",
            "    Samples total            18846\n",
            "    Dimensionality               1\n",
            "    Features                  text\n",
            "    =================   ==========\n",
            "\n",
            "Usage\n",
            "~~~~~\n",
            "\n",
            "The :func:`sklearn.datasets.fetch_20newsgroups` function is a data\n",
            "fetching / caching functions that downloads the data archive from\n",
            "the original `20 newsgroups website`_, extracts the archive contents\n",
            "in the ``~/scikit_learn_data/20news_home`` folder and calls the\n",
            ":func:`sklearn.datasets.load_files` on either the training or\n",
            "testing set folder, or both of them::\n",
            "\n",
            "  >>> from sklearn.datasets import fetch_20newsgroups\n",
            "  >>> newsgroups_train = fetch_20newsgroups(subset='train')\n",
            "\n",
            "  >>> from pprint import pprint\n",
            "  >>> pprint(list(newsgroups_train.target_names))\n",
            "  ['alt.atheism',\n",
            "   'comp.graphics',\n",
            "   'comp.os.ms-windows.misc',\n",
            "   'comp.sys.ibm.pc.hardware',\n",
            "   'comp.sys.mac.hardware',\n",
            "   'comp.windows.x',\n",
            "   'misc.forsale',\n",
            "   'rec.autos',\n",
            "   'rec.motorcycles',\n",
            "   'rec.sport.baseball',\n",
            "   'rec.sport.hockey',\n",
            "   'sci.crypt',\n",
            "   'sci.electronics',\n",
            "   'sci.med',\n",
            "   'sci.space',\n",
            "   'soc.religion.christian',\n",
            "   'talk.politics.guns',\n",
            "   'talk.politics.mideast',\n",
            "   'talk.politics.misc',\n",
            "   'talk.religion.misc']\n",
            "\n",
            "The real data lies in the ``filenames`` and ``target`` attributes. The target\n",
            "attribute is the integer index of the category::\n",
            "\n",
            "  >>> newsgroups_train.filenames.shape\n",
            "  (11314,)\n",
            "  >>> newsgroups_train.target.shape\n",
            "  (11314,)\n",
            "  >>> newsgroups_train.target[:10]\n",
            "  array([ 7,  4,  4,  1, 14, 16, 13,  3,  2,  4])\n",
            "\n",
            "It is possible to load only a sub-selection of the categories by passing the\n",
            "list of the categories to load to the\n",
            ":func:`sklearn.datasets.fetch_20newsgroups` function::\n",
            "\n",
            "  >>> cats = ['alt.atheism', 'sci.space']\n",
            "  >>> newsgroups_train = fetch_20newsgroups(subset='train', categories=cats)\n",
            "\n",
            "  >>> list(newsgroups_train.target_names)\n",
            "  ['alt.atheism', 'sci.space']\n",
            "  >>> newsgroups_train.filenames.shape\n",
            "  (1073,)\n",
            "  >>> newsgroups_train.target.shape\n",
            "  (1073,)\n",
            "  >>> newsgroups_train.target[:10]\n",
            "  array([0, 1, 1, 1, 0, 1, 1, 0, 0, 0])\n",
            "\n",
            "Converting text to vectors\n",
            "~~~~~~~~~~~~~~~~~~~~~~~~~~\n",
            "\n",
            "In order to feed predictive or clustering models with the text data,\n",
            "one first need to turn the text into vectors of numerical values suitable\n",
            "for statistical analysis. This can be achieved with the utilities of the\n",
            "``sklearn.feature_extraction.text`` as demonstrated in the following\n",
            "example that extract `TF-IDF`_ vectors of unigram tokens\n",
            "from a subset of 20news::\n",
            "\n",
            "  >>> from sklearn.feature_extraction.text import TfidfVectorizer\n",
            "  >>> categories = ['alt.atheism', 'talk.religion.misc',\n",
            "  ...               'comp.graphics', 'sci.space']\n",
            "  >>> newsgroups_train = fetch_20newsgroups(subset='train',\n",
            "  ...                                       categories=categories)\n",
            "  >>> vectorizer = TfidfVectorizer()\n",
            "  >>> vectors = vectorizer.fit_transform(newsgroups_train.data)\n",
            "  >>> vectors.shape\n",
            "  (2034, 34118)\n",
            "\n",
            "The extracted TF-IDF vectors are very sparse, with an average of 159 non-zero\n",
            "components by sample in a more than 30000-dimensional space\n",
            "(less than .5% non-zero features)::\n",
            "\n",
            "  >>> vectors.nnz / float(vectors.shape[0])\n",
            "  159.01327...\n",
            "\n",
            ":func:`sklearn.datasets.fetch_20newsgroups_vectorized` is a function which \n",
            "returns ready-to-use token counts features instead of file names.\n",
            "\n",
            ".. _`20 newsgroups website`: http://people.csail.mit.edu/jrennie/20Newsgroups/\n",
            ".. _`TF-IDF`: https://en.wikipedia.org/wiki/Tf-idf\n",
            "\n",
            "\n",
            "Filtering text for more realistic training\n",
            "~~~~~~~~~~~~~~~~~~~~~~~~~~~~~~~~~~~~~~~~~~\n",
            "\n",
            "It is easy for a classifier to overfit on particular things that appear in the\n",
            "20 Newsgroups data, such as newsgroup headers. Many classifiers achieve very\n",
            "high F-scores, but their results would not generalize to other documents that\n",
            "aren't from this window of time.\n",
            "\n",
            "For example, let's look at the results of a multinomial Naive Bayes classifier,\n",
            "which is fast to train and achieves a decent F-score::\n",
            "\n",
            "  >>> from sklearn.naive_bayes import MultinomialNB\n",
            "  >>> from sklearn import metrics\n",
            "  >>> newsgroups_test = fetch_20newsgroups(subset='test',\n",
            "  ...                                      categories=categories)\n",
            "  >>> vectors_test = vectorizer.transform(newsgroups_test.data)\n",
            "  >>> clf = MultinomialNB(alpha=.01)\n",
            "  >>> clf.fit(vectors, newsgroups_train.target)\n",
            "  MultinomialNB(alpha=0.01, class_prior=None, fit_prior=True)\n",
            "\n",
            "  >>> pred = clf.predict(vectors_test)\n",
            "  >>> metrics.f1_score(newsgroups_test.target, pred, average='macro')\n",
            "  0.88213...\n",
            "\n",
            "(The example :ref:`sphx_glr_auto_examples_text_plot_document_classification_20newsgroups.py` shuffles\n",
            "the training and test data, instead of segmenting by time, and in that case\n",
            "multinomial Naive Bayes gets a much higher F-score of 0.88. Are you suspicious\n",
            "yet of what's going on inside this classifier?)\n",
            "\n",
            "Let's take a look at what the most informative features are:\n",
            "\n",
            "  >>> import numpy as np\n",
            "  >>> def show_top10(classifier, vectorizer, categories):\n",
            "  ...     feature_names = np.asarray(vectorizer.get_feature_names())\n",
            "  ...     for i, category in enumerate(categories):\n",
            "  ...         top10 = np.argsort(classifier.coef_[i])[-10:]\n",
            "  ...         print(\"%s: %s\" % (category, \" \".join(feature_names[top10])))\n",
            "  ...\n",
            "  >>> show_top10(clf, vectorizer, newsgroups_train.target_names)\n",
            "  alt.atheism: edu it and in you that is of to the\n",
            "  comp.graphics: edu in graphics it is for and of to the\n",
            "  sci.space: edu it that is in and space to of the\n",
            "  talk.religion.misc: not it you in is that and to of the\n",
            "\n",
            "\n",
            "You can now see many things that these features have overfit to:\n",
            "\n",
            "- Almost every group is distinguished by whether headers such as\n",
            "  ``NNTP-Posting-Host:`` and ``Distribution:`` appear more or less often.\n",
            "- Another significant feature involves whether the sender is affiliated with\n",
            "  a university, as indicated either by their headers or their signature.\n",
            "- The word \"article\" is a significant feature, based on how often people quote\n",
            "  previous posts like this: \"In article [article ID], [name] <[e-mail address]>\n",
            "  wrote:\"\n",
            "- Other features match the names and e-mail addresses of particular people who\n",
            "  were posting at the time.\n",
            "\n",
            "With such an abundance of clues that distinguish newsgroups, the classifiers\n",
            "barely have to identify topics from text at all, and they all perform at the\n",
            "same high level.\n",
            "\n",
            "For this reason, the functions that load 20 Newsgroups data provide a\n",
            "parameter called **remove**, telling it what kinds of information to strip out\n",
            "of each file. **remove** should be a tuple containing any subset of\n",
            "``('headers', 'footers', 'quotes')``, telling it to remove headers, signature\n",
            "blocks, and quotation blocks respectively.\n",
            "\n",
            "  >>> newsgroups_test = fetch_20newsgroups(subset='test',\n",
            "  ...                                      remove=('headers', 'footers', 'quotes'),\n",
            "  ...                                      categories=categories)\n",
            "  >>> vectors_test = vectorizer.transform(newsgroups_test.data)\n",
            "  >>> pred = clf.predict(vectors_test)\n",
            "  >>> metrics.f1_score(pred, newsgroups_test.target, average='macro')\n",
            "  0.77310...\n",
            "\n",
            "This classifier lost over a lot of its F-score, just because we removed\n",
            "metadata that has little to do with topic classification.\n",
            "It loses even more if we also strip this metadata from the training data:\n",
            "\n",
            "  >>> newsgroups_train = fetch_20newsgroups(subset='train',\n",
            "  ...                                       remove=('headers', 'footers', 'quotes'),\n",
            "  ...                                       categories=categories)\n",
            "  >>> vectors = vectorizer.fit_transform(newsgroups_train.data)\n",
            "  >>> clf = MultinomialNB(alpha=.01)\n",
            "  >>> clf.fit(vectors, newsgroups_train.target)\n",
            "  MultinomialNB(alpha=0.01, class_prior=None, fit_prior=True)\n",
            "\n",
            "  >>> vectors_test = vectorizer.transform(newsgroups_test.data)\n",
            "  >>> pred = clf.predict(vectors_test)\n",
            "  >>> metrics.f1_score(newsgroups_test.target, pred, average='macro')\n",
            "  0.76995...\n",
            "\n",
            "Some other classifiers cope better with this harder version of the task. Try\n",
            "running :ref:`sphx_glr_auto_examples_model_selection_grid_search_text_feature_extraction.py` with and without\n",
            "the ``--filter`` option to compare the results.\n",
            "\n",
            ".. topic:: Recommendation\n",
            "\n",
            "  When evaluating text classifiers on the 20 Newsgroups data, you\n",
            "  should strip newsgroup-related metadata. In scikit-learn, you can do this by\n",
            "  setting ``remove=('headers', 'footers', 'quotes')``. The F-score will be\n",
            "  lower because it is more realistic.\n",
            "\n",
            ".. topic:: Examples\n",
            "\n",
            "   * :ref:`sphx_glr_auto_examples_model_selection_grid_search_text_feature_extraction.py`\n",
            "\n",
            "   * :ref:`sphx_glr_auto_examples_text_plot_document_classification_20newsgroups.py`\n",
            "\n"
          ],
          "name": "stdout"
        }
      ]
    },
    {
      "cell_type": "code",
      "metadata": {
        "id": "IR7YHcJ1sgni",
        "colab": {
          "base_uri": "https://localhost:8080/"
        },
        "outputId": "e8a51fdb-35eb-4a50-e73f-ab35bb369552"
      },
      "source": [
        "# Example article\n",
        "\n",
        "print(newsgroups_data['data'][0])"
      ],
      "execution_count": 48,
      "outputs": [
        {
          "output_type": "stream",
          "text": [
            "From: lerxst@wam.umd.edu (where's my thing)\n",
            "Subject: WHAT car is this!?\n",
            "Nntp-Posting-Host: rac3.wam.umd.edu\n",
            "Organization: University of Maryland, College Park\n",
            "Lines: 15\n",
            "\n",
            " I was wondering if anyone out there could enlighten me on this car I saw\n",
            "the other day. It was a 2-door sports car, looked to be from the late 60s/\n",
            "early 70s. It was called a Bricklin. The doors were really small. In addition,\n",
            "the front bumper was separate from the rest of the body. This is \n",
            "all I know. If anyone can tellme a model name, engine specs, years\n",
            "of production, where this car is made, history, or whatever info you\n",
            "have on this funky looking car, please e-mail.\n",
            "\n",
            "Thanks,\n",
            "- IL\n",
            "   ---- brought to you by your neighborhood Lerxst ----\n",
            "\n",
            "\n",
            "\n",
            "\n",
            "\n"
          ],
          "name": "stdout"
        }
      ]
    },
    {
      "cell_type": "code",
      "metadata": {
        "id": "WKp4Q_bCsgnk",
        "colab": {
          "base_uri": "https://localhost:8080/"
        },
        "outputId": "d00c7c86-78c7-4b36-b303-23249a886511"
      },
      "source": [
        "# Associated label\n",
        "\n",
        "newsgroups_data['target'][0]"
      ],
      "execution_count": 49,
      "outputs": [
        {
          "output_type": "execute_result",
          "data": {
            "text/plain": [
              "7"
            ]
          },
          "metadata": {
            "tags": []
          },
          "execution_count": 49
        }
      ]
    },
    {
      "cell_type": "code",
      "metadata": {
        "id": "CZ9aB7VIsgnn",
        "colab": {
          "base_uri": "https://localhost:8080/",
          "height": 35
        },
        "outputId": "6bb4fadb-b2cf-4077-e40f-ce8ede09cee3"
      },
      "source": [
        "# Name of label\n",
        "\n",
        "newsgroups_data['target_names'][7]"
      ],
      "execution_count": 50,
      "outputs": [
        {
          "output_type": "execute_result",
          "data": {
            "application/vnd.google.colaboratory.intrinsic+json": {
              "type": "string"
            },
            "text/plain": [
              "'rec.autos'"
            ]
          },
          "metadata": {
            "tags": []
          },
          "execution_count": 50
        }
      ]
    },
    {
      "cell_type": "code",
      "metadata": {
        "id": "oWJh8srlsgnp"
      },
      "source": [
        "# Preprocessing boilerplate\n",
        "\n",
        "n_documents = len(newsgroups_data['data'])\n",
        "\n",
        "count_vectorizer = CountVectorizer(input='content', binary=True,\n",
        "                                   max_df=0.25, min_df=1.01/n_documents) # ignore common words, words that appear once\n",
        "binary_bag_of_words = count_vectorizer.fit_transform(newsgroups_data['data']) # input is a list of strings\n"
      ],
      "execution_count": 51,
      "outputs": []
    },
    {
      "cell_type": "code",
      "metadata": {
        "id": "9r2-u5rhsgnq",
        "colab": {
          "base_uri": "https://localhost:8080/"
        },
        "outputId": "1d8cfc31-6d58-4e17-ce21-d974c1303c4a"
      },
      "source": [
        "# Check shape\n",
        "\n",
        "binary_bag_of_words.shape"
      ],
      "execution_count": 52,
      "outputs": [
        {
          "output_type": "execute_result",
          "data": {
            "text/plain": [
              "(11314, 56365)"
            ]
          },
          "metadata": {
            "tags": []
          },
          "execution_count": 52
        }
      ]
    },
    {
      "cell_type": "code",
      "metadata": {
        "id": "eM0RVq-Isgnr",
        "colab": {
          "base_uri": "https://localhost:8080/"
        },
        "outputId": "6090f9b9-5669-4bd4-8926-2448ad2d2c7f"
      },
      "source": [
        "# Check that the fit has been successful\n",
        "\n",
        "count_vectorizer.inverse_transform(binary_bag_of_words[0, :])"
      ],
      "execution_count": 53,
      "outputs": [
        {
          "output_type": "execute_result",
          "data": {
            "text/plain": [
              "[array(['lerxst', 'wam', 'umd', 'where', 'thing', 'car', 'rac3',\n",
              "        'maryland', 'college', 'park', '15', 'wondering', 'anyone',\n",
              "        'could', 'enlighten', 'saw', 'day', 'door', 'sports', 'looked',\n",
              "        'late', '60s', 'early', '70s', 'called', 'bricklin', 'doors',\n",
              "        'were', 'really', 'small', 'addition', 'front', 'bumper',\n",
              "        'separate', 'rest', 'body', 'tellme', 'model', 'name', 'engine',\n",
              "        'specs', 'years', 'production', 'made', 'history', 'whatever',\n",
              "        'info', 'funky', 'looking', 'please', 'mail', 'thanks', 'il',\n",
              "        'brought', 'neighborhood'], dtype='<U80')]"
            ]
          },
          "metadata": {
            "tags": []
          },
          "execution_count": 53
        }
      ]
    },
    {
      "cell_type": "code",
      "metadata": {
        "id": "eUY3VFePsgns"
      },
      "source": [
        "# Dict that will be useful later \n",
        "\n",
        "inv_vocabulary = {value:key for key, value in count_vectorizer.vocabulary_.items()}"
      ],
      "execution_count": 54,
      "outputs": []
    },
    {
      "cell_type": "markdown",
      "metadata": {
        "id": "sVO1Mphnsgns"
      },
      "source": [
        "#### A Naive Bayes classifier for `newsgroup`"
      ]
    },
    {
      "cell_type": "markdown",
      "metadata": {
        "id": "TJt1qOpdsgnt"
      },
      "source": [
        "Each feature vector $x$ is a list of indicators for whether a word appears in the article. $x_i$ is 1 if the $i$th word appears, and 0 otherwise. `inv_vocabulary` matches word indices $i$ to words.\n",
        "\n",
        "Each label $y$ is a value in $0, 1, \\ldots, 19$.\n",
        "\n",
        "The parts of a naive Bayes classifier for this problem can be summarised as:  \n",
        "\n",
        "\n",
        "- A probability distribution for the feature vector by class, $p(x|y = j)$ for each $j = 0, 1, \\ldots, 19$. These probability distributions are assumed to have independent components: we can factorize the joint probability as a product of marginal probabilities\n",
        "\\begin{equation}\n",
        "    p(x|y = j) = \\prod_{i=1}^d p(x_i|y = j)\n",
        "\\end{equation}\n",
        "These marginal probability distributions are Bernoulli distributions, each of which has a single parameter $\\theta_{ji} := p(x_i = 1|y = j)$. This parameter is the probability of observing word $i$ in an article of class $j$. \n",
        "\n",
        "- We will use the Laplace smoothed maximum likelihood estimate to compute these parameters. Laplace smoothing involves adding small counts to every feature for each class. Else, if a feature did not appear in the training set of a class, but then we observed it in our test data the log probability would be undefined.\n",
        "\n",
        "- A collection of class prior probabilities $p(y = j)$. These will be set by computing the class base rates in the training set.  \n",
        "\n",
        "\n",
        "- A function for computing the probability of class membership via Bayes' theorem:  \n",
        "\n",
        "\\begin{equation}\n",
        "    p(y = j|x) = \\frac{p(x|y = j)p(y = j)}{p(x)}\n",
        "\\end{equation}"
      ]
    },
    {
      "cell_type": "code",
      "metadata": {
        "id": "a-3QNrIusgnt"
      },
      "source": [
        "# Compute the parameter estimates (adjusted fraction of documents in class that contain word)\n",
        "\n",
        "n_classes = newsgroups_data['target'].max() + 1\n",
        "y = newsgroups_data['target']\n",
        "n_words = binary_bag_of_words.shape[1]\n",
        "\n",
        "alpha = 1e-6 # parameters for Laplace smoothing\n",
        "\n",
        "theta = np.zeros([n_classes, n_words]) # stores parameter values - prob. word given class\n",
        "for c_k in range(n_classes): # 0, 1, ..., 19\n",
        "    class_mask = (y == c_k)\n",
        "    N = class_mask.sum() # number of articles in class\n",
        "    theta[c_k, :] = (binary_bag_of_words[class_mask, :].sum(axis=0) + alpha)/(N + alpha*2)"
      ],
      "execution_count": 55,
      "outputs": []
    },
    {
      "cell_type": "code",
      "metadata": {
        "id": "qrtP9pbCsgnv",
        "colab": {
          "base_uri": "https://localhost:8080/"
        },
        "outputId": "4bb77e67-39fe-4999-c565-1c7acc055d5e"
      },
      "source": [
        "# Check whether the most probable word in each class is reasonable\n",
        "\n",
        "most_probable_word_ix = theta.argmax(axis=1) # most probable word for each class\n",
        "\n",
        "for j, ix in enumerate(most_probable_word_ix):\n",
        "    print('Most probable word in class {} is \"{}\".'.format(newsgroups_data['target_names'][j],\n",
        "                                                           inv_vocabulary[ix]))"
      ],
      "execution_count": 56,
      "outputs": [
        {
          "output_type": "stream",
          "text": [
            "Most probable word in class alt.atheism is \"people\".\n",
            "Most probable word in class comp.graphics is \"graphics\".\n",
            "Most probable word in class comp.os.ms-windows.misc is \"windows\".\n",
            "Most probable word in class comp.sys.ibm.pc.hardware is \"thanks\".\n",
            "Most probable word in class comp.sys.mac.hardware is \"mac\".\n",
            "Most probable word in class comp.windows.x is \"window\".\n",
            "Most probable word in class misc.forsale is \"sale\".\n",
            "Most probable word in class rec.autos is \"car\".\n",
            "Most probable word in class rec.motorcycles is \"dod\".\n",
            "Most probable word in class rec.sport.baseball is \"he\".\n",
            "Most probable word in class rec.sport.hockey is \"ca\".\n",
            "Most probable word in class sci.crypt is \"clipper\".\n",
            "Most probable word in class sci.electronics is \"use\".\n",
            "Most probable word in class sci.med is \"reply\".\n",
            "Most probable word in class sci.space is \"space\".\n",
            "Most probable word in class soc.religion.christian is \"god\".\n",
            "Most probable word in class talk.politics.guns is \"people\".\n",
            "Most probable word in class talk.politics.mideast is \"people\".\n",
            "Most probable word in class talk.politics.misc is \"people\".\n",
            "Most probable word in class talk.religion.misc is \"he\".\n"
          ],
          "name": "stdout"
        }
      ]
    },
    {
      "cell_type": "code",
      "metadata": {
        "id": "non1pt62sgnw",
        "colab": {
          "base_uri": "https://localhost:8080/"
        },
        "outputId": "28369d2b-46c1-4768-93e5-4c45b4a61c4e"
      },
      "source": [
        "# Define a distribution for each class\n",
        "\n",
        "batch_of_bernoullis = tfd.Bernoulli(probs=theta)\n",
        "p_x_given_y = tfd.Independent(batch_of_bernoullis, reinterpreted_batch_ndims=1) \n",
        "p_x_given_y "
      ],
      "execution_count": 57,
      "outputs": [
        {
          "output_type": "execute_result",
          "data": {
            "text/plain": [
              "<tfp.distributions.Independent 'IndependentBernoulli' batch_shape=[20] event_shape=[56365] dtype=int32>"
            ]
          },
          "metadata": {
            "tags": []
          },
          "execution_count": 57
        }
      ]
    },
    {
      "cell_type": "code",
      "metadata": {
        "id": "k7HYAIHPsgnx",
        "colab": {
          "base_uri": "https://localhost:8080/"
        },
        "outputId": "3a952bcb-b9b0-4f04-c810-49e1b31079dd"
      },
      "source": [
        "# Take a sample of words from each class\n",
        "\n",
        "n_samples = 10\n",
        "sample = p_x_given_y.sample(n_samples)\n",
        "sample.shape"
      ],
      "execution_count": 58,
      "outputs": [
        {
          "output_type": "execute_result",
          "data": {
            "text/plain": [
              "TensorShape([10, 20, 56365])"
            ]
          },
          "metadata": {
            "tags": []
          },
          "execution_count": 58
        }
      ]
    },
    {
      "cell_type": "code",
      "metadata": {
        "id": "l3mmyka3sgny",
        "colab": {
          "base_uri": "https://localhost:8080/",
          "height": 35
        },
        "outputId": "5eb73f34-760d-4332-b918-2eac8a5e7ddc"
      },
      "source": [
        "# Choose a class\n",
        "\n",
        "chosen_class = 15\n",
        "newsgroups_data['target_names'][chosen_class]"
      ],
      "execution_count": 59,
      "outputs": [
        {
          "output_type": "execute_result",
          "data": {
            "application/vnd.google.colaboratory.intrinsic+json": {
              "type": "string"
            },
            "text/plain": [
              "'soc.religion.christian'"
            ]
          },
          "metadata": {
            "tags": []
          },
          "execution_count": 59
        }
      ]
    },
    {
      "cell_type": "code",
      "metadata": {
        "id": "-hjf397Psgnz",
        "colab": {
          "base_uri": "https://localhost:8080/"
        },
        "outputId": "357d5a53-ff65-43a2-fa0a-931d4917682d"
      },
      "source": [
        "# Indicators for words that appear in the sample\n",
        "\n",
        "class_sample = sample[:, chosen_class, :]\n",
        "class_sample"
      ],
      "execution_count": 60,
      "outputs": [
        {
          "output_type": "execute_result",
          "data": {
            "text/plain": [
              "<tf.Tensor: shape=(10, 56365), dtype=int32, numpy=\n",
              "array([[0, 0, 0, ..., 0, 0, 0],\n",
              "       [0, 0, 0, ..., 0, 0, 0],\n",
              "       [0, 0, 0, ..., 0, 0, 0],\n",
              "       ...,\n",
              "       [0, 0, 0, ..., 0, 0, 0],\n",
              "       [0, 0, 0, ..., 0, 0, 0],\n",
              "       [0, 0, 0, ..., 0, 0, 0]], dtype=int32)>"
            ]
          },
          "metadata": {
            "tags": []
          },
          "execution_count": 60
        }
      ]
    },
    {
      "cell_type": "code",
      "metadata": {
        "id": "KdKW2gWnsgnz",
        "colab": {
          "base_uri": "https://localhost:8080/"
        },
        "outputId": "464ee6ea-1694-41ef-fc63-c7b134ff2079"
      },
      "source": [
        "# Perform inverse transform to test quality of fit\n",
        "\n",
        "count_vectorizer.inverse_transform(class_sample)"
      ],
      "execution_count": 61,
      "outputs": [
        {
          "output_type": "execute_result",
          "data": {
            "text/plain": [
              "[array(['09', '19', '23', '28', '31', '34', '35', '41', '78228', 'acs',\n",
              "        'actually', 'advise', 'ages', 'also', 'andrew', 'anyone',\n",
              "        'anything', 'appease', 'apr', 'bathroom', 'bc', 'because',\n",
              "        'beggar', 'believe', 'better', 'bigelow', 'brains', 'chest',\n",
              "        'child', 'claim', 'cleaned', 'commented', 'concepts', 'country',\n",
              "        'day', 'daycare', 'death', 'decided', 'definition', 'detailed',\n",
              "        'difference', 'disciple', 'discuss', 'does', 'emotional',\n",
              "        'encourage', 'even', 'excellent', 'explain', 'faith', 'familiar',\n",
              "        'fellowship', 'forgiven', 'free', 'garnet', 'gentiles', 'go',\n",
              "        'god', 'good', 'growing', 'guess', 'hear', 'heard', 'here', 'him',\n",
              "        'hold', 'honoring', 'however', 'ignore', 'kind', 'knowing', 'last',\n",
              "        'lawrence', 'least', 'legal', 'less', 'life', 'minds', 'moment',\n",
              "        'monotheism', 'must', 'never', 'now', 'offers', 'original', 'our',\n",
              "        'over', 'pa', 'path', 'perception', 'person', 'personally', 'phil',\n",
              "        'political', 'predestination', 'previously', 'problem', 'problems',\n",
              "        'prove', 'punish', 'questionnaire', 'qui', 'quite', 'quote',\n",
              "        'quotes', 'reading', 'real', 'reasonable', 'requirement', 'result',\n",
              "        'reversed', 'say', 'second', 'sense', 'shaken', 'small', 'sons',\n",
              "        'souls', 'span', 'speaking', 'spiritually', 'ssd', 'statements',\n",
              "        'stem', 'still', 'study', 'take', 'talk', 'testament', 'than',\n",
              "        'their', 'them', 'then', 'theories', 'these', 'things', 'think',\n",
              "        'through', 'trying', 'two', 'uk', 'understand', 'us', 'uu4',\n",
              "        'verse', 'very', 'views', 'vituperousness', 'wasn', 'watt', 'way',\n",
              "        'well', 'whose', 'why', 'willing', 'wisdom', 'words', 'world'],\n",
              "       dtype='<U80'),\n",
              " array(['28379', '_is_', 'aaron', 'agree', 'already', 'am', 'another',\n",
              "        'anullments', 'aptly', 'arrogance', 'atheist', 'attributes',\n",
              "        'because', 'belief', 'benefits', 'boring', 'both', 'ca',\n",
              "        'carefully', 'christian', 'christianity', 'come', 'comes',\n",
              "        'compensate', 'course', 'covington', 'daily', 'depends',\n",
              "        'different', 'disagreement', 'done', 'effect', 'effects',\n",
              "        'embarrassed', 'error', 'everyone', 'exactly', 'f16', 'faith',\n",
              "        'far', 'fax', 'find', 'fires', 'found', 'good', 'gospels', 'gov',\n",
              "        'hard', 'harry', 'him', 'his', 'hope', 'imagined', 'into', 'jesus',\n",
              "        'job', 'johnson', 'knew', 'live', 'll', 'made', 'make', 'many',\n",
              "        'mark', 'may', 'means', 'mothers', 'motivate', 'myself',\n",
              "        'mysteries', 'newsgroup', 'nor', 'odd', 'oh', 'omniscience',\n",
              "        'ought', 'overrepresented', 'pardon', 'passed', 'philosophy',\n",
              "        'place', 'possibly', 'prayers', 'pretty', 'psi', 'purpose',\n",
              "        'question', 'random', 'rather', 'resolve', 'revelation', 'rights',\n",
              "        'rock', 'rutgers', 'saint', 'same', 'senses', 'sides', 'speaking',\n",
              "        'steve', 'such', 'take', 'taught', 'than', 'their', 'then',\n",
              "        'things', 'translation', 'tried', 'true', 'turns', 'two', 'until',\n",
              "        'using', 've', 'waco', 'want', 'way', 'whether', 'why', 'word',\n",
              "        'wrong', 'wrongs', 'yahweh', 'yourselves'], dtype='<U80'),\n",
              " array(['03', '34', '_is_', '_source_', 'advanced', 'agree', 'am',\n",
              "        'andrew', 'appropriate', 'april', 'argue', 'arrogance', 'athos',\n",
              "        'authorities', 'aziz', 'become', 'before', 'believe', 'books',\n",
              "        'calendar', 'called', 'case', 'certain', 'certainly', 'clearer',\n",
              "        'comes', 'contradicts', 'covering', 'darius', 'davem', 'delivered',\n",
              "        'derived', 'details', 'developments', 'did', 'die', 'different',\n",
              "        'diverge', 'done', 'engineering', 'espionage', 'even', 'explain',\n",
              "        'fate', 'filled', 'find', 'geneva', 'gregory', 'groping', 'hcx1',\n",
              "        'healy', 'heart', 'here', 'him', 'himself', 'history', 'human',\n",
              "        'intimidating', 'into', 'iscs', 'isn', 'jenk', 'jesus', 'jewish',\n",
              "        'judging', 'keep', 'knowing', 'last', 'let', 'life', 'lying',\n",
              "        'mail', 'making', 'ministry', 'most', 'natural', 'needs', 'never',\n",
              "        'now', 'observations', 'offer', 'ohio', 'pacbell', 'people',\n",
              "        'praxeas', 'praying', 'ps', 'r2d2', 'really', 'refused',\n",
              "        'religion', 'religious', 'reply', 'reprinting', 'require', 'right',\n",
              "        'rights', 'roboticist', 'said', 'san', 'save', 'say',\n",
              "        'shakespeare', 'sharon', 'should', 'sin', 'skidmore', 'soon',\n",
              "        'soul', 'sun', 'talks', 'testifies', 'thank', 'through', 'thus',\n",
              "        'tim', 'trust', 'uk', 'until', 'vbv', 'want', 'wasn', 'watch',\n",
              "        'without', 'witness', 'world', 'yet'], dtype='<U80'),\n",
              " array(['08', '12', '16', '1989', '50', '57', 'accomplish', 'according',\n",
              "        'advocate', 'after', 'aisun3', 'allow', 'answers', 'anyway',\n",
              "        'archbishop', 'before', 'beginning', 'believed', 'best', 'blessed',\n",
              "        'both', 'century', 'child', 'christ', 'christians', 'claim',\n",
              "        'claiming', 'come', 'common', 'compared', 'complete',\n",
              "        'confucianism', 'conjunction', 'could', 'damned', 'dean', 'did',\n",
              "        'difficulty', 'does', 'doing', 'down', 'enabling', 'equivalence',\n",
              "        'even', 'everything', 'evidence', 'excellent', 'eyes', 'find',\n",
              "        'full', 'gboro', 'god', 'grad', 'guild', 'had', 'hand', 'hatred',\n",
              "        'having', 'he', 'heaven', 'heroic', 'however', 'hulman', 'idea',\n",
              "        'important', 'impose', 'incarnate', 'inside', 'inspired',\n",
              "        'instead', 'jeesus', 'jesus', 'john', 'kille', 'kingston', 'later',\n",
              "        'laws', 'made', 'may', 'mdw33310', 'meet', 'minorities', 'most',\n",
              "        'moved', 'name', 'need', 'new', 'niblick', 'nicea', 'occurred',\n",
              "        'often', 'our', 'own', 'participants', 'passion', 'performed',\n",
              "        'personal', 'physical', 'planet', 'probably', 'punishment',\n",
              "        'questioning', 'quotes', 'regarded', 'reid', 'run', 'sabbath',\n",
              "        'same', 'seem', 'seems', 'set', 'shares', 'sloth', 'smith',\n",
              "        'solve', 'something', 'specially', 'strict', 'sufficient',\n",
              "        'superset', 'take', 'taken', 'then', 'things', 'think', 'those',\n",
              "        'told', 'tongue', 'top', 'translators', 'try', 'trying', 'ucs',\n",
              "        'ucsd', 'upon', 'view', 'want', 'ways', 'well', 'were', 'while',\n",
              "        'wise', 'without', 'wittgenstein', 'worship'], dtype='<U80'),\n",
              " array(['03', '08', '11', '122', '15', '17790', '19', '245', '823',\n",
              "        'ability', 'accorded', 'acns', 'ad', 'against', 'also', 'am',\n",
              "        'andrew', 'apr', 'argument', 'ashley', 'assuming', 'athos',\n",
              "        'attention', 'away', 'because', 'been', 'before', 'belief',\n",
              "        'beyond', 'bible', 'books', 'born', 'burnaby', 'capable',\n",
              "        'capacity', 'christ', 'christian', 'christians', 'claim',\n",
              "        'collect', 'college', 'could', 'cover', 'cross', 'crowd', 'cunyvm',\n",
              "        'dead', 'dec', 'delivery', 'deserving', 'difference', 'down',\n",
              "        'effect', 'energy', 'entities', 'equivalent', 'exist',\n",
              "        'explanation', 'facilities', 'far', 'few', 'files', 'firstly',\n",
              "        'follows', 'fundamental', 'garden', 'gets', 'god', 'goes', 'got',\n",
              "        'great', 'grew', 'hale', 'hard', 'he', 'hi', 'him', 'his',\n",
              "        'imitate', 'important', 'incredibly', 'indiana', 'into',\n",
              "        'involved', 'jacob', 'jason', 'john', 'kicking', 'knowing',\n",
              "        'knowledge', 'list', 'look', 'made', 'mail', 'maintaining', 'man',\n",
              "        'mcovingt', 'michael', 'middle', 'mot', 'necessary', 'need', 'new',\n",
              "        'note', 'ohio', 'origins', 'paste', 'perennial', 'please', 'poem',\n",
              "        'possibility', 'presupposes', 'pride', 'question', 'qui', 'reason',\n",
              "        'references', 'rejected', 'reliance', 'response', 'rise',\n",
              "        'rubrics', 'rutgers', 'sarcasm', 'says', 'second', 'see', 'shake',\n",
              "        'should', 'soon', 'specifically', 'spinning', 'spiritual',\n",
              "        'stable', 'stands', 'state', 'statement', 'suppose', 'sure',\n",
              "        'taber', 'take', 'ten', 'their', 'these', 'thought', 'time', 'too',\n",
              "        'try', 'under', 'understanding', 'username', 'vice', 'want',\n",
              "        'warped', 'welcome', 'were', 'whether', 'whole', 'work'],\n",
              "       dtype='<U80'),\n",
              " array(['09', '10', '1835', '1993', '23', '29', '60', '825', '92', '9760',\n",
              "        'able', 'abstinence', 'accept', 'activists', 'agron', 'also',\n",
              "        'anyone', 'apr', 'asked', 'astray', 'because', 'being', 'believe',\n",
              "        'believers', 'bgu', 'bible', 'blindness', 'bob', 'bound',\n",
              "        'building', 'called', 'came', 'canaan', 'christian', 'christians',\n",
              "        'city', 'concern', 'controlled', 'correctly', 'dan', 'danger',\n",
              "        'dean', 'decided', 'descriptions', 'did', 'directions', 'dlecoint',\n",
              "        'doing', 'ending', 'everyone', 'exchanged', 'existence',\n",
              "        'expresses', 'feels', 'fnal', 'founder', 'fully', 'gained',\n",
              "        'garnet', 'genesis', 'genocide', 'georgia', 'given', 'goodbye',\n",
              "        'had', 'hard', 'he', 'him', 'his', 'jemurray', 'jesus', 'johnson',\n",
              "        'joseph', 'kingdom', 'labs', 'lexington', 'line', 'lord', 'matter',\n",
              "        'mean', 'meaning', 'message', 'met', 'motives', 'must', 'name',\n",
              "        'nothing', 'nyu', 'often', 'our', 'perhaps', 'pithy', 'precious',\n",
              "        'precise', 'priests', 'prism', 'prophet', 'purpose', 'put',\n",
              "        'rather', 'resist', 'resurrection', 'rise', 'risk', 'ruthless',\n",
              "        'said', 'say', 'says', 'school', 'search', 'should', 'simply',\n",
              "        'simulation', 'skipper', 'small', 'state', 'statements', 'steven',\n",
              "        'suffering', 'sure', 'talked', 'text', 'them', 'themselves',\n",
              "        'theories', 'time', 'too', 'trinity', 'uga', 'uk', 'uribe', 'use',\n",
              "        'used', 'useful', 'weren', 'wheaton', 'where', 'why', 'wrote',\n",
              "        'yourself'], dtype='<U80'),\n",
              " array(['16', '25', '2a', '_want_', 'actions', 'actually', 'appropriate',\n",
              "        'apr', 'arabs', 'ask', 'been', 'beings', 'big', 'bodies', 'book',\n",
              "        'both', 'bothers', 'boundaries', 'brother', 'ca', 'certainly',\n",
              "        'check', 'christ', 'christianity', 'christians', 'church', 'cia',\n",
              "        'claim', 'classically', 'come', 'concern', 'consultant', 'courant',\n",
              "        'current', 'department', 'didn', 'does', 'doesn', 'doing', 'dont',\n",
              "        'enclosed', 'essence', 'essential', 'ethics', 'everyday', 'faith',\n",
              "        'faiths', 'father', 'filled', 'first', 'forgetting', 'go',\n",
              "        'grabbed', 'grace', 'graduate', 'great', 'hair', 'hard', 'he',\n",
              "        'help', 'here', 'him', 'his', 'hold', 'hopper', 'identify',\n",
              "        'intended', 'intent', 'invention', 'jewish', 'known', 'leave',\n",
              "        'll', 'llo', 'make', 'marriages', 'matthew', 'may', 'must',\n",
              "        'netters', 'never', 'new', 'normal', 'now', 'nt', 'oh',\n",
              "        'oppressing', 'outside', 'party', 'peace', 'perfect', 'quite',\n",
              "        'quoted', 'rabbi', 'read', 'real', 'religions', 'rely', 'repent',\n",
              "        'respect', 'rutgers', 'sabbath', 'same', 'scriptura', 'send',\n",
              "        'shall', 'should', 'something', 'speed', 'st', 'storrs',\n",
              "        'successful', 'such', 'suppose', 'swear', 'than', 'them',\n",
              "        'theologically', 'these', 'those', 'thrust', 'time', 'title',\n",
              "        'truly', 'uchicago', 'ucsd', 'unfortunately', 'vey', 'wanted',\n",
              "        'well', 'whole', 'whom', 'work', 'world', 'wrote'], dtype='<U80'),\n",
              " array(['01', '12', '13', '16', '66', 'able', 'after', 'almost', 'always',\n",
              "        'amen', 'another', 'around', 'aside', 'attack', 'attacking',\n",
              "        'attitudes', 'back', 'badly', 'before', 'being', 'believe',\n",
              "        'better', 'bible', 'biblical', 'bjorn', 'body', 'book', 'books',\n",
              "        'both', 'broken', 'bust', 'caralv', 'carl', 'catholic', 'change',\n",
              "        'coming', 'constantly', 'contrary', 'could', 'cover', 'crazy',\n",
              "        'crucify', 'deleted', 'desiree_bradley', 'destruction', 'discover',\n",
              "        'disparate', 'draw', 'du', 'empire', 'especially', 'eternal',\n",
              "        'everything', 'expressions', 'fact', 'find', 'first', 'founded',\n",
              "        'georgia', 'give', 'god', 'halifax', 'having', 'him', 'his',\n",
              "        'holy', 'horrible', 'however', 'idea', 'implications', 'important',\n",
              "        'info', 'intensive', 'into', 'invited', 'its', 'jesus', 'jono',\n",
              "        'judged', 'last', 'leviticus', 'lie', 'logic', 'longer', 'look',\n",
              "        'mark', 'mentioned', 'michael', 'midway', 'mot', 'music', 'need',\n",
              "        'net', 'next', 'non', 'nothing', 'often', 'opportunity', 'part',\n",
              "        'participation', 'paul', 'people', 'perhaps', 'please', 'possible',\n",
              "        'problem', 'quite', 'read', 'realize', 'really', 'reason',\n",
              "        'relationship', 'relevant', 'reply', 'rest', 'rjs2', 'sacrifice',\n",
              "        'same', 'satisfy', 'scientist', 'section', 'seen', 'sexually',\n",
              "        'share', 'sole', 'something', 'soup', 'spend', 'state', 'sunday',\n",
              "        'suspicion', 'their', 'through', 'today', 'took', 'toungues',\n",
              "        'trivial', 'under', 'understand', 'unisys', 'usenet', 've', 'were',\n",
              "        'whatever', 'whether', 'whosoever', 'wilkerson', 'without', 'word',\n",
              "        'wrong', 'years'], dtype='<U80'),\n",
              " array(['01', '10', '110', '1349', '25', '36', 'above', 'achieve', 'acs',\n",
              "        'afraid', 'andrew', 'anger', 'argument', 'arose', 'athens', 'away',\n",
              "        'basic', 'bear', 'beard', 'because', 'been', 'being', 'bible',\n",
              "        'came', 'carcs1', 'case', 'catholic', 'cbnewsk', 'cheap', 'church',\n",
              "        'claim', 'colorado', 'come', 'comes', 'commit', 'conquer',\n",
              "        'conscience', 'covington', 'cowardice', 'cruelty', 'curious',\n",
              "        'davidian', 'dealt', 'dean', 'deficiencies', 'did', 'difference',\n",
              "        'disproof', 'divisions', 'doing', 'drawer', 'dunedin', 'east',\n",
              "        'effectively', 'either', 'eternity', 'even', 'ever', 'express',\n",
              "        'faith', 'fax', 'few', 'figuring', 'find', 'fold', 'further',\n",
              "        'germanic', 'give', 'god', 'gospel', 'happy', 'hebrews', 'hold',\n",
              "        'honest', 'honor', 'however', 'idea', 'instead', 'involved',\n",
              "        'jesus', 'keys', 'king', 'lay', 'life', 'lived', 'lives', 'll',\n",
              "        'magazine', 'may', 'mean', 'messenger', 'motivate', 'never', 'new',\n",
              "        'north', 'nunez', 'nyc', 'off', 'org', 'particular', 'permission',\n",
              "        'points', 'possible', 'priority', 'reagan', 'really',\n",
              "        'relationship', 'reply', 'require', 'retribution', 'revulsion',\n",
              "        'right', 'rob', 'rome', 'said', 'say', 'scream', 'seems', 'single',\n",
              "        'square', 'starting', 'straightforward', 'such', 'suffering',\n",
              "        'support', 'talks', 'tape', 'than', 'think', 'until', 'values',\n",
              "        'vela', 'verses', 'very', 'views', 'were', 'while', 'whuzzat',\n",
              "        'wording', 'work', 'world'], dtype='<U80'),\n",
              " array(['11', '17', '1993', '54', 'above', 'accidents', 'according',\n",
              "        'agonizing', 'aisun3', 'alive', 'american', 'among', 'andrew',\n",
              "        'anger', 'asking', 'associated', 'ban', 'because', 'being',\n",
              "        'benefit', 'bible', 'both', 'bring', 'cards', 'case', 'ceremony',\n",
              "        'certainly', 'chrisitan', 'christian', 'comments', 'condemnation',\n",
              "        'condemns', 'consign', 'copper', 'cosmic', 'cows', 'dead',\n",
              "        'delivered', 'develop', 'ecn', 'etc', 'eventhough', 'evolution',\n",
              "        'first', 'gets', 'go', 'going', 'got', 'grey', 'happening',\n",
              "        'himself', 'his', 'hmmm', 'hold', 'husband', 'ignore', 'imply',\n",
              "        'interior', 'interprets', 'involve', 'involved', 'jill',\n",
              "        'kulikauskas', 'live', 'local', 'made', 'main', 'man', 'matthew',\n",
              "        'mature', 'may', 'mean', 'meaning', 'mmalt', 'moderator',\n",
              "        'mormonism', 'nationalism', 'network', 'non', 'numb', 'odder',\n",
              "        'once', 'open', 'parents', 'people', 'person', 'pharisees', 'po',\n",
              "        'post', 'potent', 'pretty', 'prof', 'purpose', 'pursue', 'rather',\n",
              "        'really', 'recognise', 'referred', 'relationship', 'reliance',\n",
              "        'results', 'right', 'rutgers', 'satan', 'secular', 'seem', 'sense',\n",
              "        'share', 'she', 'since', 'sinless', 'someplace', 'soon', 'spend',\n",
              "        'stay', 'steven', 'student', 'subjects', 'suited', 'sure',\n",
              "        'symbol', 'technology', 'terrible', 'test', 'than', 'them', 'then',\n",
              "        'things', 'think', 'through', 'tired', 'together', 'trait', 'true',\n",
              "        'trusted', 'until', 'unto', 've', 'velasco', 'version', 'vice',\n",
              "        'week', 'well', 'while', 'why', 'wont', 'wustl'], dtype='<U80')]"
            ]
          },
          "metadata": {
            "tags": []
          },
          "execution_count": 61
        }
      ]
    },
    {
      "cell_type": "markdown",
      "metadata": {
        "id": "D3rFgnVisgn0"
      },
      "source": [
        "***\n",
        "<a id='sampling_and_log_probs'></a>\n",
        "## __d) Sampling and log probs__"
      ]
    },
    {
      "cell_type": "code",
      "metadata": {
        "id": "KlOt3_6wsgn0",
        "colab": {
          "base_uri": "https://localhost:8080/"
        },
        "outputId": "a8b7f400-71e6-49bb-fb26-64a76c0b998a"
      },
      "source": [
        "# Make Multivariate Distribution\n",
        "\n",
        "normal_distributions = tfd.MultivariateNormalDiag(loc=[[0.5, 1], [0.1, 0], [0, 0.2]],\n",
        "                                 scale_diag=[[2, 3], [1, 3], [4, 4]])\n",
        "normal_distributions"
      ],
      "execution_count": 62,
      "outputs": [
        {
          "output_type": "execute_result",
          "data": {
            "text/plain": [
              "<tfp.distributions.MultivariateNormalDiag 'MultivariateNormalDiag' batch_shape=[3] event_shape=[2] dtype=float32>"
            ]
          },
          "metadata": {
            "tags": []
          },
          "execution_count": 62
        }
      ]
    },
    {
      "cell_type": "code",
      "metadata": {
        "id": "ehfUugwBsgn2",
        "colab": {
          "base_uri": "https://localhost:8080/"
        },
        "outputId": "99b63d98-cf2a-49e5-c735-c9acde664ba4"
      },
      "source": [
        "# Sample\n",
        "\n",
        "normal_distributions.sample(5)"
      ],
      "execution_count": 63,
      "outputs": [
        {
          "output_type": "execute_result",
          "data": {
            "text/plain": [
              "<tf.Tensor: shape=(5, 3, 2), dtype=float32, numpy=\n",
              "array([[[-0.61642456, -2.6508875 ],\n",
              "        [-0.02484179, -0.58626443],\n",
              "        [-2.3840659 , -2.2478259 ]],\n",
              "\n",
              "       [[-1.3702699 ,  9.627965  ],\n",
              "        [ 0.34466887, -2.335009  ],\n",
              "        [-0.6538167 ,  5.7416673 ]],\n",
              "\n",
              "       [[-2.086178  ,  4.7825446 ],\n",
              "        [ 1.154147  , -4.501431  ],\n",
              "        [-4.3120627 ,  0.32013714]],\n",
              "\n",
              "       [[-2.5057547 ,  2.4638143 ],\n",
              "        [-0.11568717, -5.0724864 ],\n",
              "        [ 0.63433516, -0.52497053]],\n",
              "\n",
              "       [[ 1.380878  ,  1.7464799 ],\n",
              "        [ 0.11383934,  1.1534938 ],\n",
              "        [-0.91430813,  2.0012252 ]]], dtype=float32)>"
            ]
          },
          "metadata": {
            "tags": []
          },
          "execution_count": 63
        }
      ]
    },
    {
      "cell_type": "code",
      "metadata": {
        "id": "w80M9ksdsgn3",
        "colab": {
          "base_uri": "https://localhost:8080/"
        },
        "outputId": "0c5a27ba-fded-41ad-9305-ef9332ba1ed1"
      },
      "source": [
        "# Multivariate Normal batched Distribution\n",
        "# We are broadcasting batch shapes of `loc` and `scal_diag` \n",
        "# against each other\n",
        "\n",
        "loc = [[[0.3, 1.5, 1.], [0.2, 0.4, 2.8]],\n",
        "        [[2., 2.3, 8], [1.4, 1, 1.3]]]\n",
        "scale_diag = [0.4, 1., 0.7]\n",
        "normal_distributions = tfd.MultivariateNormalDiag(loc=loc, scale_diag=scale_diag)\n",
        "normal_distributions"
      ],
      "execution_count": 64,
      "outputs": [
        {
          "output_type": "execute_result",
          "data": {
            "text/plain": [
              "<tfp.distributions.MultivariateNormalDiag 'MultivariateNormalDiag' batch_shape=[2, 2] event_shape=[3] dtype=float32>"
            ]
          },
          "metadata": {
            "tags": []
          },
          "execution_count": 64
        }
      ]
    },
    {
      "cell_type": "code",
      "metadata": {
        "id": "Y9uZwTbjsgn4",
        "colab": {
          "base_uri": "https://localhost:8080/"
        },
        "outputId": "b5208a2b-2a35-4c79-d50c-0bf6aaa60ff1"
      },
      "source": [
        "# Use independent to move part of the batch shape\n",
        "\n",
        "ind_normal_distributions = tfd.Independent(normal_distributions,\n",
        "                                           reinterpreted_batch_ndims=1)\n",
        "ind_normal_distributions"
      ],
      "execution_count": 65,
      "outputs": [
        {
          "output_type": "execute_result",
          "data": {
            "text/plain": [
              "<tfp.distributions.Independent 'IndependentMultivariateNormalDiag' batch_shape=[2] event_shape=[2, 3] dtype=float32>"
            ]
          },
          "metadata": {
            "tags": []
          },
          "execution_count": 65
        }
      ]
    },
    {
      "cell_type": "code",
      "metadata": {
        "id": "HVM4lq7Tsgn4",
        "colab": {
          "base_uri": "https://localhost:8080/"
        },
        "outputId": "03c3e3cf-41d8-4277-dfef-567e3dd4e9ed"
      },
      "source": [
        "# Draw some samples\n",
        "\n",
        "samples = ind_normal_distributions.sample(5)\n",
        "samples.shape"
      ],
      "execution_count": 66,
      "outputs": [
        {
          "output_type": "execute_result",
          "data": {
            "text/plain": [
              "TensorShape([5, 2, 2, 3])"
            ]
          },
          "metadata": {
            "tags": []
          },
          "execution_count": 66
        }
      ]
    },
    {
      "cell_type": "code",
      "metadata": {
        "id": "XMv3kGNksgn5",
        "colab": {
          "base_uri": "https://localhost:8080/"
        },
        "outputId": "185a2c25-bc55-43ef-edbc-f6d3b7bdff48"
      },
      "source": [
        "# `[B, E]` shaped input\n",
        "\n",
        "inp = tf.random.uniform((2, 2, 3))\n",
        "ind_normal_distributions.log_prob(inp)"
      ],
      "execution_count": 67,
      "outputs": [
        {
          "output_type": "execute_result",
          "data": {
            "text/plain": [
              "<tf.Tensor: shape=(2,), dtype=float32, numpy=array([-11.756409, -66.098785], dtype=float32)>"
            ]
          },
          "metadata": {
            "tags": []
          },
          "execution_count": 67
        }
      ]
    },
    {
      "cell_type": "code",
      "metadata": {
        "id": "2t0x9cLSsgn6",
        "colab": {
          "base_uri": "https://localhost:8080/"
        },
        "outputId": "73f1f959-ab6a-40fb-d1e6-131e9aed4148"
      },
      "source": [
        "# `[E]` shaped input (broadcasting over batch size)\n",
        "\n",
        "inp = tf.random.uniform((2, 3))\n",
        "ind_normal_distributions.log_prob(inp)"
      ],
      "execution_count": 68,
      "outputs": [
        {
          "output_type": "execute_result",
          "data": {
            "text/plain": [
              "<tf.Tensor: shape=(2,), dtype=float32, numpy=array([-11.850761, -76.12896 ], dtype=float32)>"
            ]
          },
          "metadata": {
            "tags": []
          },
          "execution_count": 68
        }
      ]
    },
    {
      "cell_type": "code",
      "metadata": {
        "id": "-cxhum6xsgn7",
        "colab": {
          "base_uri": "https://localhost:8080/"
        },
        "outputId": "6868e4a9-180b-443a-83b9-049f5123fb60"
      },
      "source": [
        "#`[S, B, E]` shaped input (broadcasting over samples)\n",
        "\n",
        "inp = tf.random.uniform((9, 2, 2, 3))\n",
        "ind_normal_distributions.log_prob(inp)"
      ],
      "execution_count": 69,
      "outputs": [
        {
          "output_type": "execute_result",
          "data": {
            "text/plain": [
              "<tf.Tensor: shape=(9, 2), dtype=float32, numpy=\n",
              "array([[ -8.763502 , -74.403946 ],\n",
              "       [ -8.963752 , -78.71576  ],\n",
              "       [-10.053402 , -67.10482  ],\n",
              "       [-10.113637 , -70.84384  ],\n",
              "       [ -8.458472 , -77.99654  ],\n",
              "       [-13.988488 , -74.964966 ],\n",
              "       [ -7.66702  , -65.602325 ],\n",
              "       [-10.51793  , -65.675446 ],\n",
              "       [-11.9138565, -72.61048  ]], dtype=float32)>"
            ]
          },
          "metadata": {
            "tags": []
          },
          "execution_count": 69
        }
      ]
    },
    {
      "cell_type": "code",
      "metadata": {
        "id": "6uIkjUpMsgn8",
        "colab": {
          "base_uri": "https://localhost:8080/"
        },
        "outputId": "d3a9d701-8e9c-4ea7-b733-8e7522167409"
      },
      "source": [
        "# `[S, b, e]` shaped input, where [b, e] is broadcastable over [B, E]\n",
        "\n",
        "inp = tf.random.uniform((5, 1, 2, 1))\n",
        "ind_normal_distributions.log_prob(inp)"
      ],
      "execution_count": 70,
      "outputs": [
        {
          "output_type": "execute_result",
          "data": {
            "text/plain": [
              "<tf.Tensor: shape=(5, 2), dtype=float32, numpy=\n",
              "array([[ -9.843089 , -61.68399  ],\n",
              "       [-10.387953 , -61.109745 ],\n",
              "       [ -9.2092285, -71.7383   ],\n",
              "       [-12.003781 , -83.812454 ],\n",
              "       [ -9.123208 , -68.52439  ]], dtype=float32)>"
            ]
          },
          "metadata": {
            "tags": []
          },
          "execution_count": 70
        }
      ]
    },
    {
      "cell_type": "markdown",
      "metadata": {
        "id": "WN0c2mTosgn-"
      },
      "source": [
        "#### __Naive Bayes example__\n",
        "\n",
        "Lets now use what we have learned and continue the Naive Bayes classifier we were building last tutorial."
      ]
    },
    {
      "cell_type": "markdown",
      "metadata": {
        "id": "dwqQnd7gwgx4"
      },
      "source": [
        "#### Import the data\n",
        "\n",
        "The dataset required for this coding tutorial can be downloaded from the following link:\n",
        "\n",
        "[20_Newsgroup_Data.zip](https://github.com/mohd-faizy/Probabilistic-Deep-Learning-with-TensorFlow/raw/main/01_The%20TensorFlow_Probability_library/20_Newsgroup_Data.zip)\n",
        "\n",
        "You should store this file in Drive for use in this Colab notebook."
      ]
    },
    {
      "cell_type": "code",
      "metadata": {
        "id": "mdR-4dPcsgn_"
      },
      "source": [
        "from sklearn.datasets import fetch_20newsgroups\n",
        "from sklearn.feature_extraction.text import CountVectorizer\n",
        "from sklearn.naive_bayes import BernoulliNB\n",
        "from sklearn.metrics import f1_score"
      ],
      "execution_count": 71,
      "outputs": []
    },
    {
      "cell_type": "code",
      "metadata": {
        "id": "6Oqs907ysgoB"
      },
      "source": [
        "# Making a function get_data which:\n",
        "#   1) Fetches the 20 newsgroup dataset\n",
        "#   2) Performs a word count on the articles and binarizes the result\n",
        "#   3) Returns the data as a numpy matrix with the labels\n",
        "\n",
        "def get_data(categories):\n",
        "    \n",
        "    newsgroups_train_data = fetch_20newsgroups(data_home='/content/20_Newsgroup_Data',\n",
        "                                               subset='train', categories=categories)\n",
        "    newsgroups_test_data = fetch_20newsgroups(data_home='/content/20_Newsgroup_Data',\n",
        "                                              subset='test', categories=categories)\n",
        "\n",
        "    n_documents = len(newsgroups_test_data['data'])\n",
        "    count_vectorizer = CountVectorizer(input='content', binary=True,max_df=0.25, min_df=1.01/n_documents)\n",
        "    \n",
        "    train_binary_bag_of_words = count_vectorizer.fit_transform(newsgroups_train_data['data'])\n",
        "    test_binary_bag_of_words = count_vectorizer.transform(newsgroups_test_data['data']) \n",
        "\n",
        "    return (train_binary_bag_of_words.todense(), newsgroups_train_data['target']),  (test_binary_bag_of_words.todense(), newsgroups_test_data['target'])"
      ],
      "execution_count": 72,
      "outputs": []
    },
    {
      "cell_type": "code",
      "metadata": {
        "id": "oasCKIY4sgoC"
      },
      "source": [
        "# Defining a function to conduct Laplace smoothing. This adds a base level of probability for a given feature\n",
        "# to occur in every class.\n",
        "\n",
        "def laplace_smoothing(labels, binary_data, n_classes):\n",
        "    # Compute the parameter estimates (adjusted fraction of documents in class that contain word)\n",
        "    n_words = binary_data.shape[1]\n",
        "    alpha = 1 # parameters for Laplace smoothing\n",
        "    theta = np.zeros([n_classes, n_words]) # stores parameter values - prob. word given class\n",
        "    for c_k in range(n_classes): # 0, 1, ..., 19\n",
        "        class_mask = (labels == c_k)\n",
        "        N = class_mask.sum() # number of articles in class\n",
        "        theta[c_k, :] = (binary_data[class_mask, :].sum(axis=0) + alpha)/(N + alpha*2)\n",
        "\n",
        "    return theta"
      ],
      "execution_count": 73,
      "outputs": []
    },
    {
      "cell_type": "code",
      "metadata": {
        "id": "-_9fxEIdsgoD"
      },
      "source": [
        "# Getting a subset of the 20 newsgroup dataset\n",
        "\n",
        "categories = ['alt.atheism', 'talk.religion.misc', 'comp.graphics', 'sci.space']\n",
        "\n",
        "(train_data, train_labels), (test_data, test_labels) = get_data(categories=categories)\n",
        "smoothed_counts = laplace_smoothing(labels=train_labels, binary_data=train_data, n_classes=len(categories))"
      ],
      "execution_count": 74,
      "outputs": []
    },
    {
      "cell_type": "markdown",
      "metadata": {
        "id": "00DbbifVsgoD"
      },
      "source": [
        "To now make our NB classifier we need to build three functions:\n",
        "* Compute the class priors\n",
        "* Build our class conditional distributions\n",
        "* Put it all together and classify our data"
      ]
    },
    {
      "cell_type": "code",
      "metadata": {
        "id": "jiU1sFnHsgoE"
      },
      "source": [
        "# Function which computes the prior probability of every class based on frequency of occurence in \n",
        "# the dataset\n",
        "\n",
        "def class_priors(n_classes, labels):\n",
        "    counts = np.zeros(n_classes)\n",
        "    for c_k in range(n_classes):\n",
        "        counts[c_k] = np.sum(np.where(labels==c_k, 1, 0))\n",
        "    priors = counts / np.sum(counts)\n",
        "    print('The class priors are {}'.format(priors))\n",
        "    return priors"
      ],
      "execution_count": 75,
      "outputs": []
    },
    {
      "cell_type": "code",
      "metadata": {
        "id": "0SHV-BzgsgoF",
        "colab": {
          "base_uri": "https://localhost:8080/"
        },
        "outputId": "7e46ed2c-2322-44ce-bf13-3c29645cfb70"
      },
      "source": [
        "# Run the function \n",
        "\n",
        "priors = class_priors(n_classes=len(categories), labels=train_labels)"
      ],
      "execution_count": 76,
      "outputs": [
        {
          "output_type": "stream",
          "text": [
            "The class priors are [0.2359882  0.28711898 0.29154376 0.18534907]\n"
          ],
          "name": "stdout"
        }
      ]
    },
    {
      "cell_type": "code",
      "metadata": {
        "id": "yWZaIj2YsgoF",
        "colab": {
          "base_uri": "https://localhost:8080/"
        },
        "outputId": "9e84e67f-3ca4-4f9a-8d55-d8362fc83158"
      },
      "source": [
        "# Now we will do a function that given the feature occurence counts returns a Bernoulli distribution of \n",
        "# batch_shape=number of classes and event_shape=number of features.\n",
        "\n",
        "def make_distributions(probs):\n",
        "    batch_of_bernoullis = tfd.Bernoulli(probs=probs)\n",
        "    dist = tfd.Independent(batch_of_bernoullis,\n",
        "                            reinterpreted_batch_ndims=1)\n",
        "    return dist\n",
        "\n",
        "tf_dist = make_distributions(smoothed_counts)\n",
        "tf_dist"
      ],
      "execution_count": 77,
      "outputs": [
        {
          "output_type": "execute_result",
          "data": {
            "text/plain": [
              "<tfp.distributions.Independent 'IndependentBernoulli' batch_shape=[4] event_shape=[17495] dtype=int32>"
            ]
          },
          "metadata": {
            "tags": []
          },
          "execution_count": 77
        }
      ]
    },
    {
      "cell_type": "code",
      "metadata": {
        "id": "KzqiG4LYsgoI"
      },
      "source": [
        "# The final function predict_sample which given the distribution, a test sample, and the class priors:\n",
        "#   1) Computes the class conditional probabilities given the sample\n",
        "#   2) Forms the joint likelihood\n",
        "#   3) Normalises the joint likelihood and returns the log prob\n",
        "\n",
        "def predict_sample(dist, sample, priors):\n",
        "    cond_probs = dist.log_prob(sample)\n",
        "    joint_likelihood = tf.add(np.log(priors), cond_probs)\n",
        "    norm_factor = tf.math.reduce_logsumexp(joint_likelihood, axis=-1, keepdims=True)\n",
        "    log_prob = joint_likelihood - norm_factor\n",
        "\n",
        "    return log_prob"
      ],
      "execution_count": 80,
      "outputs": []
    },
    {
      "cell_type": "markdown",
      "metadata": {
        "id": "8kTjEmFysgoJ"
      },
      "source": [
        "#### Computing log_probs"
      ]
    },
    {
      "cell_type": "code",
      "metadata": {
        "id": "rXimNT4csgoJ",
        "colab": {
          "base_uri": "https://localhost:8080/"
        },
        "outputId": "ee88a8e9-8dc7-4b39-e8d0-9dfe8ed7c11b"
      },
      "source": [
        "# Predicting one example from our test data\n",
        "\n",
        "log_probs = predict_sample(tf_dist, test_data[0], priors)\n",
        "log_probs"
      ],
      "execution_count": 81,
      "outputs": [
        {
          "output_type": "execute_result",
          "data": {
            "text/plain": [
              "<tf.Tensor: shape=(4,), dtype=float32, numpy=\n",
              "array([-6.1736359e+01, -1.5258789e-05, -1.1619873e+01, -6.3327652e+01],\n",
              "      dtype=float32)>"
            ]
          },
          "metadata": {
            "tags": []
          },
          "execution_count": 81
        }
      ]
    },
    {
      "cell_type": "code",
      "metadata": {
        "id": "kU5TbCt4sgoK",
        "colab": {
          "base_uri": "https://localhost:8080/"
        },
        "outputId": "970da144-5918-40da-d201-28f58ad9f79a"
      },
      "source": [
        "# Loop over our test data and classify.\n",
        "\n",
        "probabilities = []\n",
        "for sample, label in zip(test_data, test_labels):\n",
        "    probabilities.append(tf.exp(predict_sample(tf_dist, sample, priors)))\n",
        "\n",
        "probabilities = np.asarray(probabilities)\n",
        "predicted_classes = np.argmax(probabilities, axis =-1)\n",
        "print('f1 ', f1_score(test_labels, predicted_classes, average='macro'))"
      ],
      "execution_count": 82,
      "outputs": [
        {
          "output_type": "stream",
          "text": [
            "f1  0.7848499112849504\n"
          ],
          "name": "stdout"
        }
      ]
    },
    {
      "cell_type": "code",
      "metadata": {
        "id": "mivNa-lwsgoK",
        "colab": {
          "base_uri": "https://localhost:8080/"
        },
        "outputId": "342bf8ab-2353-4823-8435-b59b891f88ac"
      },
      "source": [
        "# Make a Bernoulli Naive Bayes classifier using sklearn with the same level of alpha smoothing. \n",
        "\n",
        "clf = BernoulliNB(alpha=1)\n",
        "clf.fit(train_data, train_labels)\n",
        "pred = clf.predict(test_data)\n",
        "print('f1 from sklean ', f1_score(test_labels, pred, average='macro'))"
      ],
      "execution_count": 83,
      "outputs": [
        {
          "output_type": "stream",
          "text": [
            "f1 from sklean  0.7848499112849504\n"
          ],
          "name": "stdout"
        }
      ]
    },
    {
      "cell_type": "markdown",
      "metadata": {
        "id": "ycDlIEiGsgoM"
      },
      "source": [
        "***\n",
        "<a id='trainable_distributions'></a>\n",
        "## Trainable Distributions"
      ]
    },
    {
      "cell_type": "code",
      "metadata": {
        "id": "LD0A3yan6e3L"
      },
      "source": [
        "from sklearn.datasets import fetch_20newsgroups\n",
        "from sklearn.feature_extraction.text import CountVectorizer\n",
        "from sklearn.naive_bayes import BernoulliNB\n",
        "from sklearn.metrics import f1_score"
      ],
      "execution_count": 84,
      "outputs": []
    },
    {
      "cell_type": "code",
      "metadata": {
        "id": "Vqb5nOE8sgoN"
      },
      "source": [
        "# Define an exponential distribution\n",
        "\n",
        "exponential = tfd.Exponential(rate=0.3, name='exp')"
      ],
      "execution_count": 85,
      "outputs": []
    },
    {
      "cell_type": "code",
      "metadata": {
        "id": "J117CKjnsgoO",
        "colab": {
          "base_uri": "https://localhost:8080/",
          "height": 265
        },
        "outputId": "b0002368-fd42-4ad2-97e7-595ee96c6607"
      },
      "source": [
        "# Plot\n",
        "\n",
        "plt.hist(exponential.sample(5000), bins=100, density=True)\n",
        "plt.show()"
      ],
      "execution_count": 86,
      "outputs": [
        {
          "output_type": "display_data",
          "data": {
            "image/png": "[encoded data removed]",
            "text/plain": [
              "<Figure size 432x288 with 1 Axes>"
            ]
          },
          "metadata": {
            "tags": [],
            "needs_background": "light"
          }
        }
      ]
    },
    {
      "cell_type": "code",
      "metadata": {
        "id": "v0OfEcDisgoP",
        "colab": {
          "base_uri": "https://localhost:8080/"
        },
        "outputId": "17ffac6d-7a87-40b1-a666-1fb2d8e13ef3"
      },
      "source": [
        "# Define an exponential distribution with a trainable rate parameter\n",
        "\n",
        "exp_train = tfd.Exponential(rate=tf.Variable(1., name='rate'), name='exp_train')\n",
        "exp_train.trainable_variables"
      ],
      "execution_count": 89,
      "outputs": [
        {
          "output_type": "execute_result",
          "data": {
            "text/plain": [
              "(<tf.Variable 'rate:0' shape=() dtype=float32, numpy=1.0>,)"
            ]
          },
          "metadata": {
            "tags": []
          },
          "execution_count": 89
        }
      ]
    },
    {
      "cell_type": "code",
      "metadata": {
        "id": "uKCuuoT8sgoQ"
      },
      "source": [
        "# Define the negative log likelihood\n",
        "\n",
        "def nll(x_train, distribution):\n",
        "    return -tf.reduce_mean(distribution.log_prob(x_train))\n"
      ],
      "execution_count": 103,
      "outputs": []
    },
    {
      "cell_type": "code",
      "metadata": {
        "id": "_IVhv4HjsgoR"
      },
      "source": [
        "# Define a function to compute the loss and gradients\n",
        "\n",
        "@tf.function\n",
        "def get_loss_and_grads(x_train, distribution):\n",
        "    with tf.GradientTape() as tape:\n",
        "        tape.watch(distribution.trainable_variables)\n",
        "        loss = nll(x_train, distribution)\n",
        "    grads = tape.gradient(loss, distribution.trainable_variables)\n",
        "    return loss, grads"
      ],
      "execution_count": 104,
      "outputs": []
    },
    {
      "cell_type": "code",
      "metadata": {
        "id": "z4n7PHwTsgoS"
      },
      "source": [
        "# Optimize\n",
        "\n",
        "def exponential_dist_optimisation(data, distribution):\n",
        "\n",
        "    # Keep results for plotting\n",
        "    train_loss_results = []\n",
        "    train_rate_results = []\n",
        "    \n",
        "    optimizer = tf.keras.optimizers.SGD(learning_rate=0.05)\n",
        "\n",
        "    num_steps = 10\n",
        "\n",
        "    for i in range(num_steps):\n",
        "        loss, grads = get_loss_and_grads(data, distribution)\n",
        "        optimizer.apply_gradients(zip(grads, distribution.trainable_variables))\n",
        "\n",
        "        rate_value = distribution.rate.value()\n",
        "        train_loss_results.append(loss)\n",
        "        train_rate_results.append(rate_value)\n",
        "        print(\"Step {:03d}: Loss: {:.3f}: Rate: {:.3f}\".format(i, loss, rate_value))\n",
        "        \n",
        "    return train_loss_results, train_rate_results"
      ],
      "execution_count": 105,
      "outputs": []
    },
    {
      "cell_type": "code",
      "metadata": {
        "id": "cotOTqvysgoT",
        "colab": {
          "base_uri": "https://localhost:8080/"
        },
        "outputId": "205c452b-9599-4afc-dff7-9371b776dc96"
      },
      "source": [
        "# Get some data and train\n",
        "\n",
        "sampled_data = exponential.sample(5000)\n",
        "train_loss_results, train_rate_results = exponential_dist_optimisation(data=sampled_data, distribution=exp_train)"
      ],
      "execution_count": 106,
      "outputs": [
        {
          "output_type": "stream",
          "text": [
            "Step 000: Loss: 3.392: Rate: 0.880\n",
            "Step 001: Loss: 3.114: Rate: 0.768\n",
            "Step 002: Loss: 2.868: Rate: 0.663\n",
            "Step 003: Loss: 2.660: Rate: 0.569\n",
            "Step 004: Loss: 2.494: Rate: 0.487\n",
            "Step 005: Loss: 2.372: Rate: 0.420\n",
            "Step 006: Loss: 2.292: Rate: 0.370\n",
            "Step 007: Loss: 2.249: Rate: 0.335\n",
            "Step 008: Loss: 2.230: Rate: 0.315\n",
            "Step 009: Loss: 2.224: Rate: 0.304\n"
          ],
          "name": "stdout"
        }
      ]
    },
    {
      "cell_type": "code",
      "metadata": {
        "id": "ZqWmf0xAsgoU",
        "colab": {
          "base_uri": "https://localhost:8080/"
        },
        "outputId": "598eed3d-dceb-4efc-d762-961578dcb731"
      },
      "source": [
        "# Predicted value for the rate parameter\n",
        "\n",
        "pred_value = exp_train.rate.numpy()\n",
        "exact_value = exponential.rate.numpy()\n",
        "\n",
        "print(\"Exact rate: \", exact_value)\n",
        "print(\"Pred rate:  \", pred_value)"
      ],
      "execution_count": 107,
      "outputs": [
        {
          "output_type": "stream",
          "text": [
            "Exact rate:  0.3\n",
            "Pred rate:   0.30404457\n"
          ],
          "name": "stdout"
        }
      ]
    },
    {
      "cell_type": "code",
      "metadata": {
        "id": "9GTcRseZsgoV",
        "colab": {
          "base_uri": "https://localhost:8080/",
          "height": 557
        },
        "outputId": "8e421984-345d-4ee2-f233-c7baf9d8f55b"
      },
      "source": [
        "# Plot to see the convergence of the estimated and true parameters\n",
        "\n",
        "tensor_exact_value = tf.constant(exact_value, shape=[len(train_rate_results)])\n",
        "\n",
        "fig, axes = plt.subplots(2, sharex=True, figsize=(12, 8))\n",
        "fig.suptitle('Convergence')\n",
        "\n",
        "axes[0].set_ylabel(\"Loss\", fontsize=14)\n",
        "axes[0].plot(train_loss_results)\n",
        "\n",
        "axes[1].set_ylabel(\"Rate\", fontsize=14)\n",
        "axes[1].set_xlabel(\"Epoch\", fontsize=14)\n",
        "axes[1].plot(train_rate_results, label='trainable rate variable')\n",
        "axes[1].plot(tensor_exact_value, label='exact rate')\n",
        "axes[1].legend()\n",
        "plt.show()"
      ],
      "execution_count": 108,
      "outputs": [
        {
          "output_type": "display_data",
          "data": {
            "image/png": "[encoded data removed]",
            "text/plain": [
              "<Figure size 864x576 with 2 Axes>"
            ]
          },
          "metadata": {
            "tags": [],
            "needs_background": "light"
          }
        }
      ]
    },
    {
      "cell_type": "code",
      "metadata": {
        "id": "a6BPCYP0sgoW"
      },
      "source": [
        "# Making a function get_data which:\n",
        "#   1) Fetches the 20 newsgroup dataset\n",
        "#   2) Performs a word count on the articles and binarizes the result\n",
        "#   3) Returns the data as a numpy matrix with the labels\n",
        "\n",
        "def get_data(categories):\n",
        "\n",
        "    newsgroups_train_data = fetch_20newsgroups(data_home='/content/20_Newsgroup_Data',\n",
        "                                               subset='train', categories=categories)\n",
        "    newsgroups_test_data = fetch_20newsgroups(data_home='/content/20_Newsgroup_Data',\n",
        "                                              subset='test', categories=categories)\n",
        "\n",
        "    n_documents = len(newsgroups_test_data['data'])\n",
        "    count_vectorizer = CountVectorizer(input='content', binary=True,max_df=0.25, min_df=1.01/n_documents) \n",
        "    train_binary_bag_of_words = count_vectorizer.fit_transform(newsgroups_train_data['data']) \n",
        "    test_binary_bag_of_words = count_vectorizer.transform(newsgroups_test_data['data']) \n",
        "\n",
        "    return (train_binary_bag_of_words.todense(), newsgroups_train_data['target']),  (test_binary_bag_of_words.todense(), newsgroups_test_data['target'])\n"
      ],
      "execution_count": 109,
      "outputs": []
    },
    {
      "cell_type": "code",
      "metadata": {
        "id": "vuPOJhMSsgoX"
      },
      "source": [
        "# Defining a function to conduct laplace smoothing. This adds a base level of probability for a given feature\n",
        "# to occur in every class.\n",
        "\n",
        "def laplace_smoothing(labels, binary_data, n_classes):\n",
        "    # Compute the parameter estimates (adjusted fraction of documents in class that contain word)\n",
        "    n_words = binary_data.shape[1]\n",
        "    alpha = 1 # parameters for Laplace smoothing\n",
        "    theta = np.zeros([n_classes, n_words]) # stores parameter values - prob. word given class\n",
        "    for c_k in range(n_classes): # 0, 1, ..., 19\n",
        "        class_mask = (labels == c_k)\n",
        "        N = class_mask.sum() # number of articles in class\n",
        "        theta[c_k, :] = (binary_data[class_mask, :].sum(axis=0) + alpha)/(N + alpha*2)\n",
        "\n",
        "    return theta"
      ],
      "execution_count": 110,
      "outputs": []
    },
    {
      "cell_type": "code",
      "metadata": {
        "id": "JgS2YLkRsgoY"
      },
      "source": [
        "# Now we will do a function that given the feature occurence counts returns a Bernoulli distribution of \n",
        "# batch_shape=number of classes and event_shape=number of features.\n",
        "\n",
        "def make_distributions(probs):\n",
        "    batch_of_bernoullis = tfd.Bernoulli(probs=probs) # shape (n_classes, n_words)\n",
        "    dist = tfd.Independent(batch_of_bernoullis, reinterpreted_batch_ndims=1)\n",
        "    return dist"
      ],
      "execution_count": 111,
      "outputs": []
    },
    {
      "cell_type": "code",
      "metadata": {
        "id": "RFjiXwYLsgoZ"
      },
      "source": [
        "# Function which computes the prior probability of every class based on frequency of occurence in \n",
        "# the dataset\n",
        "\n",
        "def class_priors(n_classes, labels):\n",
        "    counts = np.zeros(n_classes)\n",
        "    for c_k in range(n_classes):\n",
        "        counts[c_k] = np.sum(np.where(labels==c_k, 1, 0))\n",
        "    priors = counts / np.sum(counts)\n",
        "    print('The class priors are {}'.format(priors))\n",
        "    return priors"
      ],
      "execution_count": 112,
      "outputs": []
    },
    {
      "cell_type": "code",
      "metadata": {
        "id": "lAFUAq9fsgoa"
      },
      "source": [
        "# The final function predict_sample which given the distribution, a test sample, and the class priors:\n",
        "#   1) Computes the class conditional probabilities given the sample\n",
        "#   2) Forms the joint likelihood\n",
        "#   3) Normalises the joint likelihood and returns the log prob\n",
        "\n",
        "def predict_sample(dist, sample, priors):\n",
        "    cond_probs = dist.log_prob(sample)\n",
        "    joint_likelihood = tf.add(np.log(priors), cond_probs)\n",
        "    norm_factor = tf.math.reduce_logsumexp(joint_likelihood, axis=-1, keepdims=True)\n",
        "    log_prob = joint_likelihood - norm_factor\n",
        "\n",
        "    return log_prob"
      ],
      "execution_count": 113,
      "outputs": []
    },
    {
      "cell_type": "code",
      "metadata": {
        "id": "wHn68l5isgob"
      },
      "source": [
        "# Now we learn the distribution using gradient tape\n",
        "\n",
        "def make_distribution_withGT(data, labels, nb_classes):\n",
        "\n",
        "    class_data = []\n",
        "    train_vars = []\n",
        "    distributions = []\n",
        "    for c in range(nb_classes):\n",
        "        train_vars.append(tf.Variable(initial_value=np.random.uniform(low=0.01, high =0.1, size=data.shape[-1])))\n",
        "        distributions.append(tfd.Bernoulli(probs=train_vars[c]))\n",
        "        class_mask = (labels == c)\n",
        "        class_data.append(data[class_mask, :])\n",
        "\n",
        "    for c_num in range(0,nb_classes):\n",
        "        optimizer = tf.keras.optimizers.Adam()\n",
        "        print('\\n%-------------------%')\n",
        "        print('Class ', c_num)\n",
        "        print('%-------------------%')\n",
        "\n",
        "        for i in range(0,100):\n",
        "            loss, grads = get_loss_and_grads(class_data[c_num], distributions[c_num])\n",
        "            if(i%10==0):\n",
        "                print('iter: {} loss: {}'.format(i, loss))\n",
        "            optimizer.apply_gradients(zip(grads, distributions[c_num].trainable_variables))\n",
        "            eta = 1e-3\n",
        "            clipped_probs = tf.clip_by_value(distributions[c_num].trainable_variables,\n",
        "                                             clip_value_min=eta, clip_value_max=1)\n",
        "            train_vars[c_num] = tf.squeeze(clipped_probs)\n",
        "            \n",
        "\n",
        "    dist = tfd.Bernoulli(probs=train_vars)\n",
        "    dist = tfd.Independent(dist,reinterpreted_batch_ndims=1)\n",
        "\n",
        "    print(dist)\n",
        "\n",
        "    return dist\n"
      ],
      "execution_count": 122,
      "outputs": []
    },
    {
      "cell_type": "code",
      "metadata": {
        "id": "KMjiHt37sgoc",
        "colab": {
          "base_uri": "https://localhost:8080/"
        },
        "outputId": "0a049f22-b173-442c-c712-e160cfa73337"
      },
      "source": [
        "# Make the same Naive Bayes classifier we did last tutorial\n",
        "\n",
        "categories = ['alt.atheism', 'talk.religion.misc', 'comp.graphics', 'sci.space']\n",
        "\n",
        "(train_data, train_labels), (test_data, test_labels) = get_data(categories)\n",
        "\n",
        "smoothed_counts = laplace_smoothing(labels=train_labels, binary_data=train_data, n_classes=len(categories))\n",
        "\n",
        "priors = class_priors(n_classes=len(categories), labels=train_labels)\n",
        "tf_dist = make_distributions(smoothed_counts)"
      ],
      "execution_count": 123,
      "outputs": [
        {
          "output_type": "stream",
          "text": [
            "The class priors are [0.2359882  0.28711898 0.29154376 0.18534907]\n"
          ],
          "name": "stdout"
        }
      ]
    },
    {
      "cell_type": "code",
      "metadata": {
        "id": "y3VKgbtusgoc",
        "colab": {
          "base_uri": "https://localhost:8080/"
        },
        "outputId": "2f350545-7682-4a55-eb1d-7938a6f5bb5b"
      },
      "source": [
        "# Now train the distributions with gradient tape\n",
        "\n",
        "GT_dist = make_distribution_withGT(data=train_data, labels=train_labels, nb_classes=4)"
      ],
      "execution_count": 124,
      "outputs": [
        {
          "output_type": "stream",
          "text": [
            "\n",
            "%-------------------%\n",
            "Class  0\n",
            "%-------------------%\n",
            "iter: 0 loss: 0.07832579152423366\n",
            "iter: 10 loss: 0.06894347305528033\n",
            "iter: 20 loss: 0.060222996342706836\n",
            "iter: 30 loss: 0.05218120592196705\n",
            "iter: 40 loss: 0.044759031548345145\n",
            "iter: 50 loss: 0.0379018550873754\n",
            "iter: 60 loss: 0.03155126632645766\n",
            "iter: 70 loss: 0.02566911732741816\n",
            "iter: 80 loss: 0.020219924339709733\n",
            "iter: 90 loss: 0.0151572347232354\n",
            "\n",
            "%-------------------%\n",
            "Class  1\n",
            "%-------------------%\n",
            "iter: 0 loss: 0.07127955241503989\n",
            "iter: 10 loss: 0.061937990769672026\n",
            "iter: 20 loss: 0.05314094638202285\n",
            "iter: 30 loss: 0.0449779596289782\n",
            "iter: 40 loss: 0.03741778676096856\n",
            "iter: 50 loss: 0.030434644494345044\n",
            "iter: 60 loss: 0.023988602031351454\n",
            "iter: 70 loss: 0.018051947992478605\n",
            "iter: 80 loss: 0.012572028391125102\n",
            "iter: 90 loss: 0.007491437417768517\n",
            "\n",
            "%-------------------%\n",
            "Class  2\n",
            "%-------------------%\n",
            "iter: 0 loss: 0.0783904388365927\n",
            "iter: 10 loss: 0.06930189904430697\n",
            "iter: 20 loss: 0.06093254284122168\n",
            "iter: 30 loss: 0.05331069276547315\n",
            "iter: 40 loss: 0.046385938043994546\n",
            "iter: 50 loss: 0.04010591759581585\n",
            "iter: 60 loss: 0.034424281431691794\n",
            "iter: 70 loss: 0.029294317941405135\n",
            "iter: 80 loss: 0.02468416229071224\n",
            "iter: 90 loss: 0.020540241993693545\n",
            "\n",
            "%-------------------%\n",
            "Class  3\n",
            "%-------------------%\n",
            "iter: 0 loss: 0.07977267831453962\n",
            "iter: 10 loss: 0.07055890466877092\n",
            "iter: 20 loss: 0.06195969379331623\n",
            "iter: 30 loss: 0.053983481205388956\n",
            "iter: 40 loss: 0.046590926230770005\n",
            "iter: 50 loss: 0.03974021274615738\n",
            "iter: 60 loss: 0.03339246720568644\n",
            "iter: 70 loss: 0.027505496412316137\n",
            "iter: 80 loss: 0.0220337258491106\n",
            "iter: 90 loss: 0.016923285417091996\n",
            "tfp.distributions.Independent(\"IndependentBernoulli\", batch_shape=[4], event_shape=[17495], dtype=int32)\n"
          ],
          "name": "stdout"
        }
      ]
    },
    {
      "cell_type": "code",
      "metadata": {
        "id": "EDliliYSsgod",
        "colab": {
          "base_uri": "https://localhost:8080/"
        },
        "outputId": "98b38240-56ed-4396-d18a-31a35f1a8b34"
      },
      "source": [
        "# Compare the two results\n",
        "\n",
        "for dist in [GT_dist,tf_dist]:\n",
        "    probabilities = []\n",
        "    for sample, label in zip(test_data, test_labels):\n",
        "        probabilities.append(predict_sample(dist, sample, priors))\n",
        "\n",
        "    probabilities = np.asarray(probabilities)\n",
        "    predicted_classes = np.argmax(probabilities, axis =-1)\n",
        "    print('f1 ', f1_score(test_labels, predicted_classes, average='macro'))"
      ],
      "execution_count": 125,
      "outputs": [
        {
          "output_type": "stream",
          "text": [
            "f1  0.8279055960457952\n",
            "f1  0.7848499112849504\n"
          ],
          "name": "stdout"
        }
      ]
    }
  ]
}