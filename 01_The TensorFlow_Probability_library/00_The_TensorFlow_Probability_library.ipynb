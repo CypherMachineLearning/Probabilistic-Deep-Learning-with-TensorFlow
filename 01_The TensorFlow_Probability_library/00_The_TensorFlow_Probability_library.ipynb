{
  "nbformat": 4,
  "nbformat_minor": 0,
  "metadata": {
    "colab": {
      "name": "00_The_TensorFlow_Probability_library.ipynb",
      "provenance": [],
      "collapsed_sections": [
        "CG5Au3kC1liV",
        "2v2aM6Wa1v_A"
      ],
      "toc_visible": true,
      "authorship_tag": "ABX9TyPQcWvhWWePZoi25DHqLeOH",
      "include_colab_link": true
    },
    "kernelspec": {
      "name": "python3",
      "display_name": "Python 3"
    }
  },
  "cells": [
    {
      "cell_type": "markdown",
      "metadata": {
        "id": "view-in-github",
        "colab_type": "text"
      },
      "source": [
        "<a href=\"https://colab.research.google.com/github/mohd-faizy/07T_Probabilistic-Deep-Learning-with-TensorFlow/blob/main/00_The_TensorFlow_Probability_library.ipynb\" target=\"_parent\"><img src=\"https://colab.research.google.com/assets/colab-badge.svg\" alt=\"Open In Colab\"/></a>"
      ]
    },
    {
      "cell_type": "markdown",
      "metadata": {
        "id": "MV85Z9Ii2usJ"
      },
      "source": [
        "--- \n",
        "<strong> \n",
        "    <h1 align='center'>The TensorFlow Probability library</h1> \n",
        "</strong>\n",
        "\n",
        "---"
      ]
    },
    {
      "cell_type": "markdown",
      "metadata": {
        "id": "buSZmQw0zHmX"
      },
      "source": [
        "<p align='center'>\n",
        "<a href=#></a></p>\n",
        "\n",
        "<p align='center'>\n",
        "  <a href=\"#\"><img src='https://github.com/mohd-faizy/07T_Probabilistic-Deep-Learning-with-TensorFlow/blob/main/Tensorflow_Dev_png/head.png?raw=true' alt=\"head\"></a>\n",
        "</p>"
      ]
    },
    {
      "cell_type": "code",
      "metadata": {
        "id": "5-e2xY1T3vD8"
      },
      "source": [
        "import tensorflow as tf\n",
        "import tensorflow_probability as tfp\n",
        "tfd = tfp.distributions    # Shortcut to the distributions"
      ],
      "execution_count": 1,
      "outputs": []
    },
    {
      "cell_type": "markdown",
      "metadata": {
        "id": "pb9nJtqN8Eyl"
      },
      "source": [
        "## __a) Univariate distributions__"
      ]
    },
    {
      "cell_type": "code",
      "metadata": {
        "colab": {
          "base_uri": "https://localhost:8080/"
        },
        "id": "5wXaTsROul1B",
        "outputId": "ed4cc5e4-4c6d-4a8a-f996-464da92c71ee"
      },
      "source": [
        "# Defining our first univariate distribution object\n",
        "'''\n",
        "Standard normal distribution with 0 mean and standard\n",
        "deviation equal to 1\n",
        "'''\n",
        "normal = tfd.Normal(loc=0., scale=1.)\n",
        "print(normal)"
      ],
      "execution_count": 2,
      "outputs": [
        {
          "output_type": "stream",
          "text": [
            "tfp.distributions.Normal(\"Normal\", batch_shape=[], event_shape=[], dtype=float32)\n"
          ],
          "name": "stdout"
        }
      ]
    },
    {
      "cell_type": "code",
      "metadata": {
        "colab": {
          "base_uri": "https://localhost:8080/"
        },
        "id": "0WB4iFwzvR13",
        "outputId": "a5fb7092-4f98-4924-baba-1df7485a35f6"
      },
      "source": [
        "normal = tfd.Normal(loc=0., scale=1.)\n",
        "normal.sample()"
      ],
      "execution_count": 3,
      "outputs": [
        {
          "output_type": "execute_result",
          "data": {
            "text/plain": [
              "<tf.Tensor: shape=(), dtype=float32, numpy=0.6135887>"
            ]
          },
          "metadata": {
            "tags": []
          },
          "execution_count": 3
        }
      ]
    },
    {
      "cell_type": "code",
      "metadata": {
        "colab": {
          "base_uri": "https://localhost:8080/"
        },
        "id": "6-qUWLInwbln",
        "outputId": "2c61bb96-1c6d-441a-a94b-b04dcbc2ee6c"
      },
      "source": [
        "normal = tfd.Normal(loc=0., scale=1.)\n",
        "normal.sample(3)"
      ],
      "execution_count": 4,
      "outputs": [
        {
          "output_type": "execute_result",
          "data": {
            "text/plain": [
              "<tf.Tensor: shape=(3,), dtype=float32, numpy=array([-0.75087655, -1.7904053 ,  1.6093224 ], dtype=float32)>"
            ]
          },
          "metadata": {
            "tags": []
          },
          "execution_count": 4
        }
      ]
    },
    {
      "cell_type": "code",
      "metadata": {
        "colab": {
          "base_uri": "https://localhost:8080/"
        },
        "id": "kvvNUNpOx7xI",
        "outputId": "51e8e2fc-40d8-4a1a-fdca-67e88361b46e"
      },
      "source": [
        "normal = tfd.Normal(loc=0., scale=1.)\n",
        "normal.prob(0.5)"
      ],
      "execution_count": 5,
      "outputs": [
        {
          "output_type": "execute_result",
          "data": {
            "text/plain": [
              "<tf.Tensor: shape=(), dtype=float32, numpy=0.35206532>"
            ]
          },
          "metadata": {
            "tags": []
          },
          "execution_count": 5
        }
      ]
    },
    {
      "cell_type": "code",
      "metadata": {
        "colab": {
          "base_uri": "https://localhost:8080/"
        },
        "id": "fGC9Xuz3yq1G",
        "outputId": "ac07e831-99d0-4fd4-97dd-00643e4c61ea"
      },
      "source": [
        "normal = tfd.Normal(loc=0., scale=1.)\n",
        "normal.log_prob(0.5)"
      ],
      "execution_count": 6,
      "outputs": [
        {
          "output_type": "execute_result",
          "data": {
            "text/plain": [
              "<tf.Tensor: shape=(), dtype=float32, numpy=-1.0439385>"
            ]
          },
          "metadata": {
            "tags": []
          },
          "execution_count": 6
        }
      ]
    },
    {
      "cell_type": "code",
      "metadata": {
        "colab": {
          "base_uri": "https://localhost:8080/"
        },
        "id": "wTGLq_aA0S8H",
        "outputId": "850415e9-5ffd-4bbc-dc44-6df92cfc9d17"
      },
      "source": [
        "bernoulli = tfd.Bernoulli(probs=0.7)\n",
        "print(bernoulli)"
      ],
      "execution_count": 7,
      "outputs": [
        {
          "output_type": "stream",
          "text": [
            "tfp.distributions.Bernoulli(\"Bernoulli\", batch_shape=[], event_shape=[], dtype=int32)\n"
          ],
          "name": "stdout"
        }
      ]
    },
    {
      "cell_type": "code",
      "metadata": {
        "colab": {
          "base_uri": "https://localhost:8080/"
        },
        "id": "-P9HgKaW2IRv",
        "outputId": "d87889d3-77f9-4e67-af17-d114bbe0a089"
      },
      "source": [
        "bernoulli = tfd.Bernoulli(logits=0.847)\n",
        "print(bernoulli)"
      ],
      "execution_count": 8,
      "outputs": [
        {
          "output_type": "stream",
          "text": [
            "tfp.distributions.Bernoulli(\"Bernoulli\", batch_shape=[], event_shape=[], dtype=int32)\n"
          ],
          "name": "stdout"
        }
      ]
    },
    {
      "cell_type": "code",
      "metadata": {
        "colab": {
          "base_uri": "https://localhost:8080/"
        },
        "id": "ObK2uBa832NM",
        "outputId": "93238df8-74f7-409c-f3b2-32709d6ae940"
      },
      "source": [
        "bernoulli = tfd.Bernoulli(logits=0.847)\n",
        "bernoulli.sample(3)"
      ],
      "execution_count": 9,
      "outputs": [
        {
          "output_type": "execute_result",
          "data": {
            "text/plain": [
              "<tf.Tensor: shape=(3,), dtype=int32, numpy=array([0, 0, 1], dtype=int32)>"
            ]
          },
          "metadata": {
            "tags": []
          },
          "execution_count": 9
        }
      ]
    },
    {
      "cell_type": "code",
      "metadata": {
        "colab": {
          "base_uri": "https://localhost:8080/"
        },
        "id": "N0gmqgNQ40qz",
        "outputId": "35a821b4-a3a4-4e96-ae38-b3c7b0b2da73"
      },
      "source": [
        "bernoulli = tfd.Bernoulli(logits=0.847)\n",
        "bernoulli.prob(1)"
      ],
      "execution_count": 10,
      "outputs": [
        {
          "output_type": "execute_result",
          "data": {
            "text/plain": [
              "<tf.Tensor: shape=(), dtype=float32, numpy=0.69993746>"
            ]
          },
          "metadata": {
            "tags": []
          },
          "execution_count": 10
        }
      ]
    },
    {
      "cell_type": "code",
      "metadata": {
        "colab": {
          "base_uri": "https://localhost:8080/"
        },
        "id": "KX37c_4W6Zm3",
        "outputId": "e8a58266-3028-4f2d-f7cd-8741bcea5f73"
      },
      "source": [
        "bernoulli = tfd.Bernoulli(logits=0.847)\n",
        "bernoulli.log_prob(1)"
      ],
      "execution_count": 11,
      "outputs": [
        {
          "output_type": "execute_result",
          "data": {
            "text/plain": [
              "<tf.Tensor: shape=(), dtype=float32, numpy=-0.35676432>"
            ]
          },
          "metadata": {
            "tags": []
          },
          "execution_count": 11
        }
      ]
    },
    {
      "cell_type": "code",
      "metadata": {
        "colab": {
          "base_uri": "https://localhost:8080/"
        },
        "id": "jeuwvfzD8C3k",
        "outputId": "f66e7cbd-d4ad-4cec-fbe4-2f4e02092cd1"
      },
      "source": [
        "batched_bernoulli = tfd.Bernoulli(probs=[0.4, 0.5])\n",
        "print(batched_bernoulli)"
      ],
      "execution_count": 12,
      "outputs": [
        {
          "output_type": "stream",
          "text": [
            "tfp.distributions.Bernoulli(\"Bernoulli\", batch_shape=[2], event_shape=[], dtype=int32)\n"
          ],
          "name": "stdout"
        }
      ]
    },
    {
      "cell_type": "code",
      "metadata": {
        "colab": {
          "base_uri": "https://localhost:8080/"
        },
        "id": "RGBBZLCG_arA",
        "outputId": "0dd103b9-553b-425e-f442-4a11806a8454"
      },
      "source": [
        "batched_bernoulli.batch_shape"
      ],
      "execution_count": 13,
      "outputs": [
        {
          "output_type": "execute_result",
          "data": {
            "text/plain": [
              "TensorShape([2])"
            ]
          },
          "metadata": {
            "tags": []
          },
          "execution_count": 13
        }
      ]
    },
    {
      "cell_type": "code",
      "metadata": {
        "colab": {
          "base_uri": "https://localhost:8080/"
        },
        "id": "NOggUu8v9K8f",
        "outputId": "29d43382-97c6-42fa-e958-2c72f71bdda6"
      },
      "source": [
        "batched_bernoulli = tfd.Bernoulli(probs=[0.4, 0.5])\n",
        "batched_bernoulli.sample(3)"
      ],
      "execution_count": 14,
      "outputs": [
        {
          "output_type": "execute_result",
          "data": {
            "text/plain": [
              "<tf.Tensor: shape=(3, 2), dtype=int32, numpy=\n",
              "array([[1, 0],\n",
              "       [1, 0],\n",
              "       [1, 0]], dtype=int32)>"
            ]
          },
          "metadata": {
            "tags": []
          },
          "execution_count": 14
        }
      ]
    },
    {
      "cell_type": "code",
      "metadata": {
        "colab": {
          "base_uri": "https://localhost:8080/"
        },
        "id": "kzf3pX_J_ty-",
        "outputId": "e5ce8fac-4d16-4f57-b59f-408336c9ffcc"
      },
      "source": [
        "batched_bernoulli = tfd.Bernoulli(probs=[0.4, 0.5])\n",
        "batched_bernoulli.prob([1, 1])"
      ],
      "execution_count": 15,
      "outputs": [
        {
          "output_type": "execute_result",
          "data": {
            "text/plain": [
              "<tf.Tensor: shape=(2,), dtype=float32, numpy=array([0.4, 0.5], dtype=float32)>"
            ]
          },
          "metadata": {
            "tags": []
          },
          "execution_count": 15
        }
      ]
    },
    {
      "cell_type": "code",
      "metadata": {
        "colab": {
          "base_uri": "https://localhost:8080/"
        },
        "id": "PuEzlRFkAxxt",
        "outputId": "32a7a100-a813-471a-d3fe-8397d4b90e89"
      },
      "source": [
        "batched_bernoulli = tfd.Bernoulli(probs=[0.4, 0.5])\n",
        "batched_bernoulli.log_prob([1, 1])"
      ],
      "execution_count": 16,
      "outputs": [
        {
          "output_type": "execute_result",
          "data": {
            "text/plain": [
              "<tf.Tensor: shape=(2,), dtype=float32, numpy=array([-0.9162907, -0.6931472], dtype=float32)>"
            ]
          },
          "metadata": {
            "tags": []
          },
          "execution_count": 16
        }
      ]
    },
    {
      "cell_type": "markdown",
      "metadata": {
        "id": "ump3qiFrtQhf"
      },
      "source": [
        "__Que__"
      ]
    },
    {
      "cell_type": "code",
      "metadata": {
        "colab": {
          "base_uri": "https://localhost:8080/"
        },
        "id": "ajiVd8XMBl94",
        "outputId": "79a59dce-3739-4e91-c58a-219e0a056a18"
      },
      "source": [
        "batched_normal = tfd.Normal(loc=[-0.8, 0., 1.9], scale=[1.25, 0.6, 2.8])\n",
        "batched_normal.sample(2)"
      ],
      "execution_count": 17,
      "outputs": [
        {
          "output_type": "execute_result",
          "data": {
            "text/plain": [
              "<tf.Tensor: shape=(2, 3), dtype=float32, numpy=\n",
              "array([[-2.2298453 , -0.35056382, -1.9923555 ],\n",
              "       [-1.0445325 ,  0.04784699,  2.2386587 ]], dtype=float32)>"
            ]
          },
          "metadata": {
            "tags": []
          },
          "execution_count": 17
        }
      ]
    },
    {
      "cell_type": "markdown",
      "metadata": {
        "id": "7X-YtbAs8XmT"
      },
      "source": [
        "---"
      ]
    },
    {
      "cell_type": "markdown",
      "metadata": {
        "id": "7V-rq4XR8eEj"
      },
      "source": [
        "## __b) Multivariate distributions__"
      ]
    },
    {
      "cell_type": "code",
      "metadata": {
        "colab": {
          "base_uri": "https://localhost:8080/"
        },
        "id": "TkuJjzhL8Nb8",
        "outputId": "e2c7feb5-d793-4922-b359-f85ec0b224a5"
      },
      "source": [
        "mv_normal = tfd.MultivariateNormalDiag(loc=[-1., 0.5], scale_diag=[1., 1.5])\n",
        "print(mv_normal)"
      ],
      "execution_count": 18,
      "outputs": [
        {
          "output_type": "stream",
          "text": [
            "tfp.distributions.MultivariateNormalDiag(\"MultivariateNormalDiag\", batch_shape=[], event_shape=[2], dtype=float32)\n"
          ],
          "name": "stdout"
        }
      ]
    },
    {
      "cell_type": "code",
      "metadata": {
        "colab": {
          "base_uri": "https://localhost:8080/"
        },
        "id": "wJHnxEELYfl-",
        "outputId": "69a02cd4-de0d-41dd-84bb-468df1c031c4"
      },
      "source": [
        "mv_normal = tfd.MultivariateNormalDiag(loc=[-1., 0.5], scale_diag=[1., 1.5])\n",
        "mv_normal.sample(3)"
      ],
      "execution_count": 19,
      "outputs": [
        {
          "output_type": "execute_result",
          "data": {
            "text/plain": [
              "<tf.Tensor: shape=(3, 2), dtype=float32, numpy=\n",
              "array([[-1.621851  , -0.18090868],\n",
              "       [-2.1831627 ,  1.7473242 ],\n",
              "       [-1.2249209 ,  2.4647455 ]], dtype=float32)>"
            ]
          },
          "metadata": {
            "tags": []
          },
          "execution_count": 19
        }
      ]
    },
    {
      "cell_type": "code",
      "metadata": {
        "colab": {
          "base_uri": "https://localhost:8080/"
        },
        "id": "FKIV2Ym0TpXB",
        "outputId": "367fa67a-a91b-42f2-bf82-b3209dcdd29e"
      },
      "source": [
        "batched_normal = tfd.Normal(loc=[-1., 0.5], scale=[1., 1.5])\n",
        "print(batched_normal)"
      ],
      "execution_count": 20,
      "outputs": [
        {
          "output_type": "stream",
          "text": [
            "tfp.distributions.Normal(\"Normal\", batch_shape=[2], event_shape=[], dtype=float32)\n"
          ],
          "name": "stdout"
        }
      ]
    },
    {
      "cell_type": "code",
      "metadata": {
        "colab": {
          "base_uri": "https://localhost:8080/"
        },
        "id": "YmbKqcWFVO_s",
        "outputId": "c0b7f0d8-0790-4ab5-cf50-3eb391d2e2ff"
      },
      "source": [
        "batched_normal = tfd.Normal(loc=[-1., 0.5], scale=[1., 1.5])\n",
        "batched_normal.sample(3)"
      ],
      "execution_count": 21,
      "outputs": [
        {
          "output_type": "execute_result",
          "data": {
            "text/plain": [
              "<tf.Tensor: shape=(3, 2), dtype=float32, numpy=\n",
              "array([[-0.7395121 ,  2.9275239 ],\n",
              "       [-0.62652946, -1.22621   ],\n",
              "       [-1.2752295 , -0.09043896]], dtype=float32)>"
            ]
          },
          "metadata": {
            "tags": []
          },
          "execution_count": 21
        }
      ]
    },
    {
      "cell_type": "markdown",
      "metadata": {
        "id": "NdMl4Op5gHku"
      },
      "source": [
        "`log_prob`"
      ]
    },
    {
      "cell_type": "code",
      "metadata": {
        "colab": {
          "base_uri": "https://localhost:8080/"
        },
        "id": "BikKmjTXgKzL",
        "outputId": "bd8579c7-da1e-4b02-c5ec-a50950cc312b"
      },
      "source": [
        "mv_normal = tfd.MultivariateNormalDiag(loc=[-1., 0.5], scale_diag=[1., 1.5])\n",
        "mv_normal.log_prob([0.2, -1.8])"
      ],
      "execution_count": 22,
      "outputs": [
        {
          "output_type": "execute_result",
          "data": {
            "text/plain": [
              "<tf.Tensor: shape=(), dtype=float32, numpy=-4.1388974>"
            ]
          },
          "metadata": {
            "tags": []
          },
          "execution_count": 22
        }
      ]
    },
    {
      "cell_type": "code",
      "metadata": {
        "colab": {
          "base_uri": "https://localhost:8080/"
        },
        "id": "jVbTcznxgPpN",
        "outputId": "c54c106b-a907-4bf7-8454-eced20269279"
      },
      "source": [
        "batched_normal = tfd.Normal(loc=[-1., 0.5], scale=[1., 1.5])\n",
        "batched_normal.log_prob([0.2, -1.8])"
      ],
      "execution_count": 23,
      "outputs": [
        {
          "output_type": "execute_result",
          "data": {
            "text/plain": [
              "<tf.Tensor: shape=(2,), dtype=float32, numpy=array([-1.6389385, -2.499959 ], dtype=float32)>"
            ]
          },
          "metadata": {
            "tags": []
          },
          "execution_count": 23
        }
      ]
    },
    {
      "cell_type": "markdown",
      "metadata": {
        "id": "4P3sfWzahuI5"
      },
      "source": [
        "__Batch Multivariate Distribution__"
      ]
    },
    {
      "cell_type": "code",
      "metadata": {
        "colab": {
          "base_uri": "https://localhost:8080/"
        },
        "id": "LUGBQt5Ehyn9",
        "outputId": "6581fc61-1f5c-47e2-ed54-c0b0732ad4f5"
      },
      "source": [
        "batched_mv_normal = tfd.MultivariateNormalDiag(\n",
        "    loc=[[-1., 0.5],[2., 0], [-0.5, 1.5]],\n",
        "    scale_diag=[[1., 1.5], [2., 0.5], [1., 1.]]\n",
        "    )\n",
        "\n",
        "print(batched_mv_normal)"
      ],
      "execution_count": 24,
      "outputs": [
        {
          "output_type": "stream",
          "text": [
            "tfp.distributions.MultivariateNormalDiag(\"MultivariateNormalDiag\", batch_shape=[3], event_shape=[2], dtype=float32)\n"
          ],
          "name": "stdout"
        }
      ]
    },
    {
      "cell_type": "markdown",
      "metadata": {
        "id": "jGR3YZNintUg"
      },
      "source": [
        "__Sampling__"
      ]
    },
    {
      "cell_type": "code",
      "metadata": {
        "colab": {
          "base_uri": "https://localhost:8080/"
        },
        "id": "HcdmpvvIk4Vr",
        "outputId": "b04f1002-6715-4ce3-a831-123f04541ea4"
      },
      "source": [
        "batched_mv_normal = tfd.MultivariateNormalDiag(\n",
        "    loc=[[-1., 0.5],[2., 0], [-0.5, 1.5]],\n",
        "    scale_diag=[[1., 1.5], [2., 0.5], [1., 1.]]\n",
        "    )\n",
        "\n",
        "batched_mv_normal.sample(2)"
      ],
      "execution_count": 25,
      "outputs": [
        {
          "output_type": "execute_result",
          "data": {
            "text/plain": [
              "<tf.Tensor: shape=(2, 3, 2), dtype=float32, numpy=\n",
              "array([[[-0.527969  , -0.8762783 ],\n",
              "        [ 0.1737796 ,  0.16743484],\n",
              "        [ 0.6628307 ,  1.5791364 ]],\n",
              "\n",
              "       [[-2.5523376 ,  1.2221279 ],\n",
              "        [ 1.318002  ,  0.177484  ],\n",
              "        [-1.5138515 ,  1.8052024 ]]], dtype=float32)>"
            ]
          },
          "metadata": {
            "tags": []
          },
          "execution_count": 25
        }
      ]
    },
    {
      "cell_type": "markdown",
      "metadata": {
        "id": "9h0lIwtRqYIa"
      },
      "source": [
        "__Que__"
      ]
    },
    {
      "cell_type": "code",
      "metadata": {
        "colab": {
          "base_uri": "https://localhost:8080/"
        },
        "id": "KutLb120n2gG",
        "outputId": "1375d43b-dcfc-44ca-97b2-746e474ad5aa"
      },
      "source": [
        "batched_mv_normal = tfd.MultivariateNormalDiag(\n",
        "    loc=[[0.3, 0.8, 1.1], [2.3, -0.3, -1.]], \n",
        "    scale_diag=[[1.5, 1., 0.4], [2.5, 1.5, 0.5]])\n",
        "\n",
        "# Que: What is the shape of the Tensor returned by the following?\n",
        "batched_mv_normal.log_prob([0., -1., 1.])"
      ],
      "execution_count": 26,
      "outputs": [
        {
          "output_type": "execute_result",
          "data": {
            "text/plain": [
              "<tf.Tensor: shape=(2,), dtype=float32, numpy=array([ -3.9172401, -11.917513 ], dtype=float32)>"
            ]
          },
          "metadata": {
            "tags": []
          },
          "execution_count": 26
        }
      ]
    },
    {
      "cell_type": "markdown",
      "metadata": {
        "id": "CG5Au3kC1liV"
      },
      "source": [
        "## __c) The Independent distribution__"
      ]
    },
    {
      "cell_type": "code",
      "metadata": {
        "id": "ip7UtraD2G3q"
      },
      "source": [
        ""
      ],
      "execution_count": 26,
      "outputs": []
    },
    {
      "cell_type": "code",
      "metadata": {
        "id": "FAof407v2G0T"
      },
      "source": [
        ""
      ],
      "execution_count": 26,
      "outputs": []
    },
    {
      "cell_type": "code",
      "metadata": {
        "id": "nbpuHg5a2GxE"
      },
      "source": [
        ""
      ],
      "execution_count": 26,
      "outputs": []
    },
    {
      "cell_type": "markdown",
      "metadata": {
        "id": "yys7IpFn1_2A"
      },
      "source": [
        "## __d) Sampling and log probs__"
      ]
    },
    {
      "cell_type": "code",
      "metadata": {
        "id": "-s8EVddO2Id0"
      },
      "source": [
        ""
      ],
      "execution_count": 26,
      "outputs": []
    },
    {
      "cell_type": "code",
      "metadata": {
        "id": "EHccLKQY2ICs"
      },
      "source": [
        ""
      ],
      "execution_count": 26,
      "outputs": []
    },
    {
      "cell_type": "code",
      "metadata": {
        "id": "IIbcKylt2H_E"
      },
      "source": [
        ""
      ],
      "execution_count": 26,
      "outputs": []
    },
    {
      "cell_type": "markdown",
      "metadata": {
        "id": "2v2aM6Wa1v_A"
      },
      "source": [
        "\n",
        "## __e) Trainable distributions__\n",
        "\n"
      ]
    },
    {
      "cell_type": "code",
      "metadata": {
        "id": "aKYbg0YD2J6q"
      },
      "source": [
        ""
      ],
      "execution_count": 26,
      "outputs": []
    },
    {
      "cell_type": "code",
      "metadata": {
        "id": "Ib9KTxpP2J0u"
      },
      "source": [
        ""
      ],
      "execution_count": 26,
      "outputs": []
    },
    {
      "cell_type": "code",
      "metadata": {
        "id": "cX4s1L1Jqo3L"
      },
      "source": [
        ""
      ],
      "execution_count": 26,
      "outputs": []
    },
    {
      "cell_type": "code",
      "metadata": {
        "id": "ldJ61zRh1ke_"
      },
      "source": [
        ""
      ],
      "execution_count": 26,
      "outputs": []
    }
  ]
}