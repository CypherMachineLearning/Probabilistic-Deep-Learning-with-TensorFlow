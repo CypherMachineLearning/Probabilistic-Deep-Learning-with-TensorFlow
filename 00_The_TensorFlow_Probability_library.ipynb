{
  "nbformat": 4,
  "nbformat_minor": 0,
  "metadata": {
    "colab": {
      "name": "00_The_TensorFlow_Probability_library.ipynb",
      "provenance": [],
      "collapsed_sections": [
        "CG5Au3kC1liV",
        "2v2aM6Wa1v_A"
      ],
      "toc_visible": true,
      "authorship_tag": "ABX9TyOzINHYj4s4C/IBEpdiwBMw",
      "include_colab_link": true
    },
    "kernelspec": {
      "name": "python3",
      "display_name": "Python 3"
    }
  },
  "cells": [
    {
      "cell_type": "markdown",
      "metadata": {
        "id": "view-in-github",
        "colab_type": "text"
      },
      "source": [
        "<a href=\"https://colab.research.google.com/github/mohd-faizy/Probabilistic-Deep-Learning-with-TensorFlow/blob/main/00_The_TensorFlow_Probability_library.ipynb\" target=\"_parent\"><img src=\"https://colab.research.google.com/assets/colab-badge.svg\" alt=\"Open In Colab\"/></a>"
      ]
    },
    {
      "cell_type": "markdown",
      "metadata": {
        "id": "MV85Z9Ii2usJ"
      },
      "source": [
        "--- \n",
        "<strong> \n",
        "    <h1 align='center'>The TensorFlow Probability library</h1> \n",
        "</strong>\n",
        "\n",
        "---"
      ]
    },
    {
      "cell_type": "markdown",
      "metadata": {
        "id": "buSZmQw0zHmX"
      },
      "source": [
        "<p align='center'>\n",
        "<a href=#></a></p>\n",
        "\n",
        "<p align='center'>\n",
        "  <a href=\"#\"><img src='https://github.com/mohd-faizy/07T_Probabilistic-Deep-Learning-with-TensorFlow/blob/main/Tensorflow_Dev_png/head.png?raw=true' alt=\"head\"></a>\n",
        "</p>"
      ]
    },
    {
      "cell_type": "code",
      "metadata": {
        "id": "5-e2xY1T3vD8"
      },
      "source": [
        "# Importing tensorflow probability library \n",
        "import tensorflow as tf\n",
        "import tensorflow_probability as tfp\n",
        "tfd = tfp.distributions"
      ],
      "execution_count": 1,
      "outputs": []
    },
    {
      "cell_type": "markdown",
      "metadata": {
        "id": "pb9nJtqN8Eyl"
      },
      "source": [
        "\n",
        "## __a) Univariate distributions__"
      ]
    },
    {
      "cell_type": "code",
      "metadata": {
        "colab": {
          "base_uri": "https://localhost:8080/"
        },
        "id": "5wXaTsROul1B",
        "outputId": "d8ea2d29-0b4f-4701-aa2d-1c75ece3684c"
      },
      "source": [
        "# Importing tensorflow probability library \n",
        "import tensorflow as tf\n",
        "import tensorflow_probability as tfp\n",
        "tfd = tfp.distributions\n",
        "\n",
        "# Defining our first univariate distribution object\n",
        "'''\n",
        "Standard normal distribution with 0 mean and standard\n",
        "deviation equal to 1\n",
        "'''\n",
        "normal = tfd.Normal(loc=0., scale=1.)\n",
        "print(normal)"
      ],
      "execution_count": 2,
      "outputs": [
        {
          "output_type": "stream",
          "text": [
            "tfp.distributions.Normal(\"Normal\", batch_shape=[], event_shape=[], dtype=float32)\n"
          ],
          "name": "stdout"
        }
      ]
    },
    {
      "cell_type": "code",
      "metadata": {
        "colab": {
          "base_uri": "https://localhost:8080/"
        },
        "id": "0WB4iFwzvR13",
        "outputId": "0e71cc55-26c0-44ed-905a-e358b5ea2e14"
      },
      "source": [
        "import tensorflow as tf\n",
        "import tensorflow_probability as tfp\n",
        "tfd = tfp.distributions\n",
        "\n",
        "normal = tfd.Normal(loc=0., scale=1.)\n",
        "normal.sample()"
      ],
      "execution_count": 3,
      "outputs": [
        {
          "output_type": "execute_result",
          "data": {
            "text/plain": [
              "<tf.Tensor: shape=(), dtype=float32, numpy=0.79490465>"
            ]
          },
          "metadata": {
            "tags": []
          },
          "execution_count": 3
        }
      ]
    },
    {
      "cell_type": "code",
      "metadata": {
        "colab": {
          "base_uri": "https://localhost:8080/"
        },
        "id": "6-qUWLInwbln",
        "outputId": "fd9bd46c-5fe2-4945-adac-259b7a053608"
      },
      "source": [
        "import tensorflow as tf\n",
        "import tensorflow_probability as tfp\n",
        "tfd = tfp.distributions\n",
        "\n",
        "normal = tfd.Normal(loc=0., scale=1.)\n",
        "normal.sample(3)"
      ],
      "execution_count": 4,
      "outputs": [
        {
          "output_type": "execute_result",
          "data": {
            "text/plain": [
              "<tf.Tensor: shape=(3,), dtype=float32, numpy=array([1.2895206 , 0.11389545, 1.8660847 ], dtype=float32)>"
            ]
          },
          "metadata": {
            "tags": []
          },
          "execution_count": 4
        }
      ]
    },
    {
      "cell_type": "code",
      "metadata": {
        "colab": {
          "base_uri": "https://localhost:8080/"
        },
        "id": "kvvNUNpOx7xI",
        "outputId": "17501f79-91cb-4dff-8133-c41f14f19abc"
      },
      "source": [
        "import tensorflow as tf\n",
        "import tensorflow_probability as tfp\n",
        "tfd = tfp.distributions\n",
        "\n",
        "normal = tfd.Normal(loc=0., scale=1.)\n",
        "normal.prob(0.5)"
      ],
      "execution_count": 5,
      "outputs": [
        {
          "output_type": "execute_result",
          "data": {
            "text/plain": [
              "<tf.Tensor: shape=(), dtype=float32, numpy=0.35206532>"
            ]
          },
          "metadata": {
            "tags": []
          },
          "execution_count": 5
        }
      ]
    },
    {
      "cell_type": "code",
      "metadata": {
        "colab": {
          "base_uri": "https://localhost:8080/"
        },
        "id": "fGC9Xuz3yq1G",
        "outputId": "f1215867-370e-43fa-a15f-5c467e8f20f8"
      },
      "source": [
        "import tensorflow as tf\n",
        "import tensorflow_probability as tfp\n",
        "tfd = tfp.distributions\n",
        "\n",
        "normal = tfd.Normal(loc=0., scale=1.)\n",
        "normal.log_prob(0.5)"
      ],
      "execution_count": 6,
      "outputs": [
        {
          "output_type": "execute_result",
          "data": {
            "text/plain": [
              "<tf.Tensor: shape=(), dtype=float32, numpy=-1.0439385>"
            ]
          },
          "metadata": {
            "tags": []
          },
          "execution_count": 6
        }
      ]
    },
    {
      "cell_type": "code",
      "metadata": {
        "colab": {
          "base_uri": "https://localhost:8080/"
        },
        "id": "wTGLq_aA0S8H",
        "outputId": "fb034eb6-f5ab-4570-9260-40b112a65633"
      },
      "source": [
        "import tensorflow as tf\n",
        "import tensorflow_probability as tfp\n",
        "tfd = tfp.distributions\n",
        "\n",
        "bernoulli = tfd.Bernoulli(probs=0.7)\n",
        "print(bernoulli)"
      ],
      "execution_count": 7,
      "outputs": [
        {
          "output_type": "stream",
          "text": [
            "tfp.distributions.Bernoulli(\"Bernoulli\", batch_shape=[], event_shape=[], dtype=int32)\n"
          ],
          "name": "stdout"
        }
      ]
    },
    {
      "cell_type": "code",
      "metadata": {
        "colab": {
          "base_uri": "https://localhost:8080/"
        },
        "id": "-P9HgKaW2IRv",
        "outputId": "42af2892-fbff-4ff3-b7b5-d94ffc1c2506"
      },
      "source": [
        "import tensorflow as tf\n",
        "import tensorflow_probability as tfp\n",
        "tfd = tfp.distributions\n",
        "\n",
        "bernoulli = tfd.Bernoulli(logits=0.847)\n",
        "print(bernoulli)"
      ],
      "execution_count": 8,
      "outputs": [
        {
          "output_type": "stream",
          "text": [
            "tfp.distributions.Bernoulli(\"Bernoulli\", batch_shape=[], event_shape=[], dtype=int32)\n"
          ],
          "name": "stdout"
        }
      ]
    },
    {
      "cell_type": "code",
      "metadata": {
        "colab": {
          "base_uri": "https://localhost:8080/"
        },
        "id": "ObK2uBa832NM",
        "outputId": "2d78c2c7-b528-4a02-b20c-57c700bed508"
      },
      "source": [
        "import tensorflow as tf\n",
        "import tensorflow_probability as tfp\n",
        "tfd = tfp.distributions\n",
        "\n",
        "bernoulli = tfd.Bernoulli(logits=0.847)\n",
        "bernoulli.sample(3)"
      ],
      "execution_count": 9,
      "outputs": [
        {
          "output_type": "execute_result",
          "data": {
            "text/plain": [
              "<tf.Tensor: shape=(3,), dtype=int32, numpy=array([1, 0, 1], dtype=int32)>"
            ]
          },
          "metadata": {
            "tags": []
          },
          "execution_count": 9
        }
      ]
    },
    {
      "cell_type": "code",
      "metadata": {
        "colab": {
          "base_uri": "https://localhost:8080/"
        },
        "id": "N0gmqgNQ40qz",
        "outputId": "16a3dc3b-0952-4f69-b9cc-9513a25622d0"
      },
      "source": [
        "import tensorflow as tf\n",
        "import tensorflow_probability as tfp\n",
        "tfd = tfp.distributions\n",
        "\n",
        "bernoulli = tfd.Bernoulli(logits=0.847)\n",
        "bernoulli.prob(1)"
      ],
      "execution_count": 10,
      "outputs": [
        {
          "output_type": "execute_result",
          "data": {
            "text/plain": [
              "<tf.Tensor: shape=(), dtype=float32, numpy=0.69993746>"
            ]
          },
          "metadata": {
            "tags": []
          },
          "execution_count": 10
        }
      ]
    },
    {
      "cell_type": "code",
      "metadata": {
        "colab": {
          "base_uri": "https://localhost:8080/"
        },
        "id": "KX37c_4W6Zm3",
        "outputId": "d827e760-85dc-4d1c-8459-18382b57a9e0"
      },
      "source": [
        "import tensorflow as tf\n",
        "import tensorflow_probability as tfp\n",
        "tfd = tfp.distributions\n",
        "\n",
        "bernoulli = tfd.Bernoulli(logits=0.847)\n",
        "bernoulli.log_prob(1)"
      ],
      "execution_count": 11,
      "outputs": [
        {
          "output_type": "execute_result",
          "data": {
            "text/plain": [
              "<tf.Tensor: shape=(), dtype=float32, numpy=-0.35676432>"
            ]
          },
          "metadata": {
            "tags": []
          },
          "execution_count": 11
        }
      ]
    },
    {
      "cell_type": "code",
      "metadata": {
        "colab": {
          "base_uri": "https://localhost:8080/"
        },
        "id": "jeuwvfzD8C3k",
        "outputId": "8eb43e30-30a5-4139-a4c5-322406364144"
      },
      "source": [
        "import tensorflow as tf\n",
        "import tensorflow_probability as tfp\n",
        "tfd = tfp.distributions\n",
        "\n",
        "batched_bernoulli = tfd.Bernoulli(probs=[0.4, 0.5])\n",
        "print(batched_bernoulli)"
      ],
      "execution_count": 12,
      "outputs": [
        {
          "output_type": "stream",
          "text": [
            "tfp.distributions.Bernoulli(\"Bernoulli\", batch_shape=[2], event_shape=[], dtype=int32)\n"
          ],
          "name": "stdout"
        }
      ]
    },
    {
      "cell_type": "code",
      "metadata": {
        "colab": {
          "base_uri": "https://localhost:8080/"
        },
        "id": "RGBBZLCG_arA",
        "outputId": "9a9077c4-0b78-4d35-85fe-54de48f0ad94"
      },
      "source": [
        "import tensorflow as tf\n",
        "import tensorflow_probability as tfp\n",
        "tfd = tfp.distributions\n",
        "\n",
        "batched_bernoulli = tfd.Bernoulli(probs=[0.4, 0.5])\n",
        "batched_bernoulli.batch_shape"
      ],
      "execution_count": 13,
      "outputs": [
        {
          "output_type": "execute_result",
          "data": {
            "text/plain": [
              "TensorShape([2])"
            ]
          },
          "metadata": {
            "tags": []
          },
          "execution_count": 13
        }
      ]
    },
    {
      "cell_type": "code",
      "metadata": {
        "colab": {
          "base_uri": "https://localhost:8080/"
        },
        "id": "NOggUu8v9K8f",
        "outputId": "bbeb1383-b67e-44e1-ddc0-4530e1e8e0c7"
      },
      "source": [
        "import tensorflow as tf\n",
        "import tensorflow_probability as tfp\n",
        "tfd = tfp.distributions\n",
        "\n",
        "batched_bernoulli = tfd.Bernoulli(probs=[0.4, 0.5])\n",
        "batched_bernoulli.sample(3)"
      ],
      "execution_count": 14,
      "outputs": [
        {
          "output_type": "execute_result",
          "data": {
            "text/plain": [
              "<tf.Tensor: shape=(3, 2), dtype=int32, numpy=\n",
              "array([[1, 1],\n",
              "       [1, 1],\n",
              "       [1, 0]], dtype=int32)>"
            ]
          },
          "metadata": {
            "tags": []
          },
          "execution_count": 14
        }
      ]
    },
    {
      "cell_type": "code",
      "metadata": {
        "colab": {
          "base_uri": "https://localhost:8080/"
        },
        "id": "kzf3pX_J_ty-",
        "outputId": "7d1bb77f-eeaf-4666-cfe6-9754e7797840"
      },
      "source": [
        "import tensorflow as tf\n",
        "import tensorflow_probability as tfp\n",
        "tfd = tfp.distributions\n",
        "\n",
        "batched_bernoulli = tfd.Bernoulli(probs=[0.4, 0.5])\n",
        "batched_bernoulli.prob([1, 1])"
      ],
      "execution_count": 15,
      "outputs": [
        {
          "output_type": "execute_result",
          "data": {
            "text/plain": [
              "<tf.Tensor: shape=(2,), dtype=float32, numpy=array([0.4, 0.5], dtype=float32)>"
            ]
          },
          "metadata": {
            "tags": []
          },
          "execution_count": 15
        }
      ]
    },
    {
      "cell_type": "code",
      "metadata": {
        "colab": {
          "base_uri": "https://localhost:8080/"
        },
        "id": "PuEzlRFkAxxt",
        "outputId": "f3d3b61e-35be-4a27-e565-02ee2fb41d86"
      },
      "source": [
        "import tensorflow as tf\n",
        "import tensorflow_probability as tfp\n",
        "tfd = tfp.distributions\n",
        "\n",
        "batched_bernoulli = tfd.Bernoulli(probs=[0.4, 0.5])\n",
        "batched_bernoulli.log_prob([1, 1])"
      ],
      "execution_count": 16,
      "outputs": [
        {
          "output_type": "execute_result",
          "data": {
            "text/plain": [
              "<tf.Tensor: shape=(2,), dtype=float32, numpy=array([-0.9162907, -0.6931472], dtype=float32)>"
            ]
          },
          "metadata": {
            "tags": []
          },
          "execution_count": 16
        }
      ]
    },
    {
      "cell_type": "markdown",
      "metadata": {
        "id": "ump3qiFrtQhf"
      },
      "source": [
        "__Que__"
      ]
    },
    {
      "cell_type": "code",
      "metadata": {
        "colab": {
          "base_uri": "https://localhost:8080/"
        },
        "id": "ajiVd8XMBl94",
        "outputId": "03043333-f7f3-4825-b973-e3a0189e80c7"
      },
      "source": [
        "import tensorflow as tf\n",
        "import tensorflow_probability as tfp\n",
        "tfd = tfp.distributions\n",
        "\n",
        "batched_normal = tfd.Normal(loc=[-0.8, 0., 1.9], scale=[1.25, 0.6, 2.8])\n",
        "batched_normal.sample(2)"
      ],
      "execution_count": 17,
      "outputs": [
        {
          "output_type": "execute_result",
          "data": {
            "text/plain": [
              "<tf.Tensor: shape=(2, 3), dtype=float32, numpy=\n",
              "array([[ 0.60242516,  0.12748079,  0.5176313 ],\n",
              "       [-1.0424016 , -1.037978  ,  4.0604763 ]], dtype=float32)>"
            ]
          },
          "metadata": {
            "tags": []
          },
          "execution_count": 17
        }
      ]
    },
    {
      "cell_type": "markdown",
      "metadata": {
        "id": "7X-YtbAs8XmT"
      },
      "source": [
        "---"
      ]
    },
    {
      "cell_type": "markdown",
      "metadata": {
        "id": "7V-rq4XR8eEj"
      },
      "source": [
        "## __b) Multivariate distributions__"
      ]
    },
    {
      "cell_type": "code",
      "metadata": {
        "colab": {
          "base_uri": "https://localhost:8080/"
        },
        "id": "TkuJjzhL8Nb8",
        "outputId": "417f31ea-267d-4189-c6e3-e202c9392b53"
      },
      "source": [
        "import tensorflow as tf\n",
        "import tensorflow_probability as tfp\n",
        "tfd = tfp.distributions\n",
        "\n",
        "mv_normal = tfd.MultivariateNormalDiag(loc=[-1., 0.5], scale_diag=[1., 1.5])\n",
        "print(mv_normal)"
      ],
      "execution_count": 18,
      "outputs": [
        {
          "output_type": "stream",
          "text": [
            "tfp.distributions.MultivariateNormalDiag(\"MultivariateNormalDiag\", batch_shape=[], event_shape=[2], dtype=float32)\n"
          ],
          "name": "stdout"
        }
      ]
    },
    {
      "cell_type": "code",
      "metadata": {
        "colab": {
          "base_uri": "https://localhost:8080/"
        },
        "id": "wJHnxEELYfl-",
        "outputId": "ec014e59-222a-439c-9e6e-565340a85ed7"
      },
      "source": [
        "import tensorflow as tf\n",
        "import tensorflow_probability as tfp\n",
        "tfd = tfp.distributions\n",
        "\n",
        "mv_normal = tfd.MultivariateNormalDiag(loc=[-1., 0.5], scale_diag=[1., 1.5])\n",
        "mv_normal.sample(3)"
      ],
      "execution_count": 19,
      "outputs": [
        {
          "output_type": "execute_result",
          "data": {
            "text/plain": [
              "<tf.Tensor: shape=(3, 2), dtype=float32, numpy=\n",
              "array([[-0.73903275, -1.94632   ],\n",
              "       [-0.652802  , -0.85901463],\n",
              "       [-2.4864376 , -0.8765205 ]], dtype=float32)>"
            ]
          },
          "metadata": {
            "tags": []
          },
          "execution_count": 19
        }
      ]
    },
    {
      "cell_type": "code",
      "metadata": {
        "colab": {
          "base_uri": "https://localhost:8080/"
        },
        "id": "FKIV2Ym0TpXB",
        "outputId": "6999dc12-5ed7-4814-97b1-3b5d8095aade"
      },
      "source": [
        "import tensorflow as tf\n",
        "import tensorflow_probability as tfp\n",
        "tfd = tfp.distributions\n",
        "\n",
        "batched_normal = tfd.Normal(loc=[-1., 0.5], scale=[1., 1.5])\n",
        "print(batched_normal)"
      ],
      "execution_count": 20,
      "outputs": [
        {
          "output_type": "stream",
          "text": [
            "tfp.distributions.Normal(\"Normal\", batch_shape=[2], event_shape=[], dtype=float32)\n"
          ],
          "name": "stdout"
        }
      ]
    },
    {
      "cell_type": "code",
      "metadata": {
        "colab": {
          "base_uri": "https://localhost:8080/"
        },
        "id": "YmbKqcWFVO_s",
        "outputId": "0ae3ed46-79f4-484d-d5ac-a68ceeaa8f8b"
      },
      "source": [
        "import tensorflow as tf\n",
        "import tensorflow_probability as tfp\n",
        "tfd = tfp.distributions\n",
        "\n",
        "batched_normal = tfd.Normal(loc=[-1., 0.5], scale=[1., 1.5])\n",
        "batched_normal.sample(3)"
      ],
      "execution_count": 21,
      "outputs": [
        {
          "output_type": "execute_result",
          "data": {
            "text/plain": [
              "<tf.Tensor: shape=(3, 2), dtype=float32, numpy=\n",
              "array([[-0.6186607 ,  0.41333252],\n",
              "       [-2.0201583 ,  1.5128474 ],\n",
              "       [-3.4468193 ,  2.497111  ]], dtype=float32)>"
            ]
          },
          "metadata": {
            "tags": []
          },
          "execution_count": 21
        }
      ]
    },
    {
      "cell_type": "markdown",
      "metadata": {
        "id": "NdMl4Op5gHku"
      },
      "source": [
        "`log_prob`"
      ]
    },
    {
      "cell_type": "code",
      "metadata": {
        "colab": {
          "base_uri": "https://localhost:8080/"
        },
        "id": "BikKmjTXgKzL",
        "outputId": "f0607d8c-fdab-4e97-a7a5-8f800f641f67"
      },
      "source": [
        "import tensorflow as tf\n",
        "import tensorflow_probability as tfp\n",
        "tfd = tfp.distributions\n",
        "\n",
        "mv_normal = tfd.MultivariateNormalDiag(loc=[-1., 0.5], scale_diag=[1., 1.5])\n",
        "mv_normal.log_prob([0.2, -1.8])"
      ],
      "execution_count": 22,
      "outputs": [
        {
          "output_type": "execute_result",
          "data": {
            "text/plain": [
              "<tf.Tensor: shape=(), dtype=float32, numpy=-4.1388974>"
            ]
          },
          "metadata": {
            "tags": []
          },
          "execution_count": 22
        }
      ]
    },
    {
      "cell_type": "code",
      "metadata": {
        "colab": {
          "base_uri": "https://localhost:8080/"
        },
        "id": "jVbTcznxgPpN",
        "outputId": "54f4f4df-b27c-47d8-e895-a539ce49241c"
      },
      "source": [
        "import tensorflow as tf\n",
        "import tensorflow_probability as tfp\n",
        "tfd = tfp.distributions\n",
        "\n",
        "batched_normal = tfd.Normal(loc=[-1., 0.5], scale=[1., 1.5])\n",
        "batched_normal.log_prob([0.2, -1.8])"
      ],
      "execution_count": 23,
      "outputs": [
        {
          "output_type": "execute_result",
          "data": {
            "text/plain": [
              "<tf.Tensor: shape=(2,), dtype=float32, numpy=array([-1.6389385, -2.499959 ], dtype=float32)>"
            ]
          },
          "metadata": {
            "tags": []
          },
          "execution_count": 23
        }
      ]
    },
    {
      "cell_type": "markdown",
      "metadata": {
        "id": "4P3sfWzahuI5"
      },
      "source": [
        "__Batch Multivariate Distribution__"
      ]
    },
    {
      "cell_type": "code",
      "metadata": {
        "colab": {
          "base_uri": "https://localhost:8080/"
        },
        "id": "LUGBQt5Ehyn9",
        "outputId": "f12c2c57-d325-4b08-9ba8-edb6991127e5"
      },
      "source": [
        "import tensorflow as tf\n",
        "import tensorflow_probability as tfp\n",
        "tfd = tfp.distributions\n",
        "\n",
        "batched_mv_normal = tfd.MultivariateNormalDiag(\n",
        "    loc=[[-1., 0.5],[2., 0], [-0.5, 1.5]],\n",
        "    scale_diag=[[1., 1.5], [2., 0.5], [1., 1.]]\n",
        "    )\n",
        "\n",
        "print(batched_mv_normal)"
      ],
      "execution_count": 24,
      "outputs": [
        {
          "output_type": "stream",
          "text": [
            "tfp.distributions.MultivariateNormalDiag(\"MultivariateNormalDiag\", batch_shape=[3], event_shape=[2], dtype=float32)\n"
          ],
          "name": "stdout"
        }
      ]
    },
    {
      "cell_type": "markdown",
      "metadata": {
        "id": "jGR3YZNintUg"
      },
      "source": [
        "__Sampling__"
      ]
    },
    {
      "cell_type": "code",
      "metadata": {
        "colab": {
          "base_uri": "https://localhost:8080/"
        },
        "id": "HcdmpvvIk4Vr",
        "outputId": "ca85064f-4586-4546-9754-c52c1e0a2fa2"
      },
      "source": [
        "import tensorflow as tf\n",
        "import tensorflow_probability as tfp\n",
        "tfd = tfp.distributions\n",
        "\n",
        "batched_mv_normal = tfd.MultivariateNormalDiag(\n",
        "    loc=[[-1., 0.5],[2., 0], [-0.5, 1.5]],\n",
        "    scale_diag=[[1., 1.5], [2., 0.5], [1., 1.]]\n",
        "    )\n",
        "\n",
        "batched_mv_normal.sample(2)"
      ],
      "execution_count": 25,
      "outputs": [
        {
          "output_type": "execute_result",
          "data": {
            "text/plain": [
              "<tf.Tensor: shape=(2, 3, 2), dtype=float32, numpy=\n",
              "array([[[-2.127429  ,  1.0431628 ],\n",
              "        [ 0.88582206,  0.47338235],\n",
              "        [-2.2745285 ,  1.6040654 ]],\n",
              "\n",
              "       [[ 1.1637785 ,  1.7076061 ],\n",
              "        [ 2.4850268 ,  0.03935413],\n",
              "        [ 0.25627726,  0.09590876]]], dtype=float32)>"
            ]
          },
          "metadata": {
            "tags": []
          },
          "execution_count": 25
        }
      ]
    },
    {
      "cell_type": "markdown",
      "metadata": {
        "id": "9h0lIwtRqYIa"
      },
      "source": [
        "__Que__"
      ]
    },
    {
      "cell_type": "code",
      "metadata": {
        "colab": {
          "base_uri": "https://localhost:8080/"
        },
        "id": "KutLb120n2gG",
        "outputId": "369fa991-3784-4366-8f99-c93936b86a83"
      },
      "source": [
        "import tensorflow as tf\n",
        "import tensorflow_probability as tfp\n",
        "tfd = tfp.distributions\n",
        "\n",
        "batched_mv_normal = tfd.MultivariateNormalDiag(\n",
        "    loc=[[0.3, 0.8, 1.1], [2.3, -0.3, -1.]], \n",
        "    scale_diag=[[1.5, 1., 0.4], [2.5, 1.5, 0.5]])\n",
        "\n",
        "# Que: What is the shape of the Tensor returned by the following?\n",
        "batched_mv_normal.log_prob([0., -1., 1.])"
      ],
      "execution_count": 26,
      "outputs": [
        {
          "output_type": "execute_result",
          "data": {
            "text/plain": [
              "<tf.Tensor: shape=(2,), dtype=float32, numpy=array([ -3.9172401, -11.917513 ], dtype=float32)>"
            ]
          },
          "metadata": {
            "tags": []
          },
          "execution_count": 26
        }
      ]
    },
    {
      "cell_type": "markdown",
      "metadata": {
        "id": "CG5Au3kC1liV"
      },
      "source": [
        "## __c) The Independent distribution__"
      ]
    },
    {
      "cell_type": "code",
      "metadata": {
        "id": "ip7UtraD2G3q",
        "colab": {
          "base_uri": "https://localhost:8080/",
          "height": 88
        },
        "outputId": "8e63f57e-3e3f-49f6-a325-8b8a5657dfe9"
      },
      "source": [
        "# Importing tensorflow probability library \n",
        "import tensorflow as tf\n",
        "import tensorflow_probability as tfp\n",
        "tfd = tfp.distributions\n",
        "\n",
        "mv_normal = tfd.MultivariateNormalDiag(loc=[-1., 0.5], scale_diag=[1., 1.5])\n",
        "print(mv_normal)\n",
        "\n",
        "'''\n",
        "tfp.distributions.MultivariateNormalDiag(\"MultivariateNormalDiag\",\n",
        "                                          batch_shape=[],\n",
        "                                          event_shape=[2],\n",
        "                                          dtype=float32\n",
        "                                          )\n",
        "'''\n",
        "batched_normal = tfd.Normal(loc=[-1., 0.5], scale=[1., 1.5])\n",
        "print(batched_normal)\n",
        "\n",
        "'''\n",
        "tfp.distributions.Normal(\"Normal\",\n",
        "                          batch_shape=[2],\n",
        "                          event_shape=[],\n",
        "                          dtype=float32\n",
        "                          )\n",
        "'''"
      ],
      "execution_count": 27,
      "outputs": [
        {
          "output_type": "stream",
          "text": [
            "tfp.distributions.MultivariateNormalDiag(\"MultivariateNormalDiag\", batch_shape=[], event_shape=[2], dtype=float32)\n",
            "tfp.distributions.Normal(\"Normal\", batch_shape=[2], event_shape=[], dtype=float32)\n"
          ],
          "name": "stdout"
        },
        {
          "output_type": "execute_result",
          "data": {
            "application/vnd.google.colaboratory.intrinsic+json": {
              "type": "string"
            },
            "text/plain": [
              "'\\ntfp.distributions.Normal(\"Normal\",\\n                          batch_shape=[2],\\n                          event_shape=[],\\n                          dtype=float32\\n                          )\\n'"
            ]
          },
          "metadata": {
            "tags": []
          },
          "execution_count": 27
        }
      ]
    },
    {
      "cell_type": "code",
      "metadata": {
        "id": "FAof407v2G0T",
        "colab": {
          "base_uri": "https://localhost:8080/"
        },
        "outputId": "cd4f52be-e495-45cb-806c-d48e86e4d709"
      },
      "source": [
        "import tensorflow as tf\n",
        "import tensorflow_probability as tfp\n",
        "tfd = tfp.distributions\n",
        "\n",
        "batched_normal = tfd.Normal(loc=[-1., 0.5], scale=[1., 1.5])\n",
        "\n",
        "independent_normal = tfd.Independent(batched_normal, reinterpreted_batch_ndims=1)\n",
        "print(independent_normal)"
      ],
      "execution_count": 28,
      "outputs": [
        {
          "output_type": "stream",
          "text": [
            "tfp.distributions.Independent(\"IndependentNormal\", batch_shape=[], event_shape=[2], dtype=float32)\n"
          ],
          "name": "stdout"
        }
      ]
    },
    {
      "cell_type": "code",
      "metadata": {
        "id": "nbpuHg5a2GxE",
        "colab": {
          "base_uri": "https://localhost:8080/"
        },
        "outputId": "eeb21e57-e705-4640-be69-d39516971088"
      },
      "source": [
        "import tensorflow as tf\n",
        "import tensorflow_probability as tfp\n",
        "tfd = tfp.distributions\n",
        "\n",
        "batched_normal = tfd.Normal(loc=[-1., 0.5], scale=[1., 1.5])\n",
        "\n",
        "independent_normal = tfd.Independent(batched_normal, reinterpreted_batch_ndims=1)\n",
        "independent_normal.log_prob([-0.2, 1.8])"
      ],
      "execution_count": 29,
      "outputs": [
        {
          "output_type": "execute_result",
          "data": {
            "text/plain": [
              "<tf.Tensor: shape=(), dtype=float32, numpy=-2.9388976>"
            ]
          },
          "metadata": {
            "tags": []
          },
          "execution_count": 29
        }
      ]
    },
    {
      "cell_type": "code",
      "metadata": {
        "colab": {
          "base_uri": "https://localhost:8080/"
        },
        "id": "OJmHogM4dD7J",
        "outputId": "5eb45c57-1cbf-4e88-d544-611ce9cb9f10"
      },
      "source": [
        "import tensorflow as tf\n",
        "import tensorflow_probability as tfp\n",
        "tfd = tfp.distributions\n",
        "\n",
        "batched_normal = tfd.Normal(loc=[[-1., 0.5], [0., 1.], [0.3, -0.1]],\n",
        "                            scale=[[1., 1.5], [0.2, 0.8], [2., 1.]])\n",
        "print(batched_normal)\n",
        "\n",
        "independent_normal = tfd.Independent(batched_normal, reinterpreted_batch_ndims=1)\n",
        "print(independent_normal)"
      ],
      "execution_count": 30,
      "outputs": [
        {
          "output_type": "stream",
          "text": [
            "tfp.distributions.Normal(\"Normal\", batch_shape=[3, 2], event_shape=[], dtype=float32)\n",
            "tfp.distributions.Independent(\"IndependentNormal\", batch_shape=[3], event_shape=[2], dtype=float32)\n"
          ],
          "name": "stdout"
        }
      ]
    },
    {
      "cell_type": "markdown",
      "metadata": {
        "id": "nzZzdeXVhbqG"
      },
      "source": [
        "when `reinterpreted_batch_ndims=2`"
      ]
    },
    {
      "cell_type": "code",
      "metadata": {
        "colab": {
          "base_uri": "https://localhost:8080/"
        },
        "id": "GVuCY4JghYLb",
        "outputId": "8fb7a338-28bd-4541-b4d0-db122b173a5b"
      },
      "source": [
        "import tensorflow as tf\n",
        "import tensorflow_probability as tfp\n",
        "tfd = tfp.distributions\n",
        "\n",
        "batched_normal = tfd.Normal(loc=[[-1., 0.5], [0., 1.], [0.3, -0.1]],\n",
        "                            scale=[[1., 1.5], [0.2, 0.8], [2., 1.]])\n",
        "print(batched_normal)\n",
        "\n",
        "independent_normal = tfd.Independent(batched_normal, reinterpreted_batch_ndims=2)\n",
        "print(independent_normal)"
      ],
      "execution_count": 31,
      "outputs": [
        {
          "output_type": "stream",
          "text": [
            "tfp.distributions.Normal(\"Normal\", batch_shape=[3, 2], event_shape=[], dtype=float32)\n",
            "tfp.distributions.Independent(\"IndependentNormal\", batch_shape=[], event_shape=[3, 2], dtype=float32)\n"
          ],
          "name": "stdout"
        }
      ]
    },
    {
      "cell_type": "markdown",
      "metadata": {
        "id": "_4mN7qtD33Qy"
      },
      "source": [
        "__Question__"
      ]
    },
    {
      "cell_type": "code",
      "metadata": {
        "colab": {
          "base_uri": "https://localhost:8080/"
        },
        "id": "H6xatqJV35vp",
        "outputId": "400a4a1b-693f-4edb-86bc-44e312e6fcc5"
      },
      "source": [
        "import numpy as np\n",
        "import tensorflow_probability as tfp\n",
        "tfd = tfp.distributions\n",
        "\t\n",
        "probs = 0.5 * tf.ones((2, 4, 5))\n",
        "dist = tfd.Independent(tfd.Bernoulli(probs=probs))\n",
        "dist.log_prob(np.zeros((4, 5)))"
      ],
      "execution_count": 32,
      "outputs": [
        {
          "output_type": "execute_result",
          "data": {
            "text/plain": [
              "<tf.Tensor: shape=(2,), dtype=float32, numpy=array([-13.862944, -13.862944], dtype=float32)>"
            ]
          },
          "metadata": {
            "tags": []
          },
          "execution_count": 32
        }
      ]
    },
    {
      "cell_type": "markdown",
      "metadata": {
        "id": "yys7IpFn1_2A"
      },
      "source": [
        "## __d) Sampling and log probs__"
      ]
    },
    {
      "cell_type": "code",
      "metadata": {
        "id": "-s8EVddO2Id0",
        "colab": {
          "base_uri": "https://localhost:8080/"
        },
        "outputId": "5e38a1ef-5ffb-48be-f096-eac5e1b4f765"
      },
      "source": [
        "import tensorflow_probability as tfp\n",
        "tfd = tfp.distributions\n",
        "\n",
        "exp = tfd.Exponential(rate=[[1., 1.5, 0.8], [0.3, 0.4, 1.8]])\n",
        "print(exp)"
      ],
      "execution_count": 33,
      "outputs": [
        {
          "output_type": "stream",
          "text": [
            "tfp.distributions.Exponential(\"Exponential\", batch_shape=[2, 3], event_shape=[], dtype=float32)\n"
          ],
          "name": "stdout"
        }
      ]
    },
    {
      "cell_type": "code",
      "metadata": {
        "id": "EHccLKQY2ICs",
        "colab": {
          "base_uri": "https://localhost:8080/"
        },
        "outputId": "5aa2bf8e-7488-4855-a3bf-0f381b67e75e"
      },
      "source": [
        "import tensorflow_probability as tfp\n",
        "tfd = tfp.distributions\n",
        "\n",
        "exp = tfd.Exponential(rate=[[1., 1.5, 0.8], [0.3, 0.4, 1.8]])\n",
        "ind_exp = tfd.Independent(exp)\n",
        "print(ind_exp)"
      ],
      "execution_count": 34,
      "outputs": [
        {
          "output_type": "stream",
          "text": [
            "tfp.distributions.Independent(\"IndependentExponential\", batch_shape=[2], event_shape=[3], dtype=float32)\n"
          ],
          "name": "stdout"
        }
      ]
    },
    {
      "cell_type": "code",
      "metadata": {
        "id": "IIbcKylt2H_E",
        "colab": {
          "base_uri": "https://localhost:8080/"
        },
        "outputId": "5fa69c26-8a5c-4205-a220-e62e89f61385"
      },
      "source": [
        "import tensorflow_probability as tfp\n",
        "tfd = tfp.distributions\n",
        "\n",
        "exp = tfd.Exponential(rate=[[1., 1.5, 0.8], [0.3, 0.4, 1.8]])\n",
        "ind_exp = tfd.Independent(exp)\n",
        "ind_exp.sample(4)"
      ],
      "execution_count": 35,
      "outputs": [
        {
          "output_type": "execute_result",
          "data": {
            "text/plain": [
              "<tf.Tensor: shape=(4, 2, 3), dtype=float32, numpy=\n",
              "array([[[1.2077969 , 0.3564397 , 0.14139712],\n",
              "        [1.9054649 , 0.49919507, 0.10692663]],\n",
              "\n",
              "       [[0.55449593, 1.8828753 , 0.9477952 ],\n",
              "        [2.1203556 , 0.6551066 , 0.007934  ]],\n",
              "\n",
              "       [[0.99103814, 0.4720573 , 6.0971665 ],\n",
              "        [2.8822787 , 0.8126075 , 2.4295464 ]],\n",
              "\n",
              "       [[0.04863515, 0.25530922, 5.282557  ],\n",
              "        [3.6649277 , 1.7710142 , 1.6327673 ]]], dtype=float32)>"
            ]
          },
          "metadata": {
            "tags": []
          },
          "execution_count": 35
        }
      ]
    },
    {
      "cell_type": "code",
      "metadata": {
        "colab": {
          "base_uri": "https://localhost:8080/"
        },
        "id": "EZ_vy4QyITfa",
        "outputId": "706677ea-baa9-4cae-c860-7c4e1c121e20"
      },
      "source": [
        "import tensorflow_probability as tfp\n",
        "tfd = tfp.distributions\n",
        "\n",
        "rates = [\n",
        "        [[[1., 1.5, 0.8], [0.3, 0.4, 1.8]]],\n",
        "        [[[0.2, 0.4, 1.4], [0.4, 1.1, 0.9]]]\n",
        "]\n",
        "\n",
        "exp = tfd.Exponential(rate=rates)\n",
        "print(exp)\n",
        "                 \n",
        "ind_exp = tfd.Independent(exp, reinterpreted_batch_ndims=2)\n",
        "print(ind_exp)"
      ],
      "execution_count": 36,
      "outputs": [
        {
          "output_type": "stream",
          "text": [
            "tfp.distributions.Exponential(\"Exponential\", batch_shape=[2, 1, 2, 3], event_shape=[], dtype=float32)\n",
            "tfp.distributions.Independent(\"IndependentExponential\", batch_shape=[2, 1], event_shape=[2, 3], dtype=float32)\n"
          ],
          "name": "stdout"
        }
      ]
    },
    {
      "cell_type": "code",
      "metadata": {
        "colab": {
          "base_uri": "https://localhost:8080/"
        },
        "id": "xrZshzysMEEF",
        "outputId": "9e63b634-c692-46e1-cdf1-f3bfc1937077"
      },
      "source": [
        "import tensorflow_probability as tfp\n",
        "tfd = tfp.distributions\n",
        "\n",
        "rates = [\n",
        "        [[[1., 1.5, 0.8], [0.3, 0.4, 1.8]]],\n",
        "        [[[0.2, 0.4, 1.4], [0.4, 1.1, 0.9]]]\n",
        "]\n",
        "\n",
        "exp = tfd.Exponential(rate=rates)\n",
        "\n",
        "ind_exp = tfd.Independent(exp, reinterpreted_batch_ndims=2)\n",
        "ind_exp.sample([4, 2])"
      ],
      "execution_count": 37,
      "outputs": [
        {
          "output_type": "execute_result",
          "data": {
            "text/plain": [
              "<tf.Tensor: shape=(4, 2, 2, 1, 2, 3), dtype=float32, numpy=\n",
              "array([[[[[[1.2257264e+00, 1.2232832e+00, 7.0149720e-01],\n",
              "           [8.3357973e+00, 1.4403078e-01, 1.0633538e+00]]],\n",
              "\n",
              "\n",
              "         [[[9.3659365e-01, 3.4003446e+00, 1.6902207e-01],\n",
              "           [1.0873689e+01, 2.9064640e-01, 5.1067572e+00]]]],\n",
              "\n",
              "\n",
              "\n",
              "        [[[[6.7949313e-01, 1.9284557e-01, 9.8037654e-01],\n",
              "           [2.6039395e-01, 1.1054556e+00, 8.9554620e-01]]],\n",
              "\n",
              "\n",
              "         [[[4.3894925e+00, 6.8220401e-01, 3.5020402e-01],\n",
              "           [1.5494161e-02, 1.9892679e+00, 2.8934154e-01]]]]],\n",
              "\n",
              "\n",
              "\n",
              "\n",
              "       [[[[[2.9557282e-01, 1.8762451e-01, 1.2875540e+00],\n",
              "           [3.3995662e+00, 1.8804076e+00, 3.4813628e-01]]],\n",
              "\n",
              "\n",
              "         [[[3.1175594e+00, 9.5878847e-02, 3.1018755e-01],\n",
              "           [1.2379711e+00, 1.5009018e+00, 8.9787644e-01]]]],\n",
              "\n",
              "\n",
              "\n",
              "        [[[[1.0001349e-01, 1.7494854e+00, 2.6508400e+00],\n",
              "           [5.1811051e-01, 1.6986041e+00, 2.0863959e-01]]],\n",
              "\n",
              "\n",
              "         [[[1.0381411e+00, 2.5614121e+00, 9.7171915e-01],\n",
              "           [2.3956754e+00, 6.8160839e-02, 2.6545560e-01]]]]],\n",
              "\n",
              "\n",
              "\n",
              "\n",
              "       [[[[[5.0764298e+00, 8.7244081e-01, 1.5043231e+00],\n",
              "           [2.5160773e+00, 2.2119172e-01, 1.7340103e-01]]],\n",
              "\n",
              "\n",
              "         [[[7.3475680e+00, 2.5734922e-01, 2.1384661e-01],\n",
              "           [5.5898952e-01, 3.4030657e+00, 2.2853790e-02]]]],\n",
              "\n",
              "\n",
              "\n",
              "        [[[[1.4423399e+00, 3.9287772e-02, 2.0263634e+00],\n",
              "           [4.0338597e+00, 6.2809014e+00, 1.7092628e+00]]],\n",
              "\n",
              "\n",
              "         [[[9.1027870e+00, 3.5373697e+00, 1.3461339e-01],\n",
              "           [4.0375343e-01, 8.8461095e-01, 1.2001373e-01]]]]],\n",
              "\n",
              "\n",
              "\n",
              "\n",
              "       [[[[[1.9914674e+00, 6.3655519e-01, 8.8492256e-01],\n",
              "           [1.0373559e+01, 1.0327606e+00, 7.1123918e-03]]],\n",
              "\n",
              "\n",
              "         [[[2.8784752e-01, 2.4865716e+00, 3.7737843e-01],\n",
              "           [6.3430786e-02, 1.2652303e+00, 2.3520622e+00]]]],\n",
              "\n",
              "\n",
              "\n",
              "        [[[[3.1662351e-01, 1.4207061e-01, 1.7081380e+00],\n",
              "           [2.2247554e-01, 2.8884814e+00, 9.9194869e-03]]],\n",
              "\n",
              "\n",
              "         [[[7.4219518e+00, 4.5957837e+00, 3.6657846e-01],\n",
              "           [1.2646356e+00, 6.8774992e-01, 5.7850294e-02]]]]]],\n",
              "      dtype=float32)>"
            ]
          },
          "metadata": {
            "tags": []
          },
          "execution_count": 37
        }
      ]
    },
    {
      "cell_type": "code",
      "metadata": {
        "colab": {
          "base_uri": "https://localhost:8080/"
        },
        "id": "HYOTb0XaOk5q",
        "outputId": "5815e26a-2017-420d-bd29-5f2be7dbe18b"
      },
      "source": [
        "import tensorflow_probability as tfp\n",
        "tfd = tfp.distributions\n",
        "\n",
        "rates = [\n",
        "        [[[1., 1.5, 0.8], [0.3, 0.4, 1.8]]],\n",
        "        [[[0.2, 0.4, 1.4], [0.4, 1.1, 0.9]]]\n",
        "]\n",
        "\n",
        "exp = tfd.Exponential(rate=rates)\n",
        "                 \n",
        "ind_exp = tfd.Independent(exp, reinterpreted_batch_ndims=2)\n",
        "ind_exp.log_prob(0.5)"
      ],
      "execution_count": 38,
      "outputs": [
        {
          "output_type": "execute_result",
          "data": {
            "text/plain": [
              "<tf.Tensor: shape=(2, 1), dtype=float32, numpy=\n",
              "array([[-4.2501554],\n",
              "       [-5.3155975]], dtype=float32)>"
            ]
          },
          "metadata": {
            "tags": []
          },
          "execution_count": 38
        }
      ]
    },
    {
      "cell_type": "code",
      "metadata": {
        "colab": {
          "base_uri": "https://localhost:8080/"
        },
        "id": "4j7qTWQ8V2N1",
        "outputId": "af61c383-7ba6-4d53-9dc3-8581911a012d"
      },
      "source": [
        "import tensorflow_probability as tfp\n",
        "tfd = tfp.distributions\n",
        "\n",
        "rates = [\n",
        "        [[[1., 1.5, 0.8], [0.3, 0.4, 1.8]]],\n",
        "        [[[0.2, 0.4, 1.4], [0.4, 1.1, 0.9]]]\n",
        "]\n",
        "\n",
        "exp = tfd.Exponential(rate=rates)\n",
        "                 \n",
        "ind_exp = tfd.Independent(exp, reinterpreted_batch_ndims=2)\n",
        "ind_exp.log_prob([[0.3, 0.5, 0.8]]) # Shape - (1, 3)"
      ],
      "execution_count": 39,
      "outputs": [
        {
          "output_type": "execute_result",
          "data": {
            "text/plain": [
              "<tf.Tensor: shape=(2, 1), dtype=float32, numpy=\n",
              "array([[-4.7701554],\n",
              "       [-5.885597 ]], dtype=float32)>"
            ]
          },
          "metadata": {
            "tags": []
          },
          "execution_count": 39
        }
      ]
    },
    {
      "cell_type": "code",
      "metadata": {
        "colab": {
          "base_uri": "https://localhost:8080/"
        },
        "id": "cmr5Nty7ZkrT",
        "outputId": "eff47ced-76b4-403b-d707-8f8fe3ccb804"
      },
      "source": [
        "import tensorflow as tf\n",
        "import tensorflow_probability as tfp\n",
        "tfd = tfp.distributions\n",
        "\n",
        "rates = [\n",
        "        [[[1., 1.5, 0.8], [0.3, 0.4, 1.8]]],\n",
        "        [[[0.2, 0.4, 1.4], [0.4, 1.1, 0.9]]]\n",
        "]\n",
        "\n",
        "exp = tfd.Exponential(rate=rates)\n",
        "                 \n",
        "ind_exp = tfd.Independent(exp, reinterpreted_batch_ndims=2)\n",
        "ind_exp.log_prob(tf.random.uniform((5, 1, 1, 2, 1)))"
      ],
      "execution_count": 40,
      "outputs": [
        {
          "output_type": "execute_result",
          "data": {
            "text/plain": [
              "<tf.Tensor: shape=(5, 2, 1), dtype=float32, numpy=\n",
              "array([[[-4.3231053],\n",
              "        [-5.252756 ]],\n",
              "\n",
              "       [[-4.4710703],\n",
              "        [-5.109299 ]],\n",
              "\n",
              "       [[-3.4200592],\n",
              "        [-5.0796127]],\n",
              "\n",
              "       [[-2.0246203],\n",
              "        [-3.5274224]],\n",
              "\n",
              "       [[-5.9949427],\n",
              "        [-6.746994 ]]], dtype=float32)>"
            ]
          },
          "metadata": {
            "tags": []
          },
          "execution_count": 40
        }
      ]
    },
    {
      "cell_type": "markdown",
      "metadata": {
        "id": "AN4cyMl5cjQ1"
      },
      "source": [
        "__Que__"
      ]
    },
    {
      "cell_type": "code",
      "metadata": {
        "colab": {
          "base_uri": "https://localhost:8080/"
        },
        "id": "V7SpuUjMchjL",
        "outputId": "9c32e66e-99b4-40e3-d4d6-ae3c207fe6e3"
      },
      "source": [
        "import tensorflow as tf\n",
        "import tensorflow_probability as tfp\n",
        "tfd = tfp.distributions\n",
        "\n",
        "loc = tf.zeros((2, 3, 1))\n",
        "scale_diag = tf.ones(4)\n",
        "dist = tfd.Independent(tfd.MultivariateNormalDiag(loc=loc, scale_diag=scale_diag))\n",
        "\n",
        "dist.log_prob(tf.random.uniform((2, 1, 1, 4)))"
      ],
      "execution_count": 41,
      "outputs": [
        {
          "output_type": "execute_result",
          "data": {
            "text/plain": [
              "<tf.Tensor: shape=(2, 2), dtype=float32, numpy=\n",
              "array([[-12.56535 , -12.56535 ],\n",
              "       [-13.465539, -13.465539]], dtype=float32)>"
            ]
          },
          "metadata": {
            "tags": []
          },
          "execution_count": 41
        }
      ]
    },
    {
      "cell_type": "markdown",
      "metadata": {
        "id": "2v2aM6Wa1v_A"
      },
      "source": [
        "\n",
        "## __e) Trainable distributions__\n",
        "\n"
      ]
    },
    {
      "cell_type": "code",
      "metadata": {
        "id": "aKYbg0YD2J6q",
        "colab": {
          "base_uri": "https://localhost:8080/"
        },
        "outputId": "7f92e5f6-fb1b-4428-fd10-e8ed0c18deba"
      },
      "source": [
        "import tensorflow as tf\n",
        "import tensorflow_probability as tfp\n",
        "tfd = tfp.distributions\n",
        "\n",
        "normal = tfd.Normal(loc=tf.Variable(0., name='loc'), scale=1.)\n",
        "normal.trainable_variables"
      ],
      "execution_count": 42,
      "outputs": [
        {
          "output_type": "execute_result",
          "data": {
            "text/plain": [
              "(<tf.Variable 'loc:0' shape=() dtype=float32, numpy=0.0>,)"
            ]
          },
          "metadata": {
            "tags": []
          },
          "execution_count": 42
        }
      ]
    },
    {
      "cell_type": "code",
      "metadata": {
        "id": "AU3-meXc7_wF"
      },
      "source": [
        "import tensorflow as tf\n",
        "import tensorflow_probability as tfp\n",
        "tfd = tfp.distributions\n",
        "\n",
        "normal = tfd.Normal(loc=tf.Variable(0., name='loc'), scale=1.)\n",
        "\n",
        "def nll(x_train):\n",
        "    return -tf.reduce_mean(normal.log_prob(x_train))\n",
        "\n",
        "'''\n",
        "This function get_loss_and_grads takes a batch of training examples as an input\n",
        "and computes the loss and gradients for our model.\n",
        "'''\n",
        "@tf.function\n",
        "def get_loss_and_grads(x_train):\n",
        "    with tf.GradientTape() as tape:\n",
        "        tape.watch(normal.trainable_variables)\n",
        "        loss = nll(x_train)\n",
        "    grads = tape.Gradient(loss, normal.trainable_variables)\n",
        "    return loss, grads\n",
        "\n",
        "optimizer = tf.keras.optimizers.SGD(learning_rate=0.05)\n",
        "\n",
        "for _ in range(num_steps):\n",
        "    loss, grads = get_loss_and_grads(x_samples)\n",
        "    optimizer.apply_gradient(zip(grads, normal.trainable_variables))"
      ],
      "execution_count": null,
      "outputs": []
    }
  ]
}