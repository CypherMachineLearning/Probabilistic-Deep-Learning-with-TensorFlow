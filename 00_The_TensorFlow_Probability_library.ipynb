{
  "nbformat": 4,
  "nbformat_minor": 0,
  "metadata": {
    "colab": {
      "name": "00_The_TensorFlow_Probability_library.ipynb",
      "provenance": [],
      "collapsed_sections": [
        "CG5Au3kC1liV",
        "2v2aM6Wa1v_A"
      ],
      "toc_visible": true,
      "authorship_tag": "ABX9TyM7ntyEtSjBT9Pp9UcmM8aT",
      "include_colab_link": true
    },
    "kernelspec": {
      "name": "python3",
      "display_name": "Python 3"
    }
  },
  "cells": [
    {
      "cell_type": "markdown",
      "metadata": {
        "id": "view-in-github",
        "colab_type": "text"
      },
      "source": [
        "<a href=\"https://colab.research.google.com/github/mohd-faizy/Probabilistic-Deep-Learning-with-TensorFlow/blob/main/00_The_TensorFlow_Probability_library.ipynb\" target=\"_parent\"><img src=\"https://colab.research.google.com/assets/colab-badge.svg\" alt=\"Open In Colab\"/></a>"
      ]
    },
    {
      "cell_type": "markdown",
      "metadata": {
        "id": "MV85Z9Ii2usJ"
      },
      "source": [
        "--- \n",
        "<strong> \n",
        "    <h1 align='center'>The TensorFlow Probability library</h1> \n",
        "</strong>\n",
        "\n",
        "---"
      ]
    },
    {
      "cell_type": "markdown",
      "metadata": {
        "id": "buSZmQw0zHmX"
      },
      "source": [
        "<p align='center'>\n",
        "<a href=#></a></p>\n",
        "\n",
        "<p align='center'>\n",
        "  <a href=\"#\"><img src='https://github.com/mohd-faizy/Probabilistic-Deep-Learning-with-TensorFlow/blob/main/Tensorflow_Dev_png/head.png?raw=true' alt=\"head\"></a>\n",
        "</p>"
      ]
    },
    {
      "cell_type": "code",
      "metadata": {
        "id": "5-e2xY1T3vD8"
      },
      "source": [
        "# Importing tensorflow probability library \n",
        "import tensorflow as tf\n",
        "import tensorflow_probability as tfp\n",
        "tfd = tfp.distributions"
      ],
      "execution_count": 1,
      "outputs": []
    },
    {
      "cell_type": "markdown",
      "metadata": {
        "id": "pb9nJtqN8Eyl"
      },
      "source": [
        "\n",
        "## __a) Univariate distributions__"
      ]
    },
    {
      "cell_type": "code",
      "metadata": {
        "colab": {
          "base_uri": "https://localhost:8080/"
        },
        "id": "5wXaTsROul1B",
        "outputId": "317d090a-ca07-4c92-dd1a-2f7b5542a278"
      },
      "source": [
        "# Importing tensorflow probability library \n",
        "import tensorflow as tf\n",
        "import tensorflow_probability as tfp\n",
        "tfd = tfp.distributions\n",
        "\n",
        "# Defining our first univariate distribution object\n",
        "'''\n",
        "Standard normal distribution with 0 mean and standard\n",
        "deviation equal to 1\n",
        "'''\n",
        "normal = tfd.Normal(loc=0., scale=1.)\n",
        "print(normal)"
      ],
      "execution_count": 2,
      "outputs": [
        {
          "output_type": "stream",
          "text": [
            "tfp.distributions.Normal(\"Normal\", batch_shape=[], event_shape=[], dtype=float32)\n"
          ],
          "name": "stdout"
        }
      ]
    },
    {
      "cell_type": "code",
      "metadata": {
        "colab": {
          "base_uri": "https://localhost:8080/"
        },
        "id": "0WB4iFwzvR13",
        "outputId": "098cdf73-ada3-44ff-8378-e5cecc5cb510"
      },
      "source": [
        "import tensorflow as tf\n",
        "import tensorflow_probability as tfp\n",
        "tfd = tfp.distributions\n",
        "\n",
        "normal = tfd.Normal(loc=0., scale=1.)\n",
        "normal.sample()"
      ],
      "execution_count": 3,
      "outputs": [
        {
          "output_type": "execute_result",
          "data": {
            "text/plain": [
              "<tf.Tensor: shape=(), dtype=float32, numpy=-0.8745248>"
            ]
          },
          "metadata": {
            "tags": []
          },
          "execution_count": 3
        }
      ]
    },
    {
      "cell_type": "code",
      "metadata": {
        "colab": {
          "base_uri": "https://localhost:8080/"
        },
        "id": "6-qUWLInwbln",
        "outputId": "b3248427-d677-4d57-e2eb-6f86a719d7b3"
      },
      "source": [
        "import tensorflow as tf\n",
        "import tensorflow_probability as tfp\n",
        "tfd = tfp.distributions\n",
        "\n",
        "normal = tfd.Normal(loc=0., scale=1.)\n",
        "normal.sample(3)"
      ],
      "execution_count": 4,
      "outputs": [
        {
          "output_type": "execute_result",
          "data": {
            "text/plain": [
              "<tf.Tensor: shape=(3,), dtype=float32, numpy=array([-0.5690917 , -0.14160319, -0.6670809 ], dtype=float32)>"
            ]
          },
          "metadata": {
            "tags": []
          },
          "execution_count": 4
        }
      ]
    },
    {
      "cell_type": "code",
      "metadata": {
        "colab": {
          "base_uri": "https://localhost:8080/"
        },
        "id": "kvvNUNpOx7xI",
        "outputId": "ccc29409-254e-4a5e-eb7d-89ba454e2e44"
      },
      "source": [
        "import tensorflow as tf\n",
        "import tensorflow_probability as tfp\n",
        "tfd = tfp.distributions\n",
        "\n",
        "normal = tfd.Normal(loc=0., scale=1.)\n",
        "normal.prob(0.5)"
      ],
      "execution_count": 5,
      "outputs": [
        {
          "output_type": "execute_result",
          "data": {
            "text/plain": [
              "<tf.Tensor: shape=(), dtype=float32, numpy=0.35206532>"
            ]
          },
          "metadata": {
            "tags": []
          },
          "execution_count": 5
        }
      ]
    },
    {
      "cell_type": "code",
      "metadata": {
        "colab": {
          "base_uri": "https://localhost:8080/"
        },
        "id": "fGC9Xuz3yq1G",
        "outputId": "68928c18-3419-4a55-fa78-e2eba2347b2f"
      },
      "source": [
        "import tensorflow as tf\n",
        "import tensorflow_probability as tfp\n",
        "tfd = tfp.distributions\n",
        "\n",
        "normal = tfd.Normal(loc=0., scale=1.)\n",
        "normal.log_prob(0.5)"
      ],
      "execution_count": 6,
      "outputs": [
        {
          "output_type": "execute_result",
          "data": {
            "text/plain": [
              "<tf.Tensor: shape=(), dtype=float32, numpy=-1.0439385>"
            ]
          },
          "metadata": {
            "tags": []
          },
          "execution_count": 6
        }
      ]
    },
    {
      "cell_type": "code",
      "metadata": {
        "colab": {
          "base_uri": "https://localhost:8080/"
        },
        "id": "wTGLq_aA0S8H",
        "outputId": "40a04b7d-d3cb-498c-9681-3ba29dc57797"
      },
      "source": [
        "import tensorflow as tf\n",
        "import tensorflow_probability as tfp\n",
        "tfd = tfp.distributions\n",
        "\n",
        "bernoulli = tfd.Bernoulli(probs=0.7)\n",
        "print(bernoulli)"
      ],
      "execution_count": 7,
      "outputs": [
        {
          "output_type": "stream",
          "text": [
            "tfp.distributions.Bernoulli(\"Bernoulli\", batch_shape=[], event_shape=[], dtype=int32)\n"
          ],
          "name": "stdout"
        }
      ]
    },
    {
      "cell_type": "code",
      "metadata": {
        "colab": {
          "base_uri": "https://localhost:8080/"
        },
        "id": "-P9HgKaW2IRv",
        "outputId": "4e7ed0ea-059e-4583-f212-8df129f93878"
      },
      "source": [
        "import tensorflow as tf\n",
        "import tensorflow_probability as tfp\n",
        "tfd = tfp.distributions\n",
        "\n",
        "bernoulli = tfd.Bernoulli(logits=0.847)\n",
        "print(bernoulli)"
      ],
      "execution_count": 8,
      "outputs": [
        {
          "output_type": "stream",
          "text": [
            "tfp.distributions.Bernoulli(\"Bernoulli\", batch_shape=[], event_shape=[], dtype=int32)\n"
          ],
          "name": "stdout"
        }
      ]
    },
    {
      "cell_type": "code",
      "metadata": {
        "colab": {
          "base_uri": "https://localhost:8080/"
        },
        "id": "ObK2uBa832NM",
        "outputId": "f3f118f7-de92-4926-fda6-be06ba497e53"
      },
      "source": [
        "import tensorflow as tf\n",
        "import tensorflow_probability as tfp\n",
        "tfd = tfp.distributions\n",
        "\n",
        "bernoulli = tfd.Bernoulli(logits=0.847)\n",
        "bernoulli.sample(3)"
      ],
      "execution_count": 9,
      "outputs": [
        {
          "output_type": "execute_result",
          "data": {
            "text/plain": [
              "<tf.Tensor: shape=(3,), dtype=int32, numpy=array([1, 0, 1], dtype=int32)>"
            ]
          },
          "metadata": {
            "tags": []
          },
          "execution_count": 9
        }
      ]
    },
    {
      "cell_type": "code",
      "metadata": {
        "colab": {
          "base_uri": "https://localhost:8080/"
        },
        "id": "N0gmqgNQ40qz",
        "outputId": "c648f3cc-80f3-4db3-b114-7b2f1a9c8d94"
      },
      "source": [
        "import tensorflow as tf\n",
        "import tensorflow_probability as tfp\n",
        "tfd = tfp.distributions\n",
        "\n",
        "bernoulli = tfd.Bernoulli(logits=0.847)\n",
        "bernoulli.prob(1)"
      ],
      "execution_count": 10,
      "outputs": [
        {
          "output_type": "execute_result",
          "data": {
            "text/plain": [
              "<tf.Tensor: shape=(), dtype=float32, numpy=0.69993746>"
            ]
          },
          "metadata": {
            "tags": []
          },
          "execution_count": 10
        }
      ]
    },
    {
      "cell_type": "code",
      "metadata": {
        "colab": {
          "base_uri": "https://localhost:8080/"
        },
        "id": "KX37c_4W6Zm3",
        "outputId": "1cd7892e-504c-4157-d3ba-a752e366e1d8"
      },
      "source": [
        "import tensorflow as tf\n",
        "import tensorflow_probability as tfp\n",
        "tfd = tfp.distributions\n",
        "\n",
        "bernoulli = tfd.Bernoulli(logits=0.847)\n",
        "bernoulli.log_prob(1)"
      ],
      "execution_count": 11,
      "outputs": [
        {
          "output_type": "execute_result",
          "data": {
            "text/plain": [
              "<tf.Tensor: shape=(), dtype=float32, numpy=-0.35676432>"
            ]
          },
          "metadata": {
            "tags": []
          },
          "execution_count": 11
        }
      ]
    },
    {
      "cell_type": "code",
      "metadata": {
        "colab": {
          "base_uri": "https://localhost:8080/"
        },
        "id": "jeuwvfzD8C3k",
        "outputId": "91a7eb37-9da2-4bed-b9d2-9aaa81d6d117"
      },
      "source": [
        "import tensorflow as tf\n",
        "import tensorflow_probability as tfp\n",
        "tfd = tfp.distributions\n",
        "\n",
        "batched_bernoulli = tfd.Bernoulli(probs=[0.4, 0.5])\n",
        "print(batched_bernoulli)"
      ],
      "execution_count": 12,
      "outputs": [
        {
          "output_type": "stream",
          "text": [
            "tfp.distributions.Bernoulli(\"Bernoulli\", batch_shape=[2], event_shape=[], dtype=int32)\n"
          ],
          "name": "stdout"
        }
      ]
    },
    {
      "cell_type": "code",
      "metadata": {
        "colab": {
          "base_uri": "https://localhost:8080/"
        },
        "id": "RGBBZLCG_arA",
        "outputId": "5f645a61-7500-4b85-e0ac-ed1d1cbcb03a"
      },
      "source": [
        "import tensorflow as tf\n",
        "import tensorflow_probability as tfp\n",
        "tfd = tfp.distributions\n",
        "\n",
        "batched_bernoulli = tfd.Bernoulli(probs=[0.4, 0.5])\n",
        "batched_bernoulli.batch_shape"
      ],
      "execution_count": 13,
      "outputs": [
        {
          "output_type": "execute_result",
          "data": {
            "text/plain": [
              "TensorShape([2])"
            ]
          },
          "metadata": {
            "tags": []
          },
          "execution_count": 13
        }
      ]
    },
    {
      "cell_type": "code",
      "metadata": {
        "colab": {
          "base_uri": "https://localhost:8080/"
        },
        "id": "NOggUu8v9K8f",
        "outputId": "d528ed65-af11-4edb-b21a-959e2af1b5d6"
      },
      "source": [
        "import tensorflow as tf\n",
        "import tensorflow_probability as tfp\n",
        "tfd = tfp.distributions\n",
        "\n",
        "batched_bernoulli = tfd.Bernoulli(probs=[0.4, 0.5])\n",
        "batched_bernoulli.sample(3)"
      ],
      "execution_count": 14,
      "outputs": [
        {
          "output_type": "execute_result",
          "data": {
            "text/plain": [
              "<tf.Tensor: shape=(3, 2), dtype=int32, numpy=\n",
              "array([[1, 1],\n",
              "       [0, 1],\n",
              "       [0, 1]], dtype=int32)>"
            ]
          },
          "metadata": {
            "tags": []
          },
          "execution_count": 14
        }
      ]
    },
    {
      "cell_type": "code",
      "metadata": {
        "colab": {
          "base_uri": "https://localhost:8080/"
        },
        "id": "kzf3pX_J_ty-",
        "outputId": "32f82aec-5bb1-4e2e-db9d-f0f9ee1bde32"
      },
      "source": [
        "import tensorflow as tf\n",
        "import tensorflow_probability as tfp\n",
        "tfd = tfp.distributions\n",
        "\n",
        "batched_bernoulli = tfd.Bernoulli(probs=[0.4, 0.5])\n",
        "batched_bernoulli.prob([1, 1])"
      ],
      "execution_count": 15,
      "outputs": [
        {
          "output_type": "execute_result",
          "data": {
            "text/plain": [
              "<tf.Tensor: shape=(2,), dtype=float32, numpy=array([0.4, 0.5], dtype=float32)>"
            ]
          },
          "metadata": {
            "tags": []
          },
          "execution_count": 15
        }
      ]
    },
    {
      "cell_type": "code",
      "metadata": {
        "colab": {
          "base_uri": "https://localhost:8080/"
        },
        "id": "PuEzlRFkAxxt",
        "outputId": "028e0bf6-4e8d-475a-e746-30d65bd031da"
      },
      "source": [
        "import tensorflow as tf\n",
        "import tensorflow_probability as tfp\n",
        "tfd = tfp.distributions\n",
        "\n",
        "batched_bernoulli = tfd.Bernoulli(probs=[0.4, 0.5])\n",
        "batched_bernoulli.log_prob([1, 1])"
      ],
      "execution_count": 16,
      "outputs": [
        {
          "output_type": "execute_result",
          "data": {
            "text/plain": [
              "<tf.Tensor: shape=(2,), dtype=float32, numpy=array([-0.9162907, -0.6931472], dtype=float32)>"
            ]
          },
          "metadata": {
            "tags": []
          },
          "execution_count": 16
        }
      ]
    },
    {
      "cell_type": "markdown",
      "metadata": {
        "id": "ump3qiFrtQhf"
      },
      "source": [
        "__Que__"
      ]
    },
    {
      "cell_type": "code",
      "metadata": {
        "colab": {
          "base_uri": "https://localhost:8080/"
        },
        "id": "ajiVd8XMBl94",
        "outputId": "b527cf8a-6138-4864-84cf-aec28c307a01"
      },
      "source": [
        "import tensorflow as tf\n",
        "import tensorflow_probability as tfp\n",
        "tfd = tfp.distributions\n",
        "\n",
        "batched_normal = tfd.Normal(loc=[-0.8, 0., 1.9], scale=[1.25, 0.6, 2.8])\n",
        "batched_normal.sample(2)"
      ],
      "execution_count": 17,
      "outputs": [
        {
          "output_type": "execute_result",
          "data": {
            "text/plain": [
              "<tf.Tensor: shape=(2, 3), dtype=float32, numpy=\n",
              "array([[-2.3344483 ,  0.22578081, -0.17660034],\n",
              "       [-1.4268788 , -0.2955104 , -1.5213784 ]], dtype=float32)>"
            ]
          },
          "metadata": {
            "tags": []
          },
          "execution_count": 17
        }
      ]
    },
    {
      "cell_type": "markdown",
      "metadata": {
        "id": "7X-YtbAs8XmT"
      },
      "source": [
        "---"
      ]
    },
    {
      "cell_type": "markdown",
      "metadata": {
        "id": "7V-rq4XR8eEj"
      },
      "source": [
        "## __b) Multivariate distributions__"
      ]
    },
    {
      "cell_type": "code",
      "metadata": {
        "colab": {
          "base_uri": "https://localhost:8080/"
        },
        "id": "TkuJjzhL8Nb8",
        "outputId": "14124900-8a26-461b-b8f9-6c8c5e5ce706"
      },
      "source": [
        "import tensorflow as tf\n",
        "import tensorflow_probability as tfp\n",
        "tfd = tfp.distributions\n",
        "\n",
        "mv_normal = tfd.MultivariateNormalDiag(loc=[-1., 0.5], scale_diag=[1., 1.5])\n",
        "print(mv_normal)"
      ],
      "execution_count": 18,
      "outputs": [
        {
          "output_type": "stream",
          "text": [
            "tfp.distributions.MultivariateNormalDiag(\"MultivariateNormalDiag\", batch_shape=[], event_shape=[2], dtype=float32)\n"
          ],
          "name": "stdout"
        }
      ]
    },
    {
      "cell_type": "code",
      "metadata": {
        "colab": {
          "base_uri": "https://localhost:8080/"
        },
        "id": "wJHnxEELYfl-",
        "outputId": "d5e43fb9-f57b-47dd-ed53-41e48eca3235"
      },
      "source": [
        "import tensorflow as tf\n",
        "import tensorflow_probability as tfp\n",
        "tfd = tfp.distributions\n",
        "\n",
        "mv_normal = tfd.MultivariateNormalDiag(loc=[-1., 0.5], scale_diag=[1., 1.5])\n",
        "mv_normal.sample(3)"
      ],
      "execution_count": 19,
      "outputs": [
        {
          "output_type": "execute_result",
          "data": {
            "text/plain": [
              "<tf.Tensor: shape=(3, 2), dtype=float32, numpy=\n",
              "array([[-0.9036414 , -0.06948936],\n",
              "       [ 0.18695807, -0.55958843],\n",
              "       [-1.2047808 , -0.19340867]], dtype=float32)>"
            ]
          },
          "metadata": {
            "tags": []
          },
          "execution_count": 19
        }
      ]
    },
    {
      "cell_type": "code",
      "metadata": {
        "colab": {
          "base_uri": "https://localhost:8080/"
        },
        "id": "FKIV2Ym0TpXB",
        "outputId": "bf828d36-f215-4e5f-82f1-9c10f1d445ca"
      },
      "source": [
        "import tensorflow as tf\n",
        "import tensorflow_probability as tfp\n",
        "tfd = tfp.distributions\n",
        "\n",
        "batched_normal = tfd.Normal(loc=[-1., 0.5], scale=[1., 1.5])\n",
        "print(batched_normal)"
      ],
      "execution_count": 20,
      "outputs": [
        {
          "output_type": "stream",
          "text": [
            "tfp.distributions.Normal(\"Normal\", batch_shape=[2], event_shape=[], dtype=float32)\n"
          ],
          "name": "stdout"
        }
      ]
    },
    {
      "cell_type": "code",
      "metadata": {
        "colab": {
          "base_uri": "https://localhost:8080/"
        },
        "id": "YmbKqcWFVO_s",
        "outputId": "7b143d09-5fa3-41e6-c324-7a3b394238f8"
      },
      "source": [
        "import tensorflow as tf\n",
        "import tensorflow_probability as tfp\n",
        "tfd = tfp.distributions\n",
        "\n",
        "batched_normal = tfd.Normal(loc=[-1., 0.5], scale=[1., 1.5])\n",
        "batched_normal.sample(3)"
      ],
      "execution_count": 21,
      "outputs": [
        {
          "output_type": "execute_result",
          "data": {
            "text/plain": [
              "<tf.Tensor: shape=(3, 2), dtype=float32, numpy=\n",
              "array([[-0.24170399, -0.71748614],\n",
              "       [-0.36169726,  1.9965515 ],\n",
              "       [-1.2031542 ,  1.327983  ]], dtype=float32)>"
            ]
          },
          "metadata": {
            "tags": []
          },
          "execution_count": 21
        }
      ]
    },
    {
      "cell_type": "markdown",
      "metadata": {
        "id": "NdMl4Op5gHku"
      },
      "source": [
        "`log_prob`"
      ]
    },
    {
      "cell_type": "code",
      "metadata": {
        "colab": {
          "base_uri": "https://localhost:8080/"
        },
        "id": "BikKmjTXgKzL",
        "outputId": "5dcf7a27-c157-4151-9344-3c279b75d2d2"
      },
      "source": [
        "import tensorflow as tf\n",
        "import tensorflow_probability as tfp\n",
        "tfd = tfp.distributions\n",
        "\n",
        "mv_normal = tfd.MultivariateNormalDiag(loc=[-1., 0.5], scale_diag=[1., 1.5])\n",
        "mv_normal.log_prob([0.2, -1.8])"
      ],
      "execution_count": 22,
      "outputs": [
        {
          "output_type": "execute_result",
          "data": {
            "text/plain": [
              "<tf.Tensor: shape=(), dtype=float32, numpy=-4.1388974>"
            ]
          },
          "metadata": {
            "tags": []
          },
          "execution_count": 22
        }
      ]
    },
    {
      "cell_type": "code",
      "metadata": {
        "colab": {
          "base_uri": "https://localhost:8080/"
        },
        "id": "jVbTcznxgPpN",
        "outputId": "5152a2b9-1298-45a7-837e-19689ce61f4d"
      },
      "source": [
        "import tensorflow as tf\n",
        "import tensorflow_probability as tfp\n",
        "tfd = tfp.distributions\n",
        "\n",
        "batched_normal = tfd.Normal(loc=[-1., 0.5], scale=[1., 1.5])\n",
        "batched_normal.log_prob([0.2, -1.8])"
      ],
      "execution_count": 23,
      "outputs": [
        {
          "output_type": "execute_result",
          "data": {
            "text/plain": [
              "<tf.Tensor: shape=(2,), dtype=float32, numpy=array([-1.6389385, -2.499959 ], dtype=float32)>"
            ]
          },
          "metadata": {
            "tags": []
          },
          "execution_count": 23
        }
      ]
    },
    {
      "cell_type": "markdown",
      "metadata": {
        "id": "4P3sfWzahuI5"
      },
      "source": [
        "__Batch Multivariate Distribution__"
      ]
    },
    {
      "cell_type": "code",
      "metadata": {
        "colab": {
          "base_uri": "https://localhost:8080/"
        },
        "id": "LUGBQt5Ehyn9",
        "outputId": "816e66c5-e0c7-4418-a140-7a95ac78b41c"
      },
      "source": [
        "import tensorflow as tf\n",
        "import tensorflow_probability as tfp\n",
        "tfd = tfp.distributions\n",
        "\n",
        "batched_mv_normal = tfd.MultivariateNormalDiag(\n",
        "    loc=[[-1., 0.5],[2., 0], [-0.5, 1.5]],\n",
        "    scale_diag=[[1., 1.5], [2., 0.5], [1., 1.]]\n",
        "    )\n",
        "\n",
        "print(batched_mv_normal)"
      ],
      "execution_count": 24,
      "outputs": [
        {
          "output_type": "stream",
          "text": [
            "tfp.distributions.MultivariateNormalDiag(\"MultivariateNormalDiag\", batch_shape=[3], event_shape=[2], dtype=float32)\n"
          ],
          "name": "stdout"
        }
      ]
    },
    {
      "cell_type": "markdown",
      "metadata": {
        "id": "jGR3YZNintUg"
      },
      "source": [
        "__Sampling__"
      ]
    },
    {
      "cell_type": "code",
      "metadata": {
        "colab": {
          "base_uri": "https://localhost:8080/"
        },
        "id": "HcdmpvvIk4Vr",
        "outputId": "702c801a-8ac3-4ac2-eeca-21e393238150"
      },
      "source": [
        "import tensorflow as tf\n",
        "import tensorflow_probability as tfp\n",
        "tfd = tfp.distributions\n",
        "\n",
        "batched_mv_normal = tfd.MultivariateNormalDiag(\n",
        "    loc=[[-1., 0.5],[2., 0], [-0.5, 1.5]],\n",
        "    scale_diag=[[1., 1.5], [2., 0.5], [1., 1.]]\n",
        "    )\n",
        "\n",
        "batched_mv_normal.sample(2)"
      ],
      "execution_count": 25,
      "outputs": [
        {
          "output_type": "execute_result",
          "data": {
            "text/plain": [
              "<tf.Tensor: shape=(2, 3, 2), dtype=float32, numpy=\n",
              "array([[[-1.2279872 ,  3.3174963 ],\n",
              "        [ 0.19413948,  0.24735634],\n",
              "        [-0.9016132 ,  1.6382647 ]],\n",
              "\n",
              "       [[-1.4012393 ,  1.8286124 ],\n",
              "        [ 1.1331738 ,  0.31065923],\n",
              "        [-1.5911719 ,  0.79748106]]], dtype=float32)>"
            ]
          },
          "metadata": {
            "tags": []
          },
          "execution_count": 25
        }
      ]
    },
    {
      "cell_type": "markdown",
      "metadata": {
        "id": "9h0lIwtRqYIa"
      },
      "source": [
        "__Que__"
      ]
    },
    {
      "cell_type": "code",
      "metadata": {
        "colab": {
          "base_uri": "https://localhost:8080/"
        },
        "id": "KutLb120n2gG",
        "outputId": "2eea4a20-fb75-4a8b-b00d-3ef303ca1d1f"
      },
      "source": [
        "import tensorflow as tf\n",
        "import tensorflow_probability as tfp\n",
        "tfd = tfp.distributions\n",
        "\n",
        "batched_mv_normal = tfd.MultivariateNormalDiag(\n",
        "    loc=[[0.3, 0.8, 1.1], [2.3, -0.3, -1.]], \n",
        "    scale_diag=[[1.5, 1., 0.4], [2.5, 1.5, 0.5]])\n",
        "\n",
        "# Que: What is the shape of the Tensor returned by the following?\n",
        "batched_mv_normal.log_prob([0., -1., 1.])"
      ],
      "execution_count": 26,
      "outputs": [
        {
          "output_type": "execute_result",
          "data": {
            "text/plain": [
              "<tf.Tensor: shape=(2,), dtype=float32, numpy=array([ -3.9172401, -11.917513 ], dtype=float32)>"
            ]
          },
          "metadata": {
            "tags": []
          },
          "execution_count": 26
        }
      ]
    },
    {
      "cell_type": "markdown",
      "metadata": {
        "id": "CG5Au3kC1liV"
      },
      "source": [
        "## __c) The Independent distribution__"
      ]
    },
    {
      "cell_type": "code",
      "metadata": {
        "id": "ip7UtraD2G3q",
        "colab": {
          "base_uri": "https://localhost:8080/",
          "height": 0
        },
        "outputId": "92f17c32-53ea-47da-dc73-09c4df83e4e0"
      },
      "source": [
        "# Importing tensorflow probability library \n",
        "import tensorflow as tf\n",
        "import tensorflow_probability as tfp\n",
        "tfd = tfp.distributions\n",
        "\n",
        "mv_normal = tfd.MultivariateNormalDiag(loc=[-1., 0.5], scale_diag=[1., 1.5])\n",
        "print(mv_normal)\n",
        "\n",
        "'''\n",
        "tfp.distributions.MultivariateNormalDiag(\"MultivariateNormalDiag\",\n",
        "                                          batch_shape=[],\n",
        "                                          event_shape=[2],\n",
        "                                          dtype=float32\n",
        "                                          )\n",
        "'''\n",
        "batched_normal = tfd.Normal(loc=[-1., 0.5], scale=[1., 1.5])\n",
        "print(batched_normal)\n",
        "\n",
        "'''\n",
        "tfp.distributions.Normal(\"Normal\",\n",
        "                          batch_shape=[2],\n",
        "                          event_shape=[],\n",
        "                          dtype=float32\n",
        "                          )\n",
        "'''"
      ],
      "execution_count": 27,
      "outputs": [
        {
          "output_type": "stream",
          "text": [
            "tfp.distributions.MultivariateNormalDiag(\"MultivariateNormalDiag\", batch_shape=[], event_shape=[2], dtype=float32)\n",
            "tfp.distributions.Normal(\"Normal\", batch_shape=[2], event_shape=[], dtype=float32)\n"
          ],
          "name": "stdout"
        },
        {
          "output_type": "execute_result",
          "data": {
            "application/vnd.google.colaboratory.intrinsic+json": {
              "type": "string"
            },
            "text/plain": [
              "'\\ntfp.distributions.Normal(\"Normal\",\\n                          batch_shape=[2],\\n                          event_shape=[],\\n                          dtype=float32\\n                          )\\n'"
            ]
          },
          "metadata": {
            "tags": []
          },
          "execution_count": 27
        }
      ]
    },
    {
      "cell_type": "code",
      "metadata": {
        "id": "FAof407v2G0T",
        "colab": {
          "base_uri": "https://localhost:8080/"
        },
        "outputId": "1b966ed3-7139-4b2d-e88b-3a7d9d44c548"
      },
      "source": [
        "import tensorflow as tf\n",
        "import tensorflow_probability as tfp\n",
        "tfd = tfp.distributions\n",
        "\n",
        "batched_normal = tfd.Normal(loc=[-1., 0.5], scale=[1., 1.5])\n",
        "\n",
        "independent_normal = tfd.Independent(batched_normal, reinterpreted_batch_ndims=1)\n",
        "print(independent_normal)"
      ],
      "execution_count": 28,
      "outputs": [
        {
          "output_type": "stream",
          "text": [
            "tfp.distributions.Independent(\"IndependentNormal\", batch_shape=[], event_shape=[2], dtype=float32)\n"
          ],
          "name": "stdout"
        }
      ]
    },
    {
      "cell_type": "code",
      "metadata": {
        "id": "nbpuHg5a2GxE",
        "colab": {
          "base_uri": "https://localhost:8080/"
        },
        "outputId": "a83f99cb-fee0-476f-b7a9-2aecf8116c36"
      },
      "source": [
        "import tensorflow as tf\n",
        "import tensorflow_probability as tfp\n",
        "tfd = tfp.distributions\n",
        "\n",
        "batched_normal = tfd.Normal(loc=[-1., 0.5], scale=[1., 1.5])\n",
        "\n",
        "independent_normal = tfd.Independent(batched_normal, reinterpreted_batch_ndims=1)\n",
        "independent_normal.log_prob([-0.2, 1.8])"
      ],
      "execution_count": 29,
      "outputs": [
        {
          "output_type": "execute_result",
          "data": {
            "text/plain": [
              "<tf.Tensor: shape=(), dtype=float32, numpy=-2.9388976>"
            ]
          },
          "metadata": {
            "tags": []
          },
          "execution_count": 29
        }
      ]
    },
    {
      "cell_type": "code",
      "metadata": {
        "colab": {
          "base_uri": "https://localhost:8080/"
        },
        "id": "OJmHogM4dD7J",
        "outputId": "cd22700b-b070-4c8a-9395-35da14716c1f"
      },
      "source": [
        "import tensorflow as tf\n",
        "import tensorflow_probability as tfp\n",
        "tfd = tfp.distributions\n",
        "\n",
        "batched_normal = tfd.Normal(loc=[[-1., 0.5], [0., 1.], [0.3, -0.1]],\n",
        "                            scale=[[1., 1.5], [0.2, 0.8], [2., 1.]])\n",
        "print(batched_normal)\n",
        "\n",
        "independent_normal = tfd.Independent(batched_normal, reinterpreted_batch_ndims=1)\n",
        "print(independent_normal)"
      ],
      "execution_count": 30,
      "outputs": [
        {
          "output_type": "stream",
          "text": [
            "tfp.distributions.Normal(\"Normal\", batch_shape=[3, 2], event_shape=[], dtype=float32)\n",
            "tfp.distributions.Independent(\"IndependentNormal\", batch_shape=[3], event_shape=[2], dtype=float32)\n"
          ],
          "name": "stdout"
        }
      ]
    },
    {
      "cell_type": "markdown",
      "metadata": {
        "id": "nzZzdeXVhbqG"
      },
      "source": [
        "when `reinterpreted_batch_ndims=2`"
      ]
    },
    {
      "cell_type": "code",
      "metadata": {
        "colab": {
          "base_uri": "https://localhost:8080/"
        },
        "id": "GVuCY4JghYLb",
        "outputId": "87b408e2-ee6b-40ff-8e48-c4cae1a62b58"
      },
      "source": [
        "import tensorflow as tf\n",
        "import tensorflow_probability as tfp\n",
        "tfd = tfp.distributions\n",
        "\n",
        "batched_normal = tfd.Normal(loc=[[-1., 0.5], [0., 1.], [0.3, -0.1]],\n",
        "                            scale=[[1., 1.5], [0.2, 0.8], [2., 1.]])\n",
        "print(batched_normal)\n",
        "\n",
        "independent_normal = tfd.Independent(batched_normal, reinterpreted_batch_ndims=2)\n",
        "print(independent_normal)"
      ],
      "execution_count": 31,
      "outputs": [
        {
          "output_type": "stream",
          "text": [
            "tfp.distributions.Normal(\"Normal\", batch_shape=[3, 2], event_shape=[], dtype=float32)\n",
            "tfp.distributions.Independent(\"IndependentNormal\", batch_shape=[], event_shape=[3, 2], dtype=float32)\n"
          ],
          "name": "stdout"
        }
      ]
    },
    {
      "cell_type": "markdown",
      "metadata": {
        "id": "_4mN7qtD33Qy"
      },
      "source": [
        "__Question__"
      ]
    },
    {
      "cell_type": "code",
      "metadata": {
        "colab": {
          "base_uri": "https://localhost:8080/"
        },
        "id": "H6xatqJV35vp",
        "outputId": "3f8432d5-b314-4c6c-c3cc-1bbe300f2cda"
      },
      "source": [
        "import numpy as np\n",
        "import tensorflow_probability as tfp\n",
        "tfd = tfp.distributions\n",
        "\t\n",
        "probs = 0.5 * tf.ones((2, 4, 5))\n",
        "dist = tfd.Independent(tfd.Bernoulli(probs=probs))\n",
        "dist.log_prob(np.zeros((4, 5)))"
      ],
      "execution_count": 32,
      "outputs": [
        {
          "output_type": "execute_result",
          "data": {
            "text/plain": [
              "<tf.Tensor: shape=(2,), dtype=float32, numpy=array([-13.862944, -13.862944], dtype=float32)>"
            ]
          },
          "metadata": {
            "tags": []
          },
          "execution_count": 32
        }
      ]
    },
    {
      "cell_type": "markdown",
      "metadata": {
        "id": "yys7IpFn1_2A"
      },
      "source": [
        "## __d) Sampling and log probs__"
      ]
    },
    {
      "cell_type": "code",
      "metadata": {
        "id": "-s8EVddO2Id0",
        "colab": {
          "base_uri": "https://localhost:8080/"
        },
        "outputId": "236bd77b-ef87-4217-cbcd-17bc887ee7cc"
      },
      "source": [
        "import tensorflow_probability as tfp\n",
        "tfd = tfp.distributions\n",
        "\n",
        "exp = tfd.Exponential(rate=[[1., 1.5, 0.8], [0.3, 0.4, 1.8]])\n",
        "print(exp)"
      ],
      "execution_count": 33,
      "outputs": [
        {
          "output_type": "stream",
          "text": [
            "tfp.distributions.Exponential(\"Exponential\", batch_shape=[2, 3], event_shape=[], dtype=float32)\n"
          ],
          "name": "stdout"
        }
      ]
    },
    {
      "cell_type": "code",
      "metadata": {
        "id": "EHccLKQY2ICs",
        "colab": {
          "base_uri": "https://localhost:8080/"
        },
        "outputId": "d61a3b2f-e415-4914-dbde-3ba8d0f8b056"
      },
      "source": [
        "import tensorflow_probability as tfp\n",
        "tfd = tfp.distributions\n",
        "\n",
        "exp = tfd.Exponential(rate=[[1., 1.5, 0.8], [0.3, 0.4, 1.8]])\n",
        "ind_exp = tfd.Independent(exp)\n",
        "print(ind_exp)"
      ],
      "execution_count": 34,
      "outputs": [
        {
          "output_type": "stream",
          "text": [
            "tfp.distributions.Independent(\"IndependentExponential\", batch_shape=[2], event_shape=[3], dtype=float32)\n"
          ],
          "name": "stdout"
        }
      ]
    },
    {
      "cell_type": "code",
      "metadata": {
        "id": "IIbcKylt2H_E",
        "colab": {
          "base_uri": "https://localhost:8080/"
        },
        "outputId": "d2cae5c8-a606-4d3d-e244-2384498d25c9"
      },
      "source": [
        "import tensorflow_probability as tfp\n",
        "tfd = tfp.distributions\n",
        "\n",
        "exp = tfd.Exponential(rate=[[1., 1.5, 0.8], [0.3, 0.4, 1.8]])\n",
        "ind_exp = tfd.Independent(exp)\n",
        "ind_exp.sample(4)"
      ],
      "execution_count": 35,
      "outputs": [
        {
          "output_type": "execute_result",
          "data": {
            "text/plain": [
              "<tf.Tensor: shape=(4, 2, 3), dtype=float32, numpy=\n",
              "array([[[1.0450152 , 0.5755661 , 0.57201266],\n",
              "        [0.35571185, 2.9993176 , 1.3061632 ]],\n",
              "\n",
              "       [[0.53088427, 0.8687641 , 0.9061054 ],\n",
              "        [0.18346427, 3.114679  , 1.3135731 ]],\n",
              "\n",
              "       [[0.43705982, 0.33043382, 1.0506781 ],\n",
              "        [2.0970175 , 2.6761663 , 0.16461179]],\n",
              "\n",
              "       [[0.03214772, 1.2576617 , 1.3908582 ],\n",
              "        [3.9662836 , 1.4683392 , 0.01111567]]], dtype=float32)>"
            ]
          },
          "metadata": {
            "tags": []
          },
          "execution_count": 35
        }
      ]
    },
    {
      "cell_type": "code",
      "metadata": {
        "colab": {
          "base_uri": "https://localhost:8080/"
        },
        "id": "EZ_vy4QyITfa",
        "outputId": "dfc851e5-ae59-4169-ae54-76c97a7b69ea"
      },
      "source": [
        "import tensorflow_probability as tfp\n",
        "tfd = tfp.distributions\n",
        "\n",
        "rates = [\n",
        "        [[[1., 1.5, 0.8], [0.3, 0.4, 1.8]]],\n",
        "        [[[0.2, 0.4, 1.4], [0.4, 1.1, 0.9]]]\n",
        "]\n",
        "\n",
        "exp = tfd.Exponential(rate=rates)\n",
        "print(exp)\n",
        "                 \n",
        "ind_exp = tfd.Independent(exp, reinterpreted_batch_ndims=2)\n",
        "print(ind_exp)"
      ],
      "execution_count": 36,
      "outputs": [
        {
          "output_type": "stream",
          "text": [
            "tfp.distributions.Exponential(\"Exponential\", batch_shape=[2, 1, 2, 3], event_shape=[], dtype=float32)\n",
            "tfp.distributions.Independent(\"IndependentExponential\", batch_shape=[2, 1], event_shape=[2, 3], dtype=float32)\n"
          ],
          "name": "stdout"
        }
      ]
    },
    {
      "cell_type": "code",
      "metadata": {
        "colab": {
          "base_uri": "https://localhost:8080/"
        },
        "id": "xrZshzysMEEF",
        "outputId": "60f0269c-720d-4955-f1fd-f7253142ac93"
      },
      "source": [
        "import tensorflow_probability as tfp\n",
        "tfd = tfp.distributions\n",
        "\n",
        "rates = [\n",
        "        [[[1., 1.5, 0.8], [0.3, 0.4, 1.8]]],\n",
        "        [[[0.2, 0.4, 1.4], [0.4, 1.1, 0.9]]]\n",
        "]\n",
        "\n",
        "exp = tfd.Exponential(rate=rates)\n",
        "\n",
        "ind_exp = tfd.Independent(exp, reinterpreted_batch_ndims=2)\n",
        "ind_exp.sample([4, 2])"
      ],
      "execution_count": 37,
      "outputs": [
        {
          "output_type": "execute_result",
          "data": {
            "text/plain": [
              "<tf.Tensor: shape=(4, 2, 2, 1, 2, 3), dtype=float32, numpy=\n",
              "array([[[[[[7.4250298e-03, 8.0979186e-01, 4.8355800e-01],\n",
              "           [1.3371319e+00, 5.6241202e+00, 6.6637194e-01]]],\n",
              "\n",
              "\n",
              "         [[[6.9196713e-01, 5.6891704e-01, 7.2674239e-01],\n",
              "           [1.7746511e+00, 1.6127998e+00, 5.4522884e-01]]]],\n",
              "\n",
              "\n",
              "\n",
              "        [[[[1.2235030e+00, 1.0835612e-01, 2.3766563e+00],\n",
              "           [4.7605262e+00, 2.7098799e+00, 1.1755193e-01]]],\n",
              "\n",
              "\n",
              "         [[[2.2834493e-01, 3.0178735e+00, 1.8308039e-01],\n",
              "           [6.6000664e-01, 1.9622599e-01, 4.1256589e-01]]]]],\n",
              "\n",
              "\n",
              "\n",
              "\n",
              "       [[[[[2.7563729e+00, 5.7837069e-01, 7.6256317e-01],\n",
              "           [1.3326007e+00, 3.5093975e+00, 8.1236288e-02]]],\n",
              "\n",
              "\n",
              "         [[[1.2270447e+00, 3.8814573e+00, 2.2289865e+00],\n",
              "           [6.9758856e-01, 9.5233339e-01, 1.7990123e+00]]]],\n",
              "\n",
              "\n",
              "\n",
              "        [[[[1.2468169e+00, 4.1401783e-01, 1.4839436e+00],\n",
              "           [1.6757698e+00, 2.7027676e+00, 4.7308245e-01]]],\n",
              "\n",
              "\n",
              "         [[[5.7193894e+00, 3.1797657e+00, 3.7911415e-01],\n",
              "           [2.8926039e+00, 5.5365682e-01, 6.7985088e-02]]]]],\n",
              "\n",
              "\n",
              "\n",
              "\n",
              "       [[[[[2.6320677e+00, 1.2557448e-01, 3.4060034e-01],\n",
              "           [3.5487928e+00, 3.2328027e-01, 4.4679534e-02]]],\n",
              "\n",
              "\n",
              "         [[[5.6721997e-01, 3.0741277e-01, 3.9953101e-02],\n",
              "           [6.5634400e-01, 1.6431181e+00, 2.2023883e-01]]]],\n",
              "\n",
              "\n",
              "\n",
              "        [[[[4.8087740e-01, 3.1780821e-04, 2.8357124e-01],\n",
              "           [5.6528711e+00, 2.3076289e+00, 7.7798444e-01]]],\n",
              "\n",
              "\n",
              "         [[[4.3136320e+00, 1.8618816e+00, 1.9767895e+00],\n",
              "           [2.6626458e+00, 5.5398023e-01, 7.4019313e-01]]]]],\n",
              "\n",
              "\n",
              "\n",
              "\n",
              "       [[[[[5.0630271e-01, 1.1990499e+00, 7.2798465e-04],\n",
              "           [1.1995552e+01, 2.7024162e+00, 1.5859002e-01]]],\n",
              "\n",
              "\n",
              "         [[[1.9692653e+00, 2.4327792e-01, 7.5796741e-01],\n",
              "           [4.9886751e+00, 1.4548900e+00, 7.4258018e-03]]]],\n",
              "\n",
              "\n",
              "\n",
              "        [[[[2.9883319e-01, 1.3194360e+00, 2.1794453e-01],\n",
              "           [9.9526531e-01, 6.3627255e-01, 6.5822572e-01]]],\n",
              "\n",
              "\n",
              "         [[[4.9985203e-01, 6.4604340e+00, 1.1174673e+00],\n",
              "           [8.0776751e-01, 3.2458577e-01, 3.4908071e-01]]]]]],\n",
              "      dtype=float32)>"
            ]
          },
          "metadata": {
            "tags": []
          },
          "execution_count": 37
        }
      ]
    },
    {
      "cell_type": "code",
      "metadata": {
        "colab": {
          "base_uri": "https://localhost:8080/"
        },
        "id": "HYOTb0XaOk5q",
        "outputId": "78ce3f37-f747-4ee8-dc13-fd8049563cc3"
      },
      "source": [
        "import tensorflow_probability as tfp\n",
        "tfd = tfp.distributions\n",
        "\n",
        "rates = [\n",
        "        [[[1., 1.5, 0.8], [0.3, 0.4, 1.8]]],\n",
        "        [[[0.2, 0.4, 1.4], [0.4, 1.1, 0.9]]]\n",
        "]\n",
        "\n",
        "exp = tfd.Exponential(rate=rates)\n",
        "                 \n",
        "ind_exp = tfd.Independent(exp, reinterpreted_batch_ndims=2)\n",
        "ind_exp.log_prob(0.5)"
      ],
      "execution_count": 38,
      "outputs": [
        {
          "output_type": "execute_result",
          "data": {
            "text/plain": [
              "<tf.Tensor: shape=(2, 1), dtype=float32, numpy=\n",
              "array([[-4.2501554],\n",
              "       [-5.3155975]], dtype=float32)>"
            ]
          },
          "metadata": {
            "tags": []
          },
          "execution_count": 38
        }
      ]
    },
    {
      "cell_type": "code",
      "metadata": {
        "colab": {
          "base_uri": "https://localhost:8080/"
        },
        "id": "4j7qTWQ8V2N1",
        "outputId": "2c29666b-17d5-4428-c88f-c8efcfb2b144"
      },
      "source": [
        "import tensorflow_probability as tfp\n",
        "tfd = tfp.distributions\n",
        "\n",
        "rates = [\n",
        "        [[[1., 1.5, 0.8], [0.3, 0.4, 1.8]]],\n",
        "        [[[0.2, 0.4, 1.4], [0.4, 1.1, 0.9]]]\n",
        "]\n",
        "\n",
        "exp = tfd.Exponential(rate=rates)\n",
        "                 \n",
        "ind_exp = tfd.Independent(exp, reinterpreted_batch_ndims=2)\n",
        "ind_exp.log_prob([[0.3, 0.5, 0.8]]) # Shape - (1, 3)"
      ],
      "execution_count": 39,
      "outputs": [
        {
          "output_type": "execute_result",
          "data": {
            "text/plain": [
              "<tf.Tensor: shape=(2, 1), dtype=float32, numpy=\n",
              "array([[-4.7701554],\n",
              "       [-5.885597 ]], dtype=float32)>"
            ]
          },
          "metadata": {
            "tags": []
          },
          "execution_count": 39
        }
      ]
    },
    {
      "cell_type": "code",
      "metadata": {
        "colab": {
          "base_uri": "https://localhost:8080/"
        },
        "id": "cmr5Nty7ZkrT",
        "outputId": "ae25ae3f-739f-4aa1-9206-6984e6bf9dd8"
      },
      "source": [
        "import tensorflow as tf\n",
        "import tensorflow_probability as tfp\n",
        "tfd = tfp.distributions\n",
        "\n",
        "rates = [\n",
        "        [[[1., 1.5, 0.8], [0.3, 0.4, 1.8]]],\n",
        "        [[[0.2, 0.4, 1.4], [0.4, 1.1, 0.9]]]\n",
        "]\n",
        "\n",
        "exp = tfd.Exponential(rate=rates)\n",
        "                 \n",
        "ind_exp = tfd.Independent(exp, reinterpreted_batch_ndims=2)\n",
        "ind_exp.log_prob(tf.random.uniform((5, 1, 1, 2, 1)))"
      ],
      "execution_count": 40,
      "outputs": [
        {
          "output_type": "execute_result",
          "data": {
            "text/plain": [
              "<tf.Tensor: shape=(5, 2, 1), dtype=float32, numpy=\n",
              "array([[[-6.9080343],\n",
              "        [-7.333054 ]],\n",
              "\n",
              "       [[-6.4038982],\n",
              "        [-6.862806 ]],\n",
              "\n",
              "       [[-6.4223037],\n",
              "        [-6.8415303]],\n",
              "\n",
              "       [[-4.29704  ],\n",
              "        [-5.372185 ]],\n",
              "\n",
              "       [[-6.05631  ],\n",
              "        [-6.814649 ]]], dtype=float32)>"
            ]
          },
          "metadata": {
            "tags": []
          },
          "execution_count": 40
        }
      ]
    },
    {
      "cell_type": "markdown",
      "metadata": {
        "id": "AN4cyMl5cjQ1"
      },
      "source": [
        "__Que__"
      ]
    },
    {
      "cell_type": "code",
      "metadata": {
        "colab": {
          "base_uri": "https://localhost:8080/"
        },
        "id": "V7SpuUjMchjL",
        "outputId": "ebbaa52a-ad92-456e-d256-eb8bcaa666dc"
      },
      "source": [
        "import tensorflow as tf\n",
        "import tensorflow_probability as tfp\n",
        "tfd = tfp.distributions\n",
        "\n",
        "loc = tf.zeros((2, 3, 1))\n",
        "scale_diag = tf.ones(4)\n",
        "dist = tfd.Independent(tfd.MultivariateNormalDiag(loc=loc, scale_diag=scale_diag))\n",
        "\n",
        "dist.log_prob(tf.random.uniform((2, 1, 1, 4)))"
      ],
      "execution_count": 41,
      "outputs": [
        {
          "output_type": "execute_result",
          "data": {
            "text/plain": [
              "<tf.Tensor: shape=(2, 2), dtype=float32, numpy=\n",
              "array([[-12.895037, -12.895037],\n",
              "       [-13.7799  , -13.7799  ]], dtype=float32)>"
            ]
          },
          "metadata": {
            "tags": []
          },
          "execution_count": 41
        }
      ]
    },
    {
      "cell_type": "markdown",
      "metadata": {
        "id": "2v2aM6Wa1v_A"
      },
      "source": [
        "\n",
        "## __e) Trainable distributions__\n",
        "\n"
      ]
    },
    {
      "cell_type": "code",
      "metadata": {
        "id": "aKYbg0YD2J6q",
        "colab": {
          "base_uri": "https://localhost:8080/"
        },
        "outputId": "f53505fb-1067-4e17-b040-d2e4233e5cc7"
      },
      "source": [
        "import tensorflow as tf\n",
        "import tensorflow_probability as tfp\n",
        "tfd = tfp.distributions\n",
        "\n",
        "normal = tfd.Normal(loc=tf.Variable(0., name='loc'), scale=1.)\n",
        "normal.trainable_variables"
      ],
      "execution_count": 42,
      "outputs": [
        {
          "output_type": "execute_result",
          "data": {
            "text/plain": [
              "(<tf.Variable 'loc:0' shape=() dtype=float32, numpy=0.0>,)"
            ]
          },
          "metadata": {
            "tags": []
          },
          "execution_count": 42
        }
      ]
    },
    {
      "cell_type": "code",
      "metadata": {
        "id": "muDl9CT0Rflp"
      },
      "source": [
        "import tensorflow as tf\n",
        "import tensorflow_probability as tfp\n",
        "tfd = tfp.distributions\n",
        "\n",
        "normal = tfd.Normal(loc=tf.Variable(0., name='loc'), scale=1.)\n",
        "\n",
        "def nll(x_train):  # Defining the negative log likelihood(nll)\n",
        "    return -tf.reduce_mean(normal.log_prob(x_train))\n",
        "\n",
        "'''\n",
        "This function get_loss_and_grads takes a batch of training examples as an input\n",
        "and computes the loss and gradients for our model.\n",
        "'''\n",
        "@tf.function\n",
        "def get_loss_and_grads(x_train):\n",
        "    with tf.GradientTape() as tape:\n",
        "        tape.watch(normal.trainable_variables)\n",
        "        loss = nll(x_train)\n",
        "    grads = tape.gradient(loss, normal.trainable_variables)\n",
        "    return loss, grads\n",
        "\n",
        "optimizer = tf.keras.optimizers.SGD(learning_rate=0.05)\n",
        "\n",
        "for _ in range(num_steps):\n",
        "    loss, grads = get_loss_and_grads(x_samples)\n",
        "    optimizer.apply_gradients(zip(grads, normal.trainable_variables))"
      ],
      "execution_count": null,
      "outputs": []
    }
  ]
}